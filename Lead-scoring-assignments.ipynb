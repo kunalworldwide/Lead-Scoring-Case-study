{
 "cells": [
  {
   "cell_type": "code",
   "execution_count": 105,
   "metadata": {},
   "outputs": [],
   "source": [
    "#importing all the required packages\n",
    "import numpy as np\n",
    "import pandas as pd\n",
    "import matplotlib.pyplot as plt\n",
    "import seaborn as sns\n",
    "from sklearn.model_selection import train_test_split\n",
    "from sklearn.preprocessing import StandardScaler\n",
    "from sklearn.linear_model import LogisticRegression\n",
    "from sklearn.metrics import mean_squared_error, r2_score\n",
    "from sklearn.feature_selection import SelectKBest, f_regression, RFE\n",
    "from statsmodels.stats.outliers_influence import variance_inflation_factor\n",
    "from sklearn import metrics\n",
    "import statsmodels.api as sm\n",
    "from sklearn.metrics import confusion_matrix\n",
    "from sklearn.metrics import accuracy_score\n",
    "from sklearn.metrics import roc_curve, auc\n",
    "from sklearn.metrics import precision_score, recall_score\n",
    "from sklearn.metrics import precision_recall_curve\n",
    "\n",
    "\n",
    "\n",
    "\n",
    "import warnings\n",
    "warnings.filterwarnings('ignore')\n",
    "\n",
    "import warnings\n",
    "warnings.filterwarnings('ignore')"
   ]
  },
  {
   "attachments": {},
   "cell_type": "markdown",
   "metadata": {},
   "source": [
    "<h1>Step 1: Data Collection</h1>"
   ]
  },
  {
   "attachments": {},
   "cell_type": "markdown",
   "metadata": {},
   "source": [
    "* Load the Dataset"
   ]
  },
  {
   "cell_type": "code",
   "execution_count": 2,
   "metadata": {},
   "outputs": [],
   "source": [
    "import pandas as pd\n",
    "import numpy as np\n",
    "\n",
    "# Read the leads.csv file\n",
    "df = pd.read_csv('Files/leads.csv')\n"
   ]
  },
  {
   "attachments": {},
   "cell_type": "markdown",
   "metadata": {},
   "source": [
    "* Explore the Dataset"
   ]
  },
  {
   "cell_type": "code",
   "execution_count": 3,
   "metadata": {},
   "outputs": [
    {
     "name": "stdout",
     "output_type": "stream",
     "text": [
      "                            Prospect ID  Lead Number              Lead Origin  \\\n",
      "0  7927b2df-8bba-4d29-b9a2-b6e0beafe620       660737                      API   \n",
      "1  2a272436-5132-4136-86fa-dcc88c88f482       660728                      API   \n",
      "2  8cc8c611-a219-4f35-ad23-fdfd2656bd8a       660727  Landing Page Submission   \n",
      "3  0cc2df48-7cf4-4e39-9de9-19797f9b38cc       660719  Landing Page Submission   \n",
      "4  3256f628-e534-4826-9d63-4a8b88782852       660681  Landing Page Submission   \n",
      "\n",
      "      Lead Source Do Not Email Do Not Call  Converted  TotalVisits  \\\n",
      "0      Olark Chat           No          No          0          0.0   \n",
      "1  Organic Search           No          No          0          5.0   \n",
      "2  Direct Traffic           No          No          1          2.0   \n",
      "3  Direct Traffic           No          No          0          1.0   \n",
      "4          Google           No          No          1          2.0   \n",
      "\n",
      "   Total Time Spent on Website  Page Views Per Visit  ...  \\\n",
      "0                            0                   0.0  ...   \n",
      "1                          674                   2.5  ...   \n",
      "2                         1532                   2.0  ...   \n",
      "3                          305                   1.0  ...   \n",
      "4                         1428                   1.0  ...   \n",
      "\n",
      "  Get updates on DM Content    Lead Profile    City  \\\n",
      "0                        No          Select  Select   \n",
      "1                        No          Select  Select   \n",
      "2                        No  Potential Lead  Mumbai   \n",
      "3                        No          Select  Mumbai   \n",
      "4                        No          Select  Mumbai   \n",
      "\n",
      "  Asymmetrique Activity Index Asymmetrique Profile Index  \\\n",
      "0                   02.Medium                  02.Medium   \n",
      "1                   02.Medium                  02.Medium   \n",
      "2                   02.Medium                    01.High   \n",
      "3                   02.Medium                    01.High   \n",
      "4                   02.Medium                    01.High   \n",
      "\n",
      "  Asymmetrique Activity Score Asymmetrique Profile Score  \\\n",
      "0                        15.0                       15.0   \n",
      "1                        15.0                       15.0   \n",
      "2                        14.0                       20.0   \n",
      "3                        13.0                       17.0   \n",
      "4                        15.0                       18.0   \n",
      "\n",
      "  I agree to pay the amount through cheque  \\\n",
      "0                                       No   \n",
      "1                                       No   \n",
      "2                                       No   \n",
      "3                                       No   \n",
      "4                                       No   \n",
      "\n",
      "  A free copy of Mastering The Interview Last Notable Activity  \n",
      "0                                     No              Modified  \n",
      "1                                     No          Email Opened  \n",
      "2                                    Yes          Email Opened  \n",
      "3                                     No              Modified  \n",
      "4                                     No              Modified  \n",
      "\n",
      "[5 rows x 37 columns]\n",
      "Shape of the dataset: (9240, 37)\n",
      "Column names: Index(['Prospect ID', 'Lead Number', 'Lead Origin', 'Lead Source',\n",
      "       'Do Not Email', 'Do Not Call', 'Converted', 'TotalVisits',\n",
      "       'Total Time Spent on Website', 'Page Views Per Visit', 'Last Activity',\n",
      "       'Country', 'Specialization', 'How did you hear about X Education',\n",
      "       'What is your current occupation',\n",
      "       'What matters most to you in choosing a course', 'Search', 'Magazine',\n",
      "       'Newspaper Article', 'X Education Forums', 'Newspaper',\n",
      "       'Digital Advertisement', 'Through Recommendations',\n",
      "       'Receive More Updates About Our Courses', 'Tags', 'Lead Quality',\n",
      "       'Update me on Supply Chain Content', 'Get updates on DM Content',\n",
      "       'Lead Profile', 'City', 'Asymmetrique Activity Index',\n",
      "       'Asymmetrique Profile Index', 'Asymmetrique Activity Score',\n",
      "       'Asymmetrique Profile Score',\n",
      "       'I agree to pay the amount through cheque',\n",
      "       'A free copy of Mastering The Interview', 'Last Notable Activity'],\n",
      "      dtype='object')\n",
      "<class 'pandas.core.frame.DataFrame'>\n",
      "RangeIndex: 9240 entries, 0 to 9239\n",
      "Data columns (total 37 columns):\n",
      " #   Column                                         Non-Null Count  Dtype  \n",
      "---  ------                                         --------------  -----  \n",
      " 0   Prospect ID                                    9240 non-null   object \n",
      " 1   Lead Number                                    9240 non-null   int64  \n",
      " 2   Lead Origin                                    9240 non-null   object \n",
      " 3   Lead Source                                    9204 non-null   object \n",
      " 4   Do Not Email                                   9240 non-null   object \n",
      " 5   Do Not Call                                    9240 non-null   object \n",
      " 6   Converted                                      9240 non-null   int64  \n",
      " 7   TotalVisits                                    9103 non-null   float64\n",
      " 8   Total Time Spent on Website                    9240 non-null   int64  \n",
      " 9   Page Views Per Visit                           9103 non-null   float64\n",
      " 10  Last Activity                                  9137 non-null   object \n",
      " 11  Country                                        6779 non-null   object \n",
      " 12  Specialization                                 7802 non-null   object \n",
      " 13  How did you hear about X Education             7033 non-null   object \n",
      " 14  What is your current occupation                6550 non-null   object \n",
      " 15  What matters most to you in choosing a course  6531 non-null   object \n",
      " 16  Search                                         9240 non-null   object \n",
      " 17  Magazine                                       9240 non-null   object \n",
      " 18  Newspaper Article                              9240 non-null   object \n",
      " 19  X Education Forums                             9240 non-null   object \n",
      " 20  Newspaper                                      9240 non-null   object \n",
      " 21  Digital Advertisement                          9240 non-null   object \n",
      " 22  Through Recommendations                        9240 non-null   object \n",
      " 23  Receive More Updates About Our Courses         9240 non-null   object \n",
      " 24  Tags                                           5887 non-null   object \n",
      " 25  Lead Quality                                   4473 non-null   object \n",
      " 26  Update me on Supply Chain Content              9240 non-null   object \n",
      " 27  Get updates on DM Content                      9240 non-null   object \n",
      " 28  Lead Profile                                   6531 non-null   object \n",
      " 29  City                                           7820 non-null   object \n",
      " 30  Asymmetrique Activity Index                    5022 non-null   object \n",
      " 31  Asymmetrique Profile Index                     5022 non-null   object \n",
      " 32  Asymmetrique Activity Score                    5022 non-null   float64\n",
      " 33  Asymmetrique Profile Score                     5022 non-null   float64\n",
      " 34  I agree to pay the amount through cheque       9240 non-null   object \n",
      " 35  A free copy of Mastering The Interview         9240 non-null   object \n",
      " 36  Last Notable Activity                          9240 non-null   object \n",
      "dtypes: float64(4), int64(3), object(30)\n",
      "memory usage: 2.6+ MB\n",
      "None\n",
      "         Lead Number    Converted  TotalVisits  Total Time Spent on Website  \\\n",
      "count    9240.000000  9240.000000  9103.000000                  9240.000000   \n",
      "mean   617188.435606     0.385390     3.445238                   487.698268   \n",
      "std     23405.995698     0.486714     4.854853                   548.021466   \n",
      "min    579533.000000     0.000000     0.000000                     0.000000   \n",
      "25%    596484.500000     0.000000     1.000000                    12.000000   \n",
      "50%    615479.000000     0.000000     3.000000                   248.000000   \n",
      "75%    637387.250000     1.000000     5.000000                   936.000000   \n",
      "max    660737.000000     1.000000   251.000000                  2272.000000   \n",
      "\n",
      "       Page Views Per Visit  Asymmetrique Activity Score  \\\n",
      "count           9103.000000                  5022.000000   \n",
      "mean               2.362820                    14.306252   \n",
      "std                2.161418                     1.386694   \n",
      "min                0.000000                     7.000000   \n",
      "25%                1.000000                    14.000000   \n",
      "50%                2.000000                    14.000000   \n",
      "75%                3.000000                    15.000000   \n",
      "max               55.000000                    18.000000   \n",
      "\n",
      "       Asymmetrique Profile Score  \n",
      "count                 5022.000000  \n",
      "mean                    16.344883  \n",
      "std                      1.811395  \n",
      "min                     11.000000  \n",
      "25%                     15.000000  \n",
      "50%                     16.000000  \n",
      "75%                     18.000000  \n",
      "max                     20.000000  \n"
     ]
    }
   ],
   "source": [
    "# Display the first few rows of the dataset\n",
    "print(df.head())\n",
    "\n",
    "# Check the number of rows and columns in the dataset\n",
    "print(\"Shape of the dataset:\", df.shape)\n",
    "\n",
    "# Review the column names\n",
    "print(\"Column names:\", df.columns)\n",
    "\n",
    "# Get summary information about the dataset\n",
    "print(df.info())\n",
    "\n",
    "# Calculate descriptive statistics for numeric variables\n",
    "print(df.describe())\n"
   ]
  },
  {
   "attachments": {},
   "cell_type": "markdown",
   "metadata": {},
   "source": [
    "* Identify the Target Variable"
   ]
  },
  {
   "cell_type": "code",
   "execution_count": 4,
   "metadata": {},
   "outputs": [],
   "source": [
    "# \"Converted\" is the target variable\n",
    "target_variable = 'Converted'"
   ]
  },
  {
   "attachments": {},
   "cell_type": "markdown",
   "metadata": {},
   "source": [
    "* Review Data Types"
   ]
  },
  {
   "cell_type": "code",
   "execution_count": 5,
   "metadata": {},
   "outputs": [
    {
     "name": "stdout",
     "output_type": "stream",
     "text": [
      "Prospect ID                                       object\n",
      "Lead Number                                        int64\n",
      "Lead Origin                                       object\n",
      "Lead Source                                       object\n",
      "Do Not Email                                      object\n",
      "Do Not Call                                       object\n",
      "Converted                                          int64\n",
      "TotalVisits                                      float64\n",
      "Total Time Spent on Website                        int64\n",
      "Page Views Per Visit                             float64\n",
      "Last Activity                                     object\n",
      "Country                                           object\n",
      "Specialization                                    object\n",
      "How did you hear about X Education                object\n",
      "What is your current occupation                   object\n",
      "What matters most to you in choosing a course     object\n",
      "Search                                            object\n",
      "Magazine                                          object\n",
      "Newspaper Article                                 object\n",
      "X Education Forums                                object\n",
      "Newspaper                                         object\n",
      "Digital Advertisement                             object\n",
      "Through Recommendations                           object\n",
      "Receive More Updates About Our Courses            object\n",
      "Tags                                              object\n",
      "Lead Quality                                      object\n",
      "Update me on Supply Chain Content                 object\n",
      "Get updates on DM Content                         object\n",
      "Lead Profile                                      object\n",
      "City                                              object\n",
      "Asymmetrique Activity Index                       object\n",
      "Asymmetrique Profile Index                        object\n",
      "Asymmetrique Activity Score                      float64\n",
      "Asymmetrique Profile Score                       float64\n",
      "I agree to pay the amount through cheque          object\n",
      "A free copy of Mastering The Interview            object\n",
      "Last Notable Activity                             object\n",
      "dtype: object\n"
     ]
    }
   ],
   "source": [
    "# Check the data types of each variable\n",
    "print(df.dtypes)"
   ]
  },
  {
   "attachments": {},
   "cell_type": "markdown",
   "metadata": {},
   "source": [
    "* Assess Data Quality"
   ]
  },
  {
   "cell_type": "code",
   "execution_count": 6,
   "metadata": {},
   "outputs": [
    {
     "name": "stdout",
     "output_type": "stream",
     "text": [
      "Prospect ID                                         0\n",
      "Lead Number                                         0\n",
      "Lead Origin                                         0\n",
      "Lead Source                                        36\n",
      "Do Not Email                                        0\n",
      "Do Not Call                                         0\n",
      "Converted                                           0\n",
      "TotalVisits                                       137\n",
      "Total Time Spent on Website                         0\n",
      "Page Views Per Visit                              137\n",
      "Last Activity                                     103\n",
      "Country                                          2461\n",
      "Specialization                                   1438\n",
      "How did you hear about X Education               2207\n",
      "What is your current occupation                  2690\n",
      "What matters most to you in choosing a course    2709\n",
      "Search                                              0\n",
      "Magazine                                            0\n",
      "Newspaper Article                                   0\n",
      "X Education Forums                                  0\n",
      "Newspaper                                           0\n",
      "Digital Advertisement                               0\n",
      "Through Recommendations                             0\n",
      "Receive More Updates About Our Courses              0\n",
      "Tags                                             3353\n",
      "Lead Quality                                     4767\n",
      "Update me on Supply Chain Content                   0\n",
      "Get updates on DM Content                           0\n",
      "Lead Profile                                     2709\n",
      "City                                             1420\n",
      "Asymmetrique Activity Index                      4218\n",
      "Asymmetrique Profile Index                       4218\n",
      "Asymmetrique Activity Score                      4218\n",
      "Asymmetrique Profile Score                       4218\n",
      "I agree to pay the amount through cheque            0\n",
      "A free copy of Mastering The Interview              0\n",
      "Last Notable Activity                               0\n",
      "dtype: int64\n",
      "Number of duplicates: 0\n"
     ]
    }
   ],
   "source": [
    "# Check for missing values\n",
    "print(df.isnull().sum())\n",
    "\n",
    "# Check for duplicates\n",
    "print(\"Number of duplicates:\", df.duplicated().sum())\n"
   ]
  },
  {
   "attachments": {},
   "cell_type": "markdown",
   "metadata": {},
   "source": [
    "<h1>Step 2 : Data Preprocessing</h1>\n"
   ]
  },
  {
   "attachments": {},
   "cell_type": "markdown",
   "metadata": {},
   "source": [
    "* Data Cleaning"
   ]
  },
  {
   "attachments": {},
   "cell_type": "markdown",
   "metadata": {},
   "source": [
    "identify columns with missing values"
   ]
  },
  {
   "cell_type": "code",
   "execution_count": 7,
   "metadata": {},
   "outputs": [
    {
     "name": "stdout",
     "output_type": "stream",
     "text": [
      "Prospect ID                                         0\n",
      "Lead Number                                         0\n",
      "Lead Origin                                         0\n",
      "Lead Source                                        36\n",
      "Do Not Email                                        0\n",
      "Do Not Call                                         0\n",
      "Converted                                           0\n",
      "TotalVisits                                       137\n",
      "Total Time Spent on Website                         0\n",
      "Page Views Per Visit                              137\n",
      "Last Activity                                     103\n",
      "Country                                          2461\n",
      "Specialization                                   1438\n",
      "How did you hear about X Education               2207\n",
      "What is your current occupation                  2690\n",
      "What matters most to you in choosing a course    2709\n",
      "Search                                              0\n",
      "Magazine                                            0\n",
      "Newspaper Article                                   0\n",
      "X Education Forums                                  0\n",
      "Newspaper                                           0\n",
      "Digital Advertisement                               0\n",
      "Through Recommendations                             0\n",
      "Receive More Updates About Our Courses              0\n",
      "Tags                                             3353\n",
      "Lead Quality                                     4767\n",
      "Update me on Supply Chain Content                   0\n",
      "Get updates on DM Content                           0\n",
      "Lead Profile                                     2709\n",
      "City                                             1420\n",
      "Asymmetrique Activity Index                      4218\n",
      "Asymmetrique Profile Index                       4218\n",
      "Asymmetrique Activity Score                      4218\n",
      "Asymmetrique Profile Score                       4218\n",
      "I agree to pay the amount through cheque            0\n",
      "A free copy of Mastering The Interview              0\n",
      "Last Notable Activity                               0\n",
      "dtype: int64\n"
     ]
    }
   ],
   "source": [
    "print(df.isnull().sum())"
   ]
  },
  {
   "attachments": {},
   "cell_type": "markdown",
   "metadata": {},
   "source": [
    "Based on the missing value counts, we have several columns with missing values. To decide how to handle these missing values, it's important to understand the nature of the data and the context of each column.\n",
    "Some common strategies for handling missing values include:\n",
    "* Dropping columns with a high percentage of missing values.\n",
    "* Dropping rows with missing values, especially if the number of missing values is relatively small compared to the total dataset size.\n",
    "* Imputing missing values using methods such as mean, median, mode, or regression."
   ]
  },
  {
   "attachments": {},
   "cell_type": "markdown",
   "metadata": {},
   "source": [
    "To drop columns with a high percentage of missing values, we can set a threshold value and drop the columns that have missing values exceeding that threshold. below code  that drops columns with missing values exceeding a threshold of 30%"
   ]
  },
  {
   "cell_type": "code",
   "execution_count": 8,
   "metadata": {},
   "outputs": [
    {
     "name": "stdout",
     "output_type": "stream",
     "text": [
      "                            Prospect ID  Lead Number              Lead Origin  \\\n",
      "0  7927b2df-8bba-4d29-b9a2-b6e0beafe620       660737                      API   \n",
      "1  2a272436-5132-4136-86fa-dcc88c88f482       660728                      API   \n",
      "2  8cc8c611-a219-4f35-ad23-fdfd2656bd8a       660727  Landing Page Submission   \n",
      "3  0cc2df48-7cf4-4e39-9de9-19797f9b38cc       660719  Landing Page Submission   \n",
      "4  3256f628-e534-4826-9d63-4a8b88782852       660681  Landing Page Submission   \n",
      "\n",
      "      Lead Source Do Not Email Do Not Call  Converted  TotalVisits  \\\n",
      "0      Olark Chat           No          No          0          0.0   \n",
      "1  Organic Search           No          No          0          5.0   \n",
      "2  Direct Traffic           No          No          1          2.0   \n",
      "3  Direct Traffic           No          No          0          1.0   \n",
      "4          Google           No          No          1          2.0   \n",
      "\n",
      "   Total Time Spent on Website  Page Views Per Visit  ...  \\\n",
      "0                            0                   0.0  ...   \n",
      "1                          674                   2.5  ...   \n",
      "2                         1532                   2.0  ...   \n",
      "3                          305                   1.0  ...   \n",
      "4                         1428                   1.0  ...   \n",
      "\n",
      "  Digital Advertisement Through Recommendations  \\\n",
      "0                    No                      No   \n",
      "1                    No                      No   \n",
      "2                    No                      No   \n",
      "3                    No                      No   \n",
      "4                    No                      No   \n",
      "\n",
      "  Receive More Updates About Our Courses Update me on Supply Chain Content  \\\n",
      "0                                     No                                No   \n",
      "1                                     No                                No   \n",
      "2                                     No                                No   \n",
      "3                                     No                                No   \n",
      "4                                     No                                No   \n",
      "\n",
      "  Get updates on DM Content    Lead Profile    City  \\\n",
      "0                        No          Select  Select   \n",
      "1                        No          Select  Select   \n",
      "2                        No  Potential Lead  Mumbai   \n",
      "3                        No          Select  Mumbai   \n",
      "4                        No          Select  Mumbai   \n",
      "\n",
      "  I agree to pay the amount through cheque  \\\n",
      "0                                       No   \n",
      "1                                       No   \n",
      "2                                       No   \n",
      "3                                       No   \n",
      "4                                       No   \n",
      "\n",
      "  A free copy of Mastering The Interview Last Notable Activity  \n",
      "0                                     No              Modified  \n",
      "1                                     No          Email Opened  \n",
      "2                                    Yes          Email Opened  \n",
      "3                                     No              Modified  \n",
      "4                                     No              Modified  \n",
      "\n",
      "[5 rows x 31 columns]\n"
     ]
    }
   ],
   "source": [
    "threshold = 0.3  # Set the threshold to 30% missing values\n",
    "\n",
    "# Calculate the percentage of missing values in each column\n",
    "missing_percentage = df.isnull().mean()\n",
    "\n",
    "# Get the columns to drop based on the threshold\n",
    "columns_to_drop = missing_percentage[missing_percentage > threshold].index\n",
    "\n",
    "# Drop the columns from the DataFrame\n",
    "df_dropped_columns = df.drop(columns=columns_to_drop)\n",
    "\n",
    "# Print the updated DataFrame\n",
    "print(df_dropped_columns.head())\n"
   ]
  },
  {
   "cell_type": "code",
   "execution_count": 9,
   "metadata": {},
   "outputs": [],
   "source": [
    "df = df.replace('Select',np.nan)"
   ]
  },
  {
   "cell_type": "code",
   "execution_count": 10,
   "metadata": {},
   "outputs": [
    {
     "data": {
      "text/plain": [
       "Prospect ID                                       0.00\n",
       "Lead Number                                       0.00\n",
       "Lead Origin                                       0.00\n",
       "Lead Source                                       0.39\n",
       "Do Not Email                                      0.00\n",
       "Do Not Call                                       0.00\n",
       "Converted                                         0.00\n",
       "TotalVisits                                       1.48\n",
       "Total Time Spent on Website                       0.00\n",
       "Page Views Per Visit                              1.48\n",
       "Last Activity                                     1.11\n",
       "Country                                          26.63\n",
       "Specialization                                   15.56\n",
       "How did you hear about X Education               23.89\n",
       "What is your current occupation                  29.11\n",
       "What matters most to you in choosing a course    29.32\n",
       "Search                                            0.00\n",
       "Magazine                                          0.00\n",
       "Newspaper Article                                 0.00\n",
       "X Education Forums                                0.00\n",
       "Newspaper                                         0.00\n",
       "Digital Advertisement                             0.00\n",
       "Through Recommendations                           0.00\n",
       "Receive More Updates About Our Courses            0.00\n",
       "Update me on Supply Chain Content                 0.00\n",
       "Get updates on DM Content                         0.00\n",
       "Lead Profile                                     29.32\n",
       "City                                             15.37\n",
       "I agree to pay the amount through cheque          0.00\n",
       "A free copy of Mastering The Interview            0.00\n",
       "Last Notable Activity                             0.00\n",
       "dtype: float64"
      ]
     },
     "execution_count": 10,
     "metadata": {},
     "output_type": "execute_result"
    }
   ],
   "source": [
    "# check for percentage of null values in each column after dropping columns having more than 30 % null values\n",
    "\n",
    "round(100*(df_dropped_columns.isnull().sum()/len(df_dropped_columns.index)), 2)"
   ]
  },
  {
   "attachments": {},
   "cell_type": "markdown",
   "metadata": {},
   "source": [
    "The below columns still has high null values let's individually check and handle them\n",
    "* Country   \n",
    "* Specialization        \n",
    "* How did you hear about X Education           \n",
    "* What is your current occupation       \n",
    "* What matters most to you in choosing a course    \n",
    "* Lead Profile   \n",
    "* City  "
   ]
  },
  {
   "cell_type": "code",
   "execution_count": 11,
   "metadata": {},
   "outputs": [
    {
     "data": {
      "text/plain": [
       "India                   6492\n",
       "United States             69\n",
       "United Arab Emirates      53\n",
       "Singapore                 24\n",
       "Saudi Arabia              21\n",
       "United Kingdom            15\n",
       "Australia                 13\n",
       "Qatar                     10\n",
       "Hong Kong                  7\n",
       "Bahrain                    7\n",
       "Oman                       6\n",
       "France                     6\n",
       "unknown                    5\n",
       "South Africa               4\n",
       "Nigeria                    4\n",
       "Germany                    4\n",
       "Kuwait                     4\n",
       "Canada                     4\n",
       "Sweden                     3\n",
       "China                      2\n",
       "Asia/Pacific Region        2\n",
       "Uganda                     2\n",
       "Bangladesh                 2\n",
       "Italy                      2\n",
       "Belgium                    2\n",
       "Netherlands                2\n",
       "Ghana                      2\n",
       "Philippines                2\n",
       "Russia                     1\n",
       "Switzerland                1\n",
       "Vietnam                    1\n",
       "Denmark                    1\n",
       "Tanzania                   1\n",
       "Liberia                    1\n",
       "Malaysia                   1\n",
       "Kenya                      1\n",
       "Sri Lanka                  1\n",
       "Indonesia                  1\n",
       "Name: Country, dtype: int64"
      ]
     },
     "execution_count": 11,
     "metadata": {},
     "output_type": "execute_result"
    }
   ],
   "source": [
    "df_dropped_columns['Country'].value_counts()"
   ]
  },
  {
   "attachments": {},
   "cell_type": "markdown",
   "metadata": {},
   "source": [
    "* Country: maximum is from India so we can drop this column"
   ]
  },
  {
   "cell_type": "code",
   "execution_count": 12,
   "metadata": {},
   "outputs": [],
   "source": [
    "df_dropped_columns = df_dropped_columns.drop('Country', axis=1)"
   ]
  },
  {
   "attachments": {},
   "cell_type": "markdown",
   "metadata": {},
   "source": [
    "* Specialization:\n",
    "For the 'Specialization' column, we can replace missing values with the string \"Not Specified\" to indicate that the information was not provided.\n"
   ]
  },
  {
   "cell_type": "code",
   "execution_count": 13,
   "metadata": {},
   "outputs": [],
   "source": [
    "df_dropped_columns['Specialization'] = df_dropped_columns['Specialization'].fillna('Not Specified')"
   ]
  },
  {
   "cell_type": "code",
   "execution_count": 14,
   "metadata": {},
   "outputs": [
    {
     "data": {
      "text/plain": [
       "Select                   5043\n",
       "Online Search             808\n",
       "Word Of Mouth             348\n",
       "Student of SomeSchool     310\n",
       "Other                     186\n",
       "Multiple Sources          152\n",
       "Advertisements             70\n",
       "Social Media               67\n",
       "Email                      26\n",
       "SMS                        23\n",
       "Name: How did you hear about X Education, dtype: int64"
      ]
     },
     "execution_count": 14,
     "metadata": {},
     "output_type": "execute_result"
    }
   ],
   "source": [
    "df_dropped_columns['How did you hear about X Education'].value_counts()"
   ]
  },
  {
   "attachments": {},
   "cell_type": "markdown",
   "metadata": {},
   "source": [
    "* How did you hear about X Education:\n",
    "Similarly, for the 'How did you hear about X Education' column, we can drop as most of the values are select or not specified"
   ]
  },
  {
   "cell_type": "code",
   "execution_count": 15,
   "metadata": {},
   "outputs": [],
   "source": [
    "df_dropped_columns = df_dropped_columns.drop('How did you hear about X Education', axis=1)"
   ]
  },
  {
   "attachments": {},
   "cell_type": "markdown",
   "metadata": {},
   "source": [
    "* What is your current occupation:\n",
    "For the 'What is your current occupation' column, we can replace missing values with the mode (most frequent value) since it's a categorical variable."
   ]
  },
  {
   "cell_type": "code",
   "execution_count": 16,
   "metadata": {},
   "outputs": [],
   "source": [
    "df_dropped_columns['What is your current occupation'] = df_dropped_columns['What is your current occupation'].fillna('Unemployed')"
   ]
  },
  {
   "attachments": {},
   "cell_type": "markdown",
   "metadata": {},
   "source": [
    "* What matters most to you in choosing a course:\n",
    "Since the 'What matters most to you in choosing a course' column has a high percentage of missing values, it might be better to drop this column."
   ]
  },
  {
   "cell_type": "code",
   "execution_count": 17,
   "metadata": {},
   "outputs": [],
   "source": [
    "df_dropped_columns.drop('What matters most to you in choosing a course', axis=1, inplace=True)"
   ]
  },
  {
   "attachments": {},
   "cell_type": "markdown",
   "metadata": {},
   "source": [
    "* Lead Profile:\n",
    "For the 'Lead Profile' column, we can replace missing values with the string \"Not Specified\"."
   ]
  },
  {
   "cell_type": "code",
   "execution_count": 18,
   "metadata": {},
   "outputs": [],
   "source": [
    "df_dropped_columns['Lead Profile'] = df_dropped_columns['Lead Profile'].fillna('Not Specified')"
   ]
  },
  {
   "attachments": {},
   "cell_type": "markdown",
   "metadata": {},
   "source": [
    "* City: For the 'City' column, we can replace missing values with the mode (most frequent value) since it's a categorical variable."
   ]
  },
  {
   "cell_type": "code",
   "execution_count": 19,
   "metadata": {},
   "outputs": [],
   "source": [
    "df_dropped_columns['City'] = df_dropped_columns['City'].fillna(df_dropped_columns['City'].mode()[0])\n"
   ]
  },
  {
   "cell_type": "code",
   "execution_count": 20,
   "metadata": {},
   "outputs": [],
   "source": [
    "df_dropped_columns.drop(['Lead Number'], 1, inplace = True)\n",
    "# too many unique values"
   ]
  },
  {
   "cell_type": "code",
   "execution_count": 21,
   "metadata": {},
   "outputs": [],
   "source": [
    "#drop Prospect ID as its unique identifier\n",
    "df_dropped_columns.drop(['Prospect ID'], 1, inplace = True)"
   ]
  },
  {
   "cell_type": "code",
   "execution_count": 22,
   "metadata": {},
   "outputs": [
    {
     "data": {
      "text/plain": [
       "Lead Origin                                 0.00\n",
       "Lead Source                                 0.39\n",
       "Do Not Email                                0.00\n",
       "Do Not Call                                 0.00\n",
       "Converted                                   0.00\n",
       "TotalVisits                                 1.48\n",
       "Total Time Spent on Website                 0.00\n",
       "Page Views Per Visit                        1.48\n",
       "Last Activity                               1.11\n",
       "Specialization                              0.00\n",
       "What is your current occupation             0.00\n",
       "Search                                      0.00\n",
       "Magazine                                    0.00\n",
       "Newspaper Article                           0.00\n",
       "X Education Forums                          0.00\n",
       "Newspaper                                   0.00\n",
       "Digital Advertisement                       0.00\n",
       "Through Recommendations                     0.00\n",
       "Receive More Updates About Our Courses      0.00\n",
       "Update me on Supply Chain Content           0.00\n",
       "Get updates on DM Content                   0.00\n",
       "Lead Profile                                0.00\n",
       "City                                        0.00\n",
       "I agree to pay the amount through cheque    0.00\n",
       "A free copy of Mastering The Interview      0.00\n",
       "Last Notable Activity                       0.00\n",
       "dtype: float64"
      ]
     },
     "execution_count": 22,
     "metadata": {},
     "output_type": "execute_result"
    }
   ],
   "source": [
    "#checking Null percentages\n",
    "round(100*(df_dropped_columns.isnull().sum()/len(df_dropped_columns.index)), 2)"
   ]
  },
  {
   "cell_type": "code",
   "execution_count": 23,
   "metadata": {},
   "outputs": [],
   "source": [
    "#Now missing values are close to zero so we can drop them\n",
    "df_dropped_columns.dropna(inplace = True)"
   ]
  },
  {
   "cell_type": "code",
   "execution_count": 24,
   "metadata": {},
   "outputs": [
    {
     "data": {
      "text/plain": [
       "Lead Origin                                 0.0\n",
       "Lead Source                                 0.0\n",
       "Do Not Email                                0.0\n",
       "Do Not Call                                 0.0\n",
       "Converted                                   0.0\n",
       "TotalVisits                                 0.0\n",
       "Total Time Spent on Website                 0.0\n",
       "Page Views Per Visit                        0.0\n",
       "Last Activity                               0.0\n",
       "Specialization                              0.0\n",
       "What is your current occupation             0.0\n",
       "Search                                      0.0\n",
       "Magazine                                    0.0\n",
       "Newspaper Article                           0.0\n",
       "X Education Forums                          0.0\n",
       "Newspaper                                   0.0\n",
       "Digital Advertisement                       0.0\n",
       "Through Recommendations                     0.0\n",
       "Receive More Updates About Our Courses      0.0\n",
       "Update me on Supply Chain Content           0.0\n",
       "Get updates on DM Content                   0.0\n",
       "Lead Profile                                0.0\n",
       "City                                        0.0\n",
       "I agree to pay the amount through cheque    0.0\n",
       "A free copy of Mastering The Interview      0.0\n",
       "Last Notable Activity                       0.0\n",
       "dtype: float64"
      ]
     },
     "execution_count": 24,
     "metadata": {},
     "output_type": "execute_result"
    }
   ],
   "source": [
    "#checking Null percentages\n",
    "round(100*(df_dropped_columns.isnull().sum()/len(df_dropped_columns.index)), 2)"
   ]
  },
  {
   "cell_type": "code",
   "execution_count": 25,
   "metadata": {},
   "outputs": [
    {
     "data": {
      "text/plain": [
       "(9240, 37)"
      ]
     },
     "execution_count": 25,
     "metadata": {},
     "output_type": "execute_result"
    }
   ],
   "source": [
    "df.shape"
   ]
  },
  {
   "cell_type": "code",
   "execution_count": 26,
   "metadata": {},
   "outputs": [],
   "source": [
    "df = df_dropped_columns"
   ]
  },
  {
   "cell_type": "code",
   "execution_count": 27,
   "metadata": {},
   "outputs": [
    {
     "data": {
      "text/plain": [
       "Lead Origin                                 0\n",
       "Lead Source                                 0\n",
       "Do Not Email                                0\n",
       "Do Not Call                                 0\n",
       "Converted                                   0\n",
       "TotalVisits                                 0\n",
       "Total Time Spent on Website                 0\n",
       "Page Views Per Visit                        0\n",
       "Last Activity                               0\n",
       "Specialization                              0\n",
       "What is your current occupation             0\n",
       "Search                                      0\n",
       "Magazine                                    0\n",
       "Newspaper Article                           0\n",
       "X Education Forums                          0\n",
       "Newspaper                                   0\n",
       "Digital Advertisement                       0\n",
       "Through Recommendations                     0\n",
       "Receive More Updates About Our Courses      0\n",
       "Update me on Supply Chain Content           0\n",
       "Get updates on DM Content                   0\n",
       "Lead Profile                                0\n",
       "City                                        0\n",
       "I agree to pay the amount through cheque    0\n",
       "A free copy of Mastering The Interview      0\n",
       "Last Notable Activity                       0\n",
       "dtype: int64"
      ]
     },
     "execution_count": 27,
     "metadata": {},
     "output_type": "execute_result"
    }
   ],
   "source": [
    "df.isnull().sum()"
   ]
  },
  {
   "cell_type": "code",
   "execution_count": 28,
   "metadata": {},
   "outputs": [],
   "source": [
    "def count_unique_values(dataframe):\n",
    "    unique_counts = dataframe.nunique()\n",
    "    unique_counts_df = pd.DataFrame({'Column': unique_counts.index, 'Unique Values': unique_counts.values})\n",
    "    return unique_counts_df\n",
    "\n",
    "def remove_columns_with_single_unique_value(dataframe):\n",
    "    unique_counts_df = count_unique_values(dataframe)\n",
    "    single_unique_columns = unique_counts_df[unique_counts_df['Unique Values'] == 1]['Column']\n",
    "    updated_dataframe = dataframe.drop(single_unique_columns, axis=1)\n",
    "    return updated_dataframe\n",
    "\n",
    "updated_df = remove_columns_with_single_unique_value(df)"
   ]
  },
  {
   "cell_type": "code",
   "execution_count": 29,
   "metadata": {},
   "outputs": [],
   "source": [
    "df= updated_df"
   ]
  },
  {
   "cell_type": "code",
   "execution_count": 30,
   "metadata": {},
   "outputs": [
    {
     "data": {
      "text/plain": [
       "Lead Origin                                  4\n",
       "Lead Source                                 21\n",
       "Do Not Email                                 2\n",
       "Do Not Call                                  2\n",
       "Converted                                    2\n",
       "TotalVisits                                 41\n",
       "Total Time Spent on Website               1717\n",
       "Page Views Per Visit                       114\n",
       "Last Activity                               17\n",
       "Specialization                              20\n",
       "What is your current occupation              6\n",
       "Search                                       2\n",
       "Newspaper Article                            2\n",
       "X Education Forums                           2\n",
       "Newspaper                                    2\n",
       "Digital Advertisement                        2\n",
       "Through Recommendations                      2\n",
       "Lead Profile                                 7\n",
       "City                                         7\n",
       "A free copy of Mastering The Interview       2\n",
       "Last Notable Activity                       16\n",
       "dtype: int64"
      ]
     },
     "execution_count": 30,
     "metadata": {},
     "output_type": "execute_result"
    }
   ],
   "source": [
    "df.nunique()"
   ]
  },
  {
   "attachments": {},
   "cell_type": "markdown",
   "metadata": {},
   "source": [
    "<h1>Step 3 : Exploratory Data Analysis</h1>\n"
   ]
  },
  {
   "attachments": {},
   "cell_type": "markdown",
   "metadata": {},
   "source": [
    "* Univariate Analysis:"
   ]
  },
  {
   "cell_type": "code",
   "execution_count": 31,
   "metadata": {},
   "outputs": [
    {
     "data": {
      "image/png": "[encoded data removed]",
      "text/plain": [
       "<Figure size 400x300 with 1 Axes>"
      ]
     },
     "metadata": {},
     "output_type": "display_data"
    }
   ],
   "source": [
    "import seaborn as sns\n",
    "import matplotlib.pyplot as plt\n",
    "\n",
    "sns.set_style(\"whitegrid\")  # Set the style\n",
    "\n",
    "plt.figure(figsize=(4, 3))  # Set the figure size\n",
    "\n",
    "sns.boxplot(x=df['TotalVisits'], color='skyblue')  # Plot the box plot\n",
    "\n",
    "plt.xlabel('Total Visits', fontsize=12)  # Set x-axis label\n",
    "plt.ylabel('Count', fontsize=12)  # Set y-axis label\n",
    "plt.title('Box Plot of Total Visits', fontsize=14)  # Set the plot title\n",
    "\n",
    "plt.show()  # Show the plot\n"
   ]
  },
  {
   "attachments": {},
   "cell_type": "markdown",
   "metadata": {},
   "source": [
    "To remove outliers from the 'TotalVisits' column and plot the box plot again, we can use the concept of interquartile range (IQR) and set a threshold to identify and remove the outliers. "
   ]
  },
  {
   "cell_type": "code",
   "execution_count": 32,
   "metadata": {},
   "outputs": [
    {
     "data": {
      "image/png": "[encoded data removed]",
      "text/plain": [
       "<Figure size 400x300 with 1 Axes>"
      ]
     },
     "metadata": {},
     "output_type": "display_data"
    }
   ],
   "source": [
    "\n",
    "# Calculate the IQR\n",
    "Q1 = df['TotalVisits'].quantile(0.25)\n",
    "Q3 = df['TotalVisits'].quantile(0.75)\n",
    "IQR = Q3 - Q1\n",
    "\n",
    "# Set the threshold to identify outliers\n",
    "threshold = 1.5 * IQR\n",
    "\n",
    "# Filter out the outliers\n",
    "df_no_outliers = df[(df['TotalVisits'] >= Q1 - threshold) & (df['TotalVisits'] <= Q3 + threshold)]\n",
    "\n",
    "# Plot the box plot without outliers\n",
    "sns.set_style(\"whitegrid\")\n",
    "plt.figure(figsize=(4, 3))\n",
    "sns.boxplot(x=df_no_outliers['TotalVisits'], color='skyblue')\n",
    "plt.xlabel('Total Visits', fontsize=12)\n",
    "plt.ylabel('Count', fontsize=12)\n",
    "plt.title('Box Plot of Total Visits (without outliers)', fontsize=14)\n",
    "\n",
    "plt.show()\n"
   ]
  },
  {
   "attachments": {},
   "cell_type": "markdown",
   "metadata": {},
   "source": [
    "The box ranges from approximately 1 to 4, indicating that the majority of the Total Visits values fall within this range.\n",
    "The median, which is located at around 3, suggests that 50% of the Total Visits values are below this point and 50% are above.\n",
    "The absence of outliers in the plot after removing them suggests that extreme or unusual values in Total Visits have been filtered out."
   ]
  },
  {
   "cell_type": "code",
   "execution_count": 33,
   "metadata": {},
   "outputs": [],
   "source": [
    "df = df_no_outliers"
   ]
  },
  {
   "cell_type": "code",
   "execution_count": 34,
   "metadata": {},
   "outputs": [
    {
     "data": {
      "image/png": "[encoded data removed]",
      "text/plain": [
       "<Figure size 500x300 with 1 Axes>"
      ]
     },
     "metadata": {},
     "output_type": "display_data"
    }
   ],
   "source": [
    "plt.figure(figsize=(5, 3))\n",
    "sns.boxplot(x=df['Total Time Spent on Website'])\n",
    "plt.xlabel('Total Time Spent on Website')\n",
    "plt.title('Box Plot of Total Time Spent on Website')\n",
    "plt.show()"
   ]
  },
  {
   "attachments": {},
   "cell_type": "markdown",
   "metadata": {},
   "source": [
    "the box plot suggests that the majority of the values for 'Total Time Spent on Website' range from approximately 0 to 800, with the median value being around 250. This information provides insights into the distribution and central tendency of the variable."
   ]
  },
  {
   "attachments": {},
   "cell_type": "markdown",
   "metadata": {},
   "source": [
    "Calculate measures such as mean, median, and standard deviation."
   ]
  },
  {
   "cell_type": "code",
   "execution_count": 35,
   "metadata": {},
   "outputs": [
    {
     "name": "stdout",
     "output_type": "stream",
     "text": [
      "Mean: 2.2832326558419442\n",
      "Median: 2.0\n",
      "Standard Deviation: 1.9605076778777346\n"
     ]
    }
   ],
   "source": [
    "print('Mean:', df['Page Views Per Visit'].mean())\n",
    "print('Median:', df['Page Views Per Visit'].median())\n",
    "print('Standard Deviation:', df['Page Views Per Visit'].std())\n"
   ]
  },
  {
   "attachments": {},
   "cell_type": "markdown",
   "metadata": {},
   "source": [
    "* On average, visitors tend to view approximately 2.28 pages per visit.\n",
    "* The median of 2.0 indicates that half of the visits have 2 or fewer page views, while the other half have more than 2 page views.\n",
    "* The standard deviation of 1.96 suggests that there is a moderate amount of variability in the number of page views per visit. Some visits may have significantly fewer or more page views than the average."
   ]
  },
  {
   "cell_type": "code",
   "execution_count": 36,
   "metadata": {},
   "outputs": [
    {
     "data": {
      "image/png": "[encoded data removed]",
      "text/plain": [
       "<Figure size 500x300 with 1 Axes>"
      ]
     },
     "metadata": {},
     "output_type": "display_data"
    }
   ],
   "source": [
    "plt.figure(figsize=(5, 3))\n",
    "sns.set_style(\"whitegrid\")\n",
    "\n",
    "# Reorder the categories based on count\n",
    "order = df['Lead Source'].value_counts().index\n",
    "\n",
    "sns.countplot(x='Lead Source', data=df, order=order, palette='terrain')\n",
    "plt.xlabel('Lead Source', fontsize=12)\n",
    "plt.ylabel('Count', fontsize=12)\n",
    "plt.title('Bar Plot of Lead Source', fontsize=14)\n",
    "plt.xticks(rotation=90)\n",
    "plt.show()\n"
   ]
  },
  {
   "attachments": {},
   "cell_type": "markdown",
   "metadata": {},
   "source": [
    "We can observe most of the traffic coming from Google or direct"
   ]
  },
  {
   "attachments": {},
   "cell_type": "markdown",
   "metadata": {},
   "source": [
    "We notice there are two spelling of google and all the other values have very low count so we can put that as others"
   ]
  },
  {
   "cell_type": "code",
   "execution_count": 37,
   "metadata": {},
   "outputs": [],
   "source": [
    "df['Lead Source'].replace(['google'], 'Google')\n",
    "df['Lead Source'] = df['Lead Source'].replace(['Click2call', 'Live Chat', 'NC_EDM', 'Pay per Click Ads', 'Press_Release',\n",
    "  'Social Media', 'WeLearn', 'bing', 'blog', 'testone', 'welearnblog_Home', 'youtubechannel'], 'Others')"
   ]
  },
  {
   "cell_type": "code",
   "execution_count": 38,
   "metadata": {},
   "outputs": [
    {
     "data": {
      "image/png": "[encoded data removed]",
      "text/plain": [
       "<Figure size 600x600 with 1 Axes>"
      ]
     },
     "metadata": {},
     "output_type": "display_data"
    }
   ],
   "source": [
    "plt.figure(figsize=(6, 6))\n",
    "colors = ['#ff9999', '#66b3ff', '#99ff99', '#ffcc99']\n",
    "\n",
    "# Plot the pie chart without percentages\n",
    "patches, _ = plt.pie(df['Lead Profile'].value_counts(), colors=colors)\n",
    "plt.axis('equal')\n",
    "\n",
    "# Add the percentages inside the legends\n",
    "labels = [f'{label} ({percentage:.1f}%)' for label, percentage in zip(df['Lead Profile'].value_counts().index, df['Lead Profile'].value_counts(normalize=True) * 100)]\n",
    "plt.legend(patches, labels, title='Lead Profile', loc='center')\n",
    "\n",
    "plt.title('Pie Chart of Lead Profile')\n",
    "plt.show()\n"
   ]
  },
  {
   "attachments": {},
   "cell_type": "markdown",
   "metadata": {},
   "source": [
    "The majority of leads have a profile labeled as \"Select,\" indicating incomplete information. \"Potential Lead\" is the second most common profile, suggesting further nurturing is required. Other profiles, such as \"Student of SomeSchool,\" \"Lateral Student,\" and \"Dual Specialization Student,\" represent smaller segments that may require tailored marketing approaches."
   ]
  },
  {
   "cell_type": "code",
   "execution_count": 39,
   "metadata": {},
   "outputs": [
    {
     "name": "stdout",
     "output_type": "stream",
     "text": [
      "Mumbai                         4445\n",
      "Select                         2131\n",
      "Thane & Outskirts               708\n",
      "Other Cities                    657\n",
      "Other Cities of Maharashtra     435\n",
      "Other Metro Cities              359\n",
      "Tier II Cities                   72\n",
      "Name: City, dtype: int64\n",
      "Mumbai                         50.471216\n",
      "Select                         24.196662\n",
      "Thane & Outskirts               8.039060\n",
      "Other Cities                    7.459975\n",
      "Other Cities of Maharashtra     4.939253\n",
      "Other Metro Cities              4.076303\n",
      "Tier II Cities                  0.817532\n",
      "Name: City, dtype: float64\n"
     ]
    }
   ],
   "source": [
    "print(df['City'].value_counts())\n",
    "print(df['City'].value_counts(normalize=True) * 100)\n"
   ]
  },
  {
   "attachments": {},
   "cell_type": "markdown",
   "metadata": {},
   "source": [
    "The majority of leads are from Mumbai, followed by a significant number of leads with the \"Select\" city label, indicating incomplete information. Thane & Outskirts, Other Cities, and Other Cities of Maharashtra also contribute to the lead count. Other Metro Cities and Tier II Cities have relatively smaller representation. It suggests a potential focus on targeting leads from Mumbai and further improving the quality and completeness of city information in the dataset."
   ]
  },
  {
   "attachments": {},
   "cell_type": "markdown",
   "metadata": {},
   "source": [
    "* Bi variate Analysis:"
   ]
  },
  {
   "cell_type": "code",
   "execution_count": 40,
   "metadata": {},
   "outputs": [
    {
     "data": {
      "image/png": "[encoded data removed]",
      "text/plain": [
       "<Figure size 600x300 with 1 Axes>"
      ]
     },
     "metadata": {},
     "output_type": "display_data"
    }
   ],
   "source": [
    "plt.figure(figsize=(6, 3))\n",
    "sns.boxplot(y='TotalVisits', x='Converted', data=df_no_outliers, palette='Set3')\n",
    "plt.title('Box Plot of Total Visits by Conversion')\n",
    "plt.xlabel('Converted')\n",
    "plt.ylabel('Total Visits')\n",
    "plt.xticks([0, 1], ['Not Converted', 'Converted'])\n",
    "plt.ylim(bottom=0)  # Set the lower limit of the y-axis to 0\n",
    "plt.grid(axis='y', linestyle='--', alpha=0.5)  # Add horizontal grid lines\n",
    "plt.tight_layout()  # Adjust spacing between subplots\n",
    "plt.show()\n"
   ]
  },
  {
   "attachments": {},
   "cell_type": "markdown",
   "metadata": {},
   "source": [
    "the median of the 'Converted' group is slightly higher than the 'Not Converted' group, it suggests that on average, the 'TotalVisits' tends to be slightly higher for the converted leads compared to the non-converted leads.\n",
    "\n",
    "The vertical extent of the box indicates the range of values where the majority of the data points lie. For the 'Converted' group, the box extends from approximately 0 to 4.5, while for the 'Not Converted' group, the box extends from approximately 1 to 4. This means that the range of 'TotalVisits' values for the converted leads is slightly wider than the range for the non-converted leads."
   ]
  },
  {
   "cell_type": "code",
   "execution_count": 41,
   "metadata": {},
   "outputs": [
    {
     "data": {
      "image/png": "[encoded data removed]",
      "text/plain": [
       "<Figure size 700x300 with 1 Axes>"
      ]
     },
     "metadata": {},
     "output_type": "display_data"
    }
   ],
   "source": [
    "# Group the data by total time spent and calculate the average conversion rate\n",
    "conversion_rate_by_time = df.groupby('Total Time Spent on Website')['Converted'].mean().reset_index()\n",
    "\n",
    "# Sort the data by total time spent in ascending order\n",
    "conversion_rate_by_time = conversion_rate_by_time.sort_values('Total Time Spent on Website')\n",
    "\n",
    "plt.figure(figsize=(7, 3))\n",
    "sns.barplot(y='Total Time Spent on Website', x='Converted', data=conversion_rate_by_time, palette='viridis')\n",
    "plt.xlabel('Total Time Spent on Website')\n",
    "plt.ylabel('Conversion Rate')\n",
    "plt.title('Conversion Rate by Total Time Spent on Website')\n",
    "plt.xticks(rotation=90)\n",
    "plt.gca().xaxis.set_major_formatter(plt.FuncFormatter(lambda x, _: '{:.0f}'.format(x)))\n",
    "plt.show()\n"
   ]
  },
  {
   "attachments": {},
   "cell_type": "markdown",
   "metadata": {},
   "source": [
    "we can observe the conversion rate increases significanltly for the users who spends more time on the website"
   ]
  },
  {
   "cell_type": "code",
   "execution_count": 42,
   "metadata": {},
   "outputs": [
    {
     "data": {
      "image/png": "[encoded data removed]",
      "text/plain": [
       "<Figure size 700x300 with 1 Axes>"
      ]
     },
     "metadata": {},
     "output_type": "display_data"
    }
   ],
   "source": [
    "# Calculate the conversion rate by last activity\n",
    "conversion_rate_last_activity = df.groupby('Last Activity')['Converted'].mean().reset_index()\n",
    "\n",
    "# Sort the dataframe by conversion rate in descending order\n",
    "conversion_rate_last_activity = conversion_rate_last_activity.sort_values('Converted', ascending=False)\n",
    "\n",
    "# Plot the conversion rate by last activity\n",
    "plt.figure(figsize=(7, 3))\n",
    "sns.barplot(x='Last Activity', y='Converted', data=conversion_rate_last_activity, palette='viridis_r')\n",
    "plt.xlabel('Last Activity', fontsize=12)\n",
    "plt.ylabel('Conversion Rate', fontsize=12)\n",
    "plt.title('Conversion Rate by Last Activity', fontsize=14)\n",
    "plt.xticks(rotation=90)\n",
    "plt.ylim(0, 1)\n",
    "plt.show()\n"
   ]
  },
  {
   "attachments": {},
   "cell_type": "markdown",
   "metadata": {},
   "source": [
    "The higher conversion rate for activities like \"Approached upfront,\" \"Email Marked Spam,\" \"Resubscribed to emails,\" and \"Emails Received\" suggests that these activities have a positive impact on the likelihood of conversion. It indicates that leads who engage in these activities are more likely to be converted into customers. "
   ]
  },
  {
   "cell_type": "code",
   "execution_count": 43,
   "metadata": {},
   "outputs": [
    {
     "data": {
      "image/png": "[encoded data removed]",
      "text/plain": [
       "<Figure size 700x300 with 1 Axes>"
      ]
     },
     "metadata": {},
     "output_type": "display_data"
    }
   ],
   "source": [
    "# Calculate the conversion rate by specialization\n",
    "conversion_rate_by_specialization = df.groupby('Specialization')['Converted'].mean().sort_values(ascending=False)\n",
    "\n",
    "# Plot the conversion rate by specialization\n",
    "plt.figure(figsize=(7, 3))\n",
    "sns.barplot(x=conversion_rate_by_specialization.index, y=conversion_rate_by_specialization.values, palette='viridis')\n",
    "plt.xlabel('Specialization', fontsize=12)\n",
    "plt.ylabel('Conversion Rate', fontsize=12)\n",
    "plt.title('Conversion Rate by Specialization', fontsize=14)\n",
    "plt.xticks(rotation=90)\n",
    "plt.show()\n"
   ]
  },
  {
   "attachments": {},
   "cell_type": "markdown",
   "metadata": {},
   "source": [
    "We can see that most of the specialization has >30% conversion rate while some has as high as 50% conversion rate"
   ]
  },
  {
   "cell_type": "code",
   "execution_count": 44,
   "metadata": {},
   "outputs": [
    {
     "data": {
      "image/png": "[encoded data removed]",
      "text/plain": [
       "<Figure size 700x300 with 1 Axes>"
      ]
     },
     "metadata": {},
     "output_type": "display_data"
    }
   ],
   "source": [
    "\n",
    "# Calculate conversion rate by occupation status\n",
    "conversion_rate_by_occupation = df.groupby('What is your current occupation')['Converted'].mean().sort_values(ascending=False)\n",
    "\n",
    "# Create a bar plot\n",
    "plt.figure(figsize=(7, 3))\n",
    "sns.barplot(x=conversion_rate_by_occupation.index, y=conversion_rate_by_occupation.values, palette='coolwarm')\n",
    "plt.xlabel('Occupation')\n",
    "plt.ylabel('Conversion Rate')\n",
    "plt.title('Conversion Rate by Occupation')\n",
    "plt.xticks(rotation=90)\n",
    "plt.show()\n"
   ]
  },
  {
   "attachments": {},
   "cell_type": "markdown",
   "metadata": {},
   "source": [
    "Housewives working porfessionals has pretty high conversion rates"
   ]
  },
  {
   "cell_type": "code",
   "execution_count": 45,
   "metadata": {},
   "outputs": [
    {
     "data": {
      "image/png": "[encoded data removed]",
      "text/plain": [
       "<Figure size 900x400 with 6 Axes>"
      ]
     },
     "metadata": {},
     "output_type": "display_data"
    }
   ],
   "source": [
    "# Set up subplots\n",
    "fig, axes = plt.subplots(nrows=2, ncols=3, figsize=(9, 4))\n",
    "axes = axes.flatten()\n",
    "\n",
    "# Iterate over each variable and create subplots\n",
    "variables = ['Search', 'Newspaper Article', 'X Education Forums', 'Newspaper', 'Digital Advertisement', 'Through Recommendations']\n",
    "for i, variable in enumerate(variables):\n",
    "    ax = axes[i]\n",
    "    sns.countplot(x=variable, hue='Converted', data=df, ax=ax, palette='turbo', edgecolor='gray')\n",
    "    ax.set_xlabel(variable)\n",
    "    ax.set_ylabel('Count')\n",
    "    ax.set_title(f'Conversion by {variable}')\n",
    "    ax.legend(title='Converted', loc='upper right')\n",
    "    ax.set_xticklabels([])  # Remove x-axis ticks\n",
    "    ax.set_ylim(0, df[variable].value_counts().max() * 1.1)  # Adjust the y-axis limit for better visualization\n",
    "    ax.legend(title='Converted', loc='upper right')\n",
    "\n",
    "\n",
    "# Adjust layout and show the plot\n",
    "plt.tight_layout()\n",
    "plt.show()\n"
   ]
  },
  {
   "attachments": {},
   "cell_type": "markdown",
   "metadata": {},
   "source": [
    "Conversion rates from across all the portals are more or les similar"
   ]
  },
  {
   "attachments": {},
   "cell_type": "markdown",
   "metadata": {},
   "source": [
    "So we can drop these columns as this is not that much significant for model building. also Lead Profile column as that is also unimportant"
   ]
  },
  {
   "cell_type": "code",
   "execution_count": 46,
   "metadata": {},
   "outputs": [],
   "source": [
    "df = df.drop(['Lead Profile','Search','Newspaper Article','X Education Forums','Newspaper',\n",
    "           'Digital Advertisement','Through Recommendations'],1)"
   ]
  },
  {
   "cell_type": "code",
   "execution_count": 47,
   "metadata": {},
   "outputs": [
    {
     "data": {
      "text/plain": [
       "Index(['Lead Origin', 'Lead Source', 'Do Not Email', 'Do Not Call',\n",
       "       'Converted', 'TotalVisits', 'Total Time Spent on Website',\n",
       "       'Page Views Per Visit', 'Last Activity', 'Specialization',\n",
       "       'What is your current occupation', 'City',\n",
       "       'A free copy of Mastering The Interview', 'Last Notable Activity'],\n",
       "      dtype='object')"
      ]
     },
     "execution_count": 47,
     "metadata": {},
     "output_type": "execute_result"
    }
   ],
   "source": [
    "df.columns"
   ]
  },
  {
   "attachments": {},
   "cell_type": "markdown",
   "metadata": {},
   "source": [
    "<h1>Step 4 : Data Preparation</h1>\n"
   ]
  },
  {
   "attachments": {},
   "cell_type": "markdown",
   "metadata": {},
   "source": [
    "* New metrics creation"
   ]
  },
  {
   "attachments": {},
   "cell_type": "markdown",
   "metadata": {},
   "source": [
    "create a new metric called \"Conversion Rate\" based on the \"Converted\" and \"TotalVisits\" variables:"
   ]
  },
  {
   "cell_type": "code",
   "execution_count": 48,
   "metadata": {},
   "outputs": [
    {
     "data": {
      "text/plain": [
       "Lead Origin                               0\n",
       "Lead Source                               0\n",
       "Do Not Email                              0\n",
       "Do Not Call                               0\n",
       "Converted                                 0\n",
       "TotalVisits                               0\n",
       "Total Time Spent on Website               0\n",
       "Page Views Per Visit                      0\n",
       "Last Activity                             0\n",
       "Specialization                            0\n",
       "What is your current occupation           0\n",
       "City                                      0\n",
       "A free copy of Mastering The Interview    0\n",
       "Last Notable Activity                     0\n",
       "dtype: int64"
      ]
     },
     "execution_count": 48,
     "metadata": {},
     "output_type": "execute_result"
    }
   ],
   "source": [
    "df.isnull().sum()"
   ]
  },
  {
   "cell_type": "code",
   "execution_count": 49,
   "metadata": {},
   "outputs": [
    {
     "name": "stdout",
     "output_type": "stream",
     "text": [
      "   Converted  TotalVisits  Conversion Rate\n",
      "0          0          0.0              0.0\n",
      "1          0          5.0              0.0\n",
      "2          1          2.0              0.5\n",
      "3          0          1.0              0.0\n",
      "4          1          2.0              0.5\n"
     ]
    }
   ],
   "source": [
    "# Calculate Conversion Rate\n",
    "df['Conversion Rate'] = df['Converted'] / df['TotalVisits'].replace(0, 1)\n",
    "# Print the first few rows to verify the new metric\n",
    "\n",
    "print(df[['Converted', 'TotalVisits', 'Conversion Rate']].head())"
   ]
  },
  {
   "attachments": {},
   "cell_type": "markdown",
   "metadata": {},
   "source": [
    "Page Views Per Visit (Normalized):"
   ]
  },
  {
   "attachments": {},
   "cell_type": "markdown",
   "metadata": {},
   "source": [
    "Normalizing the \"Page Views Per Visit\" metric allows us to bring the values within a common scale,"
   ]
  },
  {
   "cell_type": "code",
   "execution_count": 50,
   "metadata": {},
   "outputs": [],
   "source": [
    "max_page_views = df['Page Views Per Visit'].max()\n",
    "df['Page Views Per Visit (Normalized)'] = df['Page Views Per Visit'] / max_page_views"
   ]
  },
  {
   "attachments": {},
   "cell_type": "markdown",
   "metadata": {},
   "source": [
    "* Data Conversion"
   ]
  },
  {
   "attachments": {},
   "cell_type": "markdown",
   "metadata": {},
   "source": [
    "Converting binary variables: We have binary variables represented as strings ('Yes'/'No', 'True'/'False'), we can convert them to numerical representation (1/0),"
   ]
  },
  {
   "attachments": {},
   "cell_type": "markdown",
   "metadata": {},
   "source": [
    "Let's find out which of the columns have 2 unique values i.e Binary variables"
   ]
  },
  {
   "cell_type": "code",
   "execution_count": 51,
   "metadata": {},
   "outputs": [
    {
     "name": "stdout",
     "output_type": "stream",
     "text": [
      "Binary Variables:\n",
      "Do Not Email\n",
      "Do Not Call\n",
      "Converted\n",
      "A free copy of Mastering The Interview\n"
     ]
    }
   ],
   "source": [
    "# Identify binary variables\n",
    "binary_variables = []\n",
    "for column in df.columns:\n",
    "    if df[column].nunique() == 2:\n",
    "        binary_variables.append(column)\n",
    "\n",
    "# Print the binary variables\n",
    "print(\"Binary Variables:\")\n",
    "for var in binary_variables:\n",
    "    print(var)\n"
   ]
  },
  {
   "cell_type": "code",
   "execution_count": 52,
   "metadata": {},
   "outputs": [],
   "source": [
    "# Convert binary variables to 1/0\n",
    "for column in binary_variables:\n",
    "    df[column] = df[column].map({'Yes': 1, 'No': 0, 1: 1, 0: 0})"
   ]
  },
  {
   "cell_type": "code",
   "execution_count": 53,
   "metadata": {},
   "outputs": [
    {
     "data": {
      "text/plain": [
       "Index(['Lead Origin', 'Lead Source', 'Do Not Email', 'Do Not Call',\n",
       "       'Converted', 'TotalVisits', 'Total Time Spent on Website',\n",
       "       'Page Views Per Visit', 'Last Activity', 'Specialization',\n",
       "       'What is your current occupation', 'City',\n",
       "       'A free copy of Mastering The Interview', 'Last Notable Activity',\n",
       "       'Conversion Rate', 'Page Views Per Visit (Normalized)'],\n",
       "      dtype='object')"
      ]
     },
     "execution_count": 53,
     "metadata": {},
     "output_type": "execute_result"
    }
   ],
   "source": [
    "df.columns"
   ]
  },
  {
   "cell_type": "code",
   "execution_count": 54,
   "metadata": {},
   "outputs": [],
   "source": [
    "df = df.drop(['Conversion Rate','Page Views Per Visit (Normalized)'],1)"
   ]
  },
  {
   "cell_type": "code",
   "execution_count": 55,
   "metadata": {},
   "outputs": [
    {
     "data": {
      "text/plain": [
       "Index(['Lead Origin', 'Lead Source', 'Do Not Email', 'Do Not Call',\n",
       "       'Converted', 'TotalVisits', 'Total Time Spent on Website',\n",
       "       'Page Views Per Visit', 'Last Activity', 'Specialization',\n",
       "       'What is your current occupation', 'City',\n",
       "       'A free copy of Mastering The Interview', 'Last Notable Activity'],\n",
       "      dtype='object')"
      ]
     },
     "execution_count": 55,
     "metadata": {},
     "output_type": "execute_result"
    }
   ],
   "source": [
    "df.columns"
   ]
  },
  {
   "attachments": {},
   "cell_type": "markdown",
   "metadata": {},
   "source": [
    "* Dummy variable creation"
   ]
  },
  {
   "attachments": {},
   "cell_type": "markdown",
   "metadata": {},
   "source": [
    "before creating Dummy columns we Consider the number of unique values in a column. If a column has a large number of unique values, creating dummy variables for all of them may result in a large number of columns and potential sparsity in the data."
   ]
  },
  {
   "cell_type": "code",
   "execution_count": 56,
   "metadata": {},
   "outputs": [
    {
     "data": {
      "text/plain": [
       "Lead Origin                                object\n",
       "Lead Source                                object\n",
       "Do Not Email                                int64\n",
       "Do Not Call                                 int64\n",
       "Converted                                   int64\n",
       "TotalVisits                               float64\n",
       "Total Time Spent on Website                 int64\n",
       "Page Views Per Visit                      float64\n",
       "Last Activity                              object\n",
       "Specialization                             object\n",
       "What is your current occupation            object\n",
       "City                                       object\n",
       "A free copy of Mastering The Interview      int64\n",
       "Last Notable Activity                      object\n",
       "dtype: object"
      ]
     },
     "execution_count": 56,
     "metadata": {},
     "output_type": "execute_result"
    }
   ],
   "source": [
    "df.dtypes"
   ]
  },
  {
   "cell_type": "code",
   "execution_count": 57,
   "metadata": {},
   "outputs": [],
   "source": [
    "# Calculate cardinality for each column\n",
    "cardinality = df.select_dtypes(include='object').nunique()\n",
    "#Filter columns based on the specified range (e.g., 5 <= cardinality <= 20)\n",
    "min_threshold = 5\n",
    "max_threshold = 20\n",
    "categorical_cols = cardinality[(cardinality >= min_threshold) & (cardinality <= max_threshold)].index\n",
    "\n",
    "# Generate dummy variables for categorical columns\n",
    "dummy_df = pd.get_dummies(df[categorical_cols], drop_first=True)"
   ]
  },
  {
   "cell_type": "code",
   "execution_count": 58,
   "metadata": {},
   "outputs": [
    {
     "data": {
      "text/html": [
       "<div>\n",
       "<style scoped>\n",
       "    .dataframe tbody tr th:only-of-type {\n",
       "        vertical-align: middle;\n",
       "    }\n",
       "\n",
       "    .dataframe tbody tr th {\n",
       "        vertical-align: top;\n",
       "    }\n",
       "\n",
       "    .dataframe thead th {\n",
       "        text-align: right;\n",
       "    }\n",
       "</style>\n",
       "<table border=\"1\" class=\"dataframe\">\n",
       "  <thead>\n",
       "    <tr style=\"text-align: right;\">\n",
       "      <th></th>\n",
       "      <th>Lead Source_Facebook</th>\n",
       "      <th>Lead Source_Google</th>\n",
       "      <th>Lead Source_Olark Chat</th>\n",
       "      <th>Lead Source_Organic Search</th>\n",
       "      <th>Lead Source_Others</th>\n",
       "      <th>Lead Source_Reference</th>\n",
       "      <th>Lead Source_Referral Sites</th>\n",
       "      <th>Lead Source_Welingak Website</th>\n",
       "      <th>Lead Source_google</th>\n",
       "      <th>Last Activity_Converted to Lead</th>\n",
       "      <th>...</th>\n",
       "      <th>Last Notable Activity_Form Submitted on Website</th>\n",
       "      <th>Last Notable Activity_Had a Phone Conversation</th>\n",
       "      <th>Last Notable Activity_Modified</th>\n",
       "      <th>Last Notable Activity_Olark Chat Conversation</th>\n",
       "      <th>Last Notable Activity_Page Visited on Website</th>\n",
       "      <th>Last Notable Activity_Resubscribed to emails</th>\n",
       "      <th>Last Notable Activity_SMS Sent</th>\n",
       "      <th>Last Notable Activity_Unreachable</th>\n",
       "      <th>Last Notable Activity_Unsubscribed</th>\n",
       "      <th>Last Notable Activity_View in browser link Clicked</th>\n",
       "    </tr>\n",
       "  </thead>\n",
       "  <tbody>\n",
       "    <tr>\n",
       "      <th>0</th>\n",
       "      <td>0</td>\n",
       "      <td>0</td>\n",
       "      <td>1</td>\n",
       "      <td>0</td>\n",
       "      <td>0</td>\n",
       "      <td>0</td>\n",
       "      <td>0</td>\n",
       "      <td>0</td>\n",
       "      <td>0</td>\n",
       "      <td>0</td>\n",
       "      <td>...</td>\n",
       "      <td>0</td>\n",
       "      <td>0</td>\n",
       "      <td>1</td>\n",
       "      <td>0</td>\n",
       "      <td>0</td>\n",
       "      <td>0</td>\n",
       "      <td>0</td>\n",
       "      <td>0</td>\n",
       "      <td>0</td>\n",
       "      <td>0</td>\n",
       "    </tr>\n",
       "    <tr>\n",
       "      <th>1</th>\n",
       "      <td>0</td>\n",
       "      <td>0</td>\n",
       "      <td>0</td>\n",
       "      <td>1</td>\n",
       "      <td>0</td>\n",
       "      <td>0</td>\n",
       "      <td>0</td>\n",
       "      <td>0</td>\n",
       "      <td>0</td>\n",
       "      <td>0</td>\n",
       "      <td>...</td>\n",
       "      <td>0</td>\n",
       "      <td>0</td>\n",
       "      <td>0</td>\n",
       "      <td>0</td>\n",
       "      <td>0</td>\n",
       "      <td>0</td>\n",
       "      <td>0</td>\n",
       "      <td>0</td>\n",
       "      <td>0</td>\n",
       "      <td>0</td>\n",
       "    </tr>\n",
       "    <tr>\n",
       "      <th>2</th>\n",
       "      <td>0</td>\n",
       "      <td>0</td>\n",
       "      <td>0</td>\n",
       "      <td>0</td>\n",
       "      <td>0</td>\n",
       "      <td>0</td>\n",
       "      <td>0</td>\n",
       "      <td>0</td>\n",
       "      <td>0</td>\n",
       "      <td>0</td>\n",
       "      <td>...</td>\n",
       "      <td>0</td>\n",
       "      <td>0</td>\n",
       "      <td>0</td>\n",
       "      <td>0</td>\n",
       "      <td>0</td>\n",
       "      <td>0</td>\n",
       "      <td>0</td>\n",
       "      <td>0</td>\n",
       "      <td>0</td>\n",
       "      <td>0</td>\n",
       "    </tr>\n",
       "    <tr>\n",
       "      <th>3</th>\n",
       "      <td>0</td>\n",
       "      <td>0</td>\n",
       "      <td>0</td>\n",
       "      <td>0</td>\n",
       "      <td>0</td>\n",
       "      <td>0</td>\n",
       "      <td>0</td>\n",
       "      <td>0</td>\n",
       "      <td>0</td>\n",
       "      <td>0</td>\n",
       "      <td>...</td>\n",
       "      <td>0</td>\n",
       "      <td>0</td>\n",
       "      <td>1</td>\n",
       "      <td>0</td>\n",
       "      <td>0</td>\n",
       "      <td>0</td>\n",
       "      <td>0</td>\n",
       "      <td>0</td>\n",
       "      <td>0</td>\n",
       "      <td>0</td>\n",
       "    </tr>\n",
       "    <tr>\n",
       "      <th>4</th>\n",
       "      <td>0</td>\n",
       "      <td>1</td>\n",
       "      <td>0</td>\n",
       "      <td>0</td>\n",
       "      <td>0</td>\n",
       "      <td>0</td>\n",
       "      <td>0</td>\n",
       "      <td>0</td>\n",
       "      <td>0</td>\n",
       "      <td>1</td>\n",
       "      <td>...</td>\n",
       "      <td>0</td>\n",
       "      <td>0</td>\n",
       "      <td>1</td>\n",
       "      <td>0</td>\n",
       "      <td>0</td>\n",
       "      <td>0</td>\n",
       "      <td>0</td>\n",
       "      <td>0</td>\n",
       "      <td>0</td>\n",
       "      <td>0</td>\n",
       "    </tr>\n",
       "  </tbody>\n",
       "</table>\n",
       "<p>5 rows × 70 columns</p>\n",
       "</div>"
      ],
      "text/plain": [
       "   Lead Source_Facebook  Lead Source_Google  Lead Source_Olark Chat  \\\n",
       "0                     0                   0                       1   \n",
       "1                     0                   0                       0   \n",
       "2                     0                   0                       0   \n",
       "3                     0                   0                       0   \n",
       "4                     0                   1                       0   \n",
       "\n",
       "   Lead Source_Organic Search  Lead Source_Others  Lead Source_Reference  \\\n",
       "0                           0                   0                      0   \n",
       "1                           1                   0                      0   \n",
       "2                           0                   0                      0   \n",
       "3                           0                   0                      0   \n",
       "4                           0                   0                      0   \n",
       "\n",
       "   Lead Source_Referral Sites  Lead Source_Welingak Website  \\\n",
       "0                           0                             0   \n",
       "1                           0                             0   \n",
       "2                           0                             0   \n",
       "3                           0                             0   \n",
       "4                           0                             0   \n",
       "\n",
       "   Lead Source_google  Last Activity_Converted to Lead  ...  \\\n",
       "0                   0                                0  ...   \n",
       "1                   0                                0  ...   \n",
       "2                   0                                0  ...   \n",
       "3                   0                                0  ...   \n",
       "4                   0                                1  ...   \n",
       "\n",
       "   Last Notable Activity_Form Submitted on Website  \\\n",
       "0                                                0   \n",
       "1                                                0   \n",
       "2                                                0   \n",
       "3                                                0   \n",
       "4                                                0   \n",
       "\n",
       "   Last Notable Activity_Had a Phone Conversation  \\\n",
       "0                                               0   \n",
       "1                                               0   \n",
       "2                                               0   \n",
       "3                                               0   \n",
       "4                                               0   \n",
       "\n",
       "   Last Notable Activity_Modified  \\\n",
       "0                               1   \n",
       "1                               0   \n",
       "2                               0   \n",
       "3                               1   \n",
       "4                               1   \n",
       "\n",
       "   Last Notable Activity_Olark Chat Conversation  \\\n",
       "0                                              0   \n",
       "1                                              0   \n",
       "2                                              0   \n",
       "3                                              0   \n",
       "4                                              0   \n",
       "\n",
       "   Last Notable Activity_Page Visited on Website  \\\n",
       "0                                              0   \n",
       "1                                              0   \n",
       "2                                              0   \n",
       "3                                              0   \n",
       "4                                              0   \n",
       "\n",
       "   Last Notable Activity_Resubscribed to emails  \\\n",
       "0                                             0   \n",
       "1                                             0   \n",
       "2                                             0   \n",
       "3                                             0   \n",
       "4                                             0   \n",
       "\n",
       "   Last Notable Activity_SMS Sent  Last Notable Activity_Unreachable  \\\n",
       "0                               0                                  0   \n",
       "1                               0                                  0   \n",
       "2                               0                                  0   \n",
       "3                               0                                  0   \n",
       "4                               0                                  0   \n",
       "\n",
       "   Last Notable Activity_Unsubscribed  \\\n",
       "0                                   0   \n",
       "1                                   0   \n",
       "2                                   0   \n",
       "3                                   0   \n",
       "4                                   0   \n",
       "\n",
       "   Last Notable Activity_View in browser link Clicked  \n",
       "0                                                  0   \n",
       "1                                                  0   \n",
       "2                                                  0   \n",
       "3                                                  0   \n",
       "4                                                  0   \n",
       "\n",
       "[5 rows x 70 columns]"
      ]
     },
     "execution_count": 58,
     "metadata": {},
     "output_type": "execute_result"
    }
   ],
   "source": [
    "dummy_df.head()"
   ]
  },
  {
   "cell_type": "code",
   "execution_count": 59,
   "metadata": {},
   "outputs": [
    {
     "data": {
      "text/html": [
       "<div>\n",
       "<style scoped>\n",
       "    .dataframe tbody tr th:only-of-type {\n",
       "        vertical-align: middle;\n",
       "    }\n",
       "\n",
       "    .dataframe tbody tr th {\n",
       "        vertical-align: top;\n",
       "    }\n",
       "\n",
       "    .dataframe thead th {\n",
       "        text-align: right;\n",
       "    }\n",
       "</style>\n",
       "<table border=\"1\" class=\"dataframe\">\n",
       "  <thead>\n",
       "    <tr style=\"text-align: right;\">\n",
       "      <th></th>\n",
       "      <th>Lead Origin</th>\n",
       "      <th>Lead Source</th>\n",
       "      <th>Do Not Email</th>\n",
       "      <th>Do Not Call</th>\n",
       "      <th>Converted</th>\n",
       "      <th>TotalVisits</th>\n",
       "      <th>Total Time Spent on Website</th>\n",
       "      <th>Page Views Per Visit</th>\n",
       "      <th>Last Activity</th>\n",
       "      <th>Specialization</th>\n",
       "      <th>...</th>\n",
       "      <th>Last Notable Activity_Form Submitted on Website</th>\n",
       "      <th>Last Notable Activity_Had a Phone Conversation</th>\n",
       "      <th>Last Notable Activity_Modified</th>\n",
       "      <th>Last Notable Activity_Olark Chat Conversation</th>\n",
       "      <th>Last Notable Activity_Page Visited on Website</th>\n",
       "      <th>Last Notable Activity_Resubscribed to emails</th>\n",
       "      <th>Last Notable Activity_SMS Sent</th>\n",
       "      <th>Last Notable Activity_Unreachable</th>\n",
       "      <th>Last Notable Activity_Unsubscribed</th>\n",
       "      <th>Last Notable Activity_View in browser link Clicked</th>\n",
       "    </tr>\n",
       "  </thead>\n",
       "  <tbody>\n",
       "    <tr>\n",
       "      <th>0</th>\n",
       "      <td>API</td>\n",
       "      <td>Olark Chat</td>\n",
       "      <td>0</td>\n",
       "      <td>0</td>\n",
       "      <td>0</td>\n",
       "      <td>0.0</td>\n",
       "      <td>0</td>\n",
       "      <td>0.0</td>\n",
       "      <td>Page Visited on Website</td>\n",
       "      <td>Select</td>\n",
       "      <td>...</td>\n",
       "      <td>0</td>\n",
       "      <td>0</td>\n",
       "      <td>1</td>\n",
       "      <td>0</td>\n",
       "      <td>0</td>\n",
       "      <td>0</td>\n",
       "      <td>0</td>\n",
       "      <td>0</td>\n",
       "      <td>0</td>\n",
       "      <td>0</td>\n",
       "    </tr>\n",
       "    <tr>\n",
       "      <th>1</th>\n",
       "      <td>API</td>\n",
       "      <td>Organic Search</td>\n",
       "      <td>0</td>\n",
       "      <td>0</td>\n",
       "      <td>0</td>\n",
       "      <td>5.0</td>\n",
       "      <td>674</td>\n",
       "      <td>2.5</td>\n",
       "      <td>Email Opened</td>\n",
       "      <td>Select</td>\n",
       "      <td>...</td>\n",
       "      <td>0</td>\n",
       "      <td>0</td>\n",
       "      <td>0</td>\n",
       "      <td>0</td>\n",
       "      <td>0</td>\n",
       "      <td>0</td>\n",
       "      <td>0</td>\n",
       "      <td>0</td>\n",
       "      <td>0</td>\n",
       "      <td>0</td>\n",
       "    </tr>\n",
       "    <tr>\n",
       "      <th>2</th>\n",
       "      <td>Landing Page Submission</td>\n",
       "      <td>Direct Traffic</td>\n",
       "      <td>0</td>\n",
       "      <td>0</td>\n",
       "      <td>1</td>\n",
       "      <td>2.0</td>\n",
       "      <td>1532</td>\n",
       "      <td>2.0</td>\n",
       "      <td>Email Opened</td>\n",
       "      <td>Business Administration</td>\n",
       "      <td>...</td>\n",
       "      <td>0</td>\n",
       "      <td>0</td>\n",
       "      <td>0</td>\n",
       "      <td>0</td>\n",
       "      <td>0</td>\n",
       "      <td>0</td>\n",
       "      <td>0</td>\n",
       "      <td>0</td>\n",
       "      <td>0</td>\n",
       "      <td>0</td>\n",
       "    </tr>\n",
       "    <tr>\n",
       "      <th>3</th>\n",
       "      <td>Landing Page Submission</td>\n",
       "      <td>Direct Traffic</td>\n",
       "      <td>0</td>\n",
       "      <td>0</td>\n",
       "      <td>0</td>\n",
       "      <td>1.0</td>\n",
       "      <td>305</td>\n",
       "      <td>1.0</td>\n",
       "      <td>Unreachable</td>\n",
       "      <td>Media and Advertising</td>\n",
       "      <td>...</td>\n",
       "      <td>0</td>\n",
       "      <td>0</td>\n",
       "      <td>1</td>\n",
       "      <td>0</td>\n",
       "      <td>0</td>\n",
       "      <td>0</td>\n",
       "      <td>0</td>\n",
       "      <td>0</td>\n",
       "      <td>0</td>\n",
       "      <td>0</td>\n",
       "    </tr>\n",
       "    <tr>\n",
       "      <th>4</th>\n",
       "      <td>Landing Page Submission</td>\n",
       "      <td>Google</td>\n",
       "      <td>0</td>\n",
       "      <td>0</td>\n",
       "      <td>1</td>\n",
       "      <td>2.0</td>\n",
       "      <td>1428</td>\n",
       "      <td>1.0</td>\n",
       "      <td>Converted to Lead</td>\n",
       "      <td>Select</td>\n",
       "      <td>...</td>\n",
       "      <td>0</td>\n",
       "      <td>0</td>\n",
       "      <td>1</td>\n",
       "      <td>0</td>\n",
       "      <td>0</td>\n",
       "      <td>0</td>\n",
       "      <td>0</td>\n",
       "      <td>0</td>\n",
       "      <td>0</td>\n",
       "      <td>0</td>\n",
       "    </tr>\n",
       "  </tbody>\n",
       "</table>\n",
       "<p>5 rows × 84 columns</p>\n",
       "</div>"
      ],
      "text/plain": [
       "               Lead Origin     Lead Source  Do Not Email  Do Not Call  \\\n",
       "0                      API      Olark Chat             0            0   \n",
       "1                      API  Organic Search             0            0   \n",
       "2  Landing Page Submission  Direct Traffic             0            0   \n",
       "3  Landing Page Submission  Direct Traffic             0            0   \n",
       "4  Landing Page Submission          Google             0            0   \n",
       "\n",
       "   Converted  TotalVisits  Total Time Spent on Website  Page Views Per Visit  \\\n",
       "0          0          0.0                            0                   0.0   \n",
       "1          0          5.0                          674                   2.5   \n",
       "2          1          2.0                         1532                   2.0   \n",
       "3          0          1.0                          305                   1.0   \n",
       "4          1          2.0                         1428                   1.0   \n",
       "\n",
       "             Last Activity           Specialization  ...  \\\n",
       "0  Page Visited on Website                   Select  ...   \n",
       "1             Email Opened                   Select  ...   \n",
       "2             Email Opened  Business Administration  ...   \n",
       "3              Unreachable    Media and Advertising  ...   \n",
       "4        Converted to Lead                   Select  ...   \n",
       "\n",
       "  Last Notable Activity_Form Submitted on Website  \\\n",
       "0                                               0   \n",
       "1                                               0   \n",
       "2                                               0   \n",
       "3                                               0   \n",
       "4                                               0   \n",
       "\n",
       "  Last Notable Activity_Had a Phone Conversation  \\\n",
       "0                                              0   \n",
       "1                                              0   \n",
       "2                                              0   \n",
       "3                                              0   \n",
       "4                                              0   \n",
       "\n",
       "   Last Notable Activity_Modified  \\\n",
       "0                               1   \n",
       "1                               0   \n",
       "2                               0   \n",
       "3                               1   \n",
       "4                               1   \n",
       "\n",
       "  Last Notable Activity_Olark Chat Conversation  \\\n",
       "0                                             0   \n",
       "1                                             0   \n",
       "2                                             0   \n",
       "3                                             0   \n",
       "4                                             0   \n",
       "\n",
       "   Last Notable Activity_Page Visited on Website  \\\n",
       "0                                              0   \n",
       "1                                              0   \n",
       "2                                              0   \n",
       "3                                              0   \n",
       "4                                              0   \n",
       "\n",
       "   Last Notable Activity_Resubscribed to emails  \\\n",
       "0                                             0   \n",
       "1                                             0   \n",
       "2                                             0   \n",
       "3                                             0   \n",
       "4                                             0   \n",
       "\n",
       "   Last Notable Activity_SMS Sent  Last Notable Activity_Unreachable  \\\n",
       "0                               0                                  0   \n",
       "1                               0                                  0   \n",
       "2                               0                                  0   \n",
       "3                               0                                  0   \n",
       "4                               0                                  0   \n",
       "\n",
       "   Last Notable Activity_Unsubscribed  \\\n",
       "0                                   0   \n",
       "1                                   0   \n",
       "2                                   0   \n",
       "3                                   0   \n",
       "4                                   0   \n",
       "\n",
       "   Last Notable Activity_View in browser link Clicked  \n",
       "0                                                  0   \n",
       "1                                                  0   \n",
       "2                                                  0   \n",
       "3                                                  0   \n",
       "4                                                  0   \n",
       "\n",
       "[5 rows x 84 columns]"
      ]
     },
     "execution_count": 59,
     "metadata": {},
     "output_type": "execute_result"
    }
   ],
   "source": [
    "# Combining dummy data with the original dataset\n",
    "\n",
    "df = pd.concat([df, dummy_df], axis=1)\n",
    "df.head()"
   ]
  },
  {
   "cell_type": "code",
   "execution_count": 60,
   "metadata": {},
   "outputs": [
    {
     "data": {
      "text/html": [
       "<div>\n",
       "<style scoped>\n",
       "    .dataframe tbody tr th:only-of-type {\n",
       "        vertical-align: middle;\n",
       "    }\n",
       "\n",
       "    .dataframe tbody tr th {\n",
       "        vertical-align: top;\n",
       "    }\n",
       "\n",
       "    .dataframe thead th {\n",
       "        text-align: right;\n",
       "    }\n",
       "</style>\n",
       "<table border=\"1\" class=\"dataframe\">\n",
       "  <thead>\n",
       "    <tr style=\"text-align: right;\">\n",
       "      <th></th>\n",
       "      <th>Do Not Email</th>\n",
       "      <th>Do Not Call</th>\n",
       "      <th>Converted</th>\n",
       "      <th>TotalVisits</th>\n",
       "      <th>Total Time Spent on Website</th>\n",
       "      <th>Page Views Per Visit</th>\n",
       "      <th>A free copy of Mastering The Interview</th>\n",
       "      <th>Lead Source_Facebook</th>\n",
       "      <th>Lead Source_Google</th>\n",
       "      <th>Lead Source_Olark Chat</th>\n",
       "      <th>...</th>\n",
       "      <th>Last Notable Activity_Form Submitted on Website</th>\n",
       "      <th>Last Notable Activity_Had a Phone Conversation</th>\n",
       "      <th>Last Notable Activity_Modified</th>\n",
       "      <th>Last Notable Activity_Olark Chat Conversation</th>\n",
       "      <th>Last Notable Activity_Page Visited on Website</th>\n",
       "      <th>Last Notable Activity_Resubscribed to emails</th>\n",
       "      <th>Last Notable Activity_SMS Sent</th>\n",
       "      <th>Last Notable Activity_Unreachable</th>\n",
       "      <th>Last Notable Activity_Unsubscribed</th>\n",
       "      <th>Last Notable Activity_View in browser link Clicked</th>\n",
       "    </tr>\n",
       "  </thead>\n",
       "  <tbody>\n",
       "    <tr>\n",
       "      <th>0</th>\n",
       "      <td>0</td>\n",
       "      <td>0</td>\n",
       "      <td>0</td>\n",
       "      <td>0.0</td>\n",
       "      <td>0</td>\n",
       "      <td>0.0</td>\n",
       "      <td>0</td>\n",
       "      <td>0</td>\n",
       "      <td>0</td>\n",
       "      <td>1</td>\n",
       "      <td>...</td>\n",
       "      <td>0</td>\n",
       "      <td>0</td>\n",
       "      <td>1</td>\n",
       "      <td>0</td>\n",
       "      <td>0</td>\n",
       "      <td>0</td>\n",
       "      <td>0</td>\n",
       "      <td>0</td>\n",
       "      <td>0</td>\n",
       "      <td>0</td>\n",
       "    </tr>\n",
       "    <tr>\n",
       "      <th>1</th>\n",
       "      <td>0</td>\n",
       "      <td>0</td>\n",
       "      <td>0</td>\n",
       "      <td>5.0</td>\n",
       "      <td>674</td>\n",
       "      <td>2.5</td>\n",
       "      <td>0</td>\n",
       "      <td>0</td>\n",
       "      <td>0</td>\n",
       "      <td>0</td>\n",
       "      <td>...</td>\n",
       "      <td>0</td>\n",
       "      <td>0</td>\n",
       "      <td>0</td>\n",
       "      <td>0</td>\n",
       "      <td>0</td>\n",
       "      <td>0</td>\n",
       "      <td>0</td>\n",
       "      <td>0</td>\n",
       "      <td>0</td>\n",
       "      <td>0</td>\n",
       "    </tr>\n",
       "    <tr>\n",
       "      <th>2</th>\n",
       "      <td>0</td>\n",
       "      <td>0</td>\n",
       "      <td>1</td>\n",
       "      <td>2.0</td>\n",
       "      <td>1532</td>\n",
       "      <td>2.0</td>\n",
       "      <td>1</td>\n",
       "      <td>0</td>\n",
       "      <td>0</td>\n",
       "      <td>0</td>\n",
       "      <td>...</td>\n",
       "      <td>0</td>\n",
       "      <td>0</td>\n",
       "      <td>0</td>\n",
       "      <td>0</td>\n",
       "      <td>0</td>\n",
       "      <td>0</td>\n",
       "      <td>0</td>\n",
       "      <td>0</td>\n",
       "      <td>0</td>\n",
       "      <td>0</td>\n",
       "    </tr>\n",
       "    <tr>\n",
       "      <th>3</th>\n",
       "      <td>0</td>\n",
       "      <td>0</td>\n",
       "      <td>0</td>\n",
       "      <td>1.0</td>\n",
       "      <td>305</td>\n",
       "      <td>1.0</td>\n",
       "      <td>0</td>\n",
       "      <td>0</td>\n",
       "      <td>0</td>\n",
       "      <td>0</td>\n",
       "      <td>...</td>\n",
       "      <td>0</td>\n",
       "      <td>0</td>\n",
       "      <td>1</td>\n",
       "      <td>0</td>\n",
       "      <td>0</td>\n",
       "      <td>0</td>\n",
       "      <td>0</td>\n",
       "      <td>0</td>\n",
       "      <td>0</td>\n",
       "      <td>0</td>\n",
       "    </tr>\n",
       "    <tr>\n",
       "      <th>4</th>\n",
       "      <td>0</td>\n",
       "      <td>0</td>\n",
       "      <td>1</td>\n",
       "      <td>2.0</td>\n",
       "      <td>1428</td>\n",
       "      <td>1.0</td>\n",
       "      <td>0</td>\n",
       "      <td>0</td>\n",
       "      <td>1</td>\n",
       "      <td>0</td>\n",
       "      <td>...</td>\n",
       "      <td>0</td>\n",
       "      <td>0</td>\n",
       "      <td>1</td>\n",
       "      <td>0</td>\n",
       "      <td>0</td>\n",
       "      <td>0</td>\n",
       "      <td>0</td>\n",
       "      <td>0</td>\n",
       "      <td>0</td>\n",
       "      <td>0</td>\n",
       "    </tr>\n",
       "  </tbody>\n",
       "</table>\n",
       "<p>5 rows × 75 columns</p>\n",
       "</div>"
      ],
      "text/plain": [
       "   Do Not Email  Do Not Call  Converted  TotalVisits  \\\n",
       "0             0            0          0          0.0   \n",
       "1             0            0          0          5.0   \n",
       "2             0            0          1          2.0   \n",
       "3             0            0          0          1.0   \n",
       "4             0            0          1          2.0   \n",
       "\n",
       "   Total Time Spent on Website  Page Views Per Visit  \\\n",
       "0                            0                   0.0   \n",
       "1                          674                   2.5   \n",
       "2                         1532                   2.0   \n",
       "3                          305                   1.0   \n",
       "4                         1428                   1.0   \n",
       "\n",
       "   A free copy of Mastering The Interview  Lead Source_Facebook  \\\n",
       "0                                       0                     0   \n",
       "1                                       0                     0   \n",
       "2                                       1                     0   \n",
       "3                                       0                     0   \n",
       "4                                       0                     0   \n",
       "\n",
       "   Lead Source_Google  Lead Source_Olark Chat  ...  \\\n",
       "0                   0                       1  ...   \n",
       "1                   0                       0  ...   \n",
       "2                   0                       0  ...   \n",
       "3                   0                       0  ...   \n",
       "4                   1                       0  ...   \n",
       "\n",
       "   Last Notable Activity_Form Submitted on Website  \\\n",
       "0                                                0   \n",
       "1                                                0   \n",
       "2                                                0   \n",
       "3                                                0   \n",
       "4                                                0   \n",
       "\n",
       "   Last Notable Activity_Had a Phone Conversation  \\\n",
       "0                                               0   \n",
       "1                                               0   \n",
       "2                                               0   \n",
       "3                                               0   \n",
       "4                                               0   \n",
       "\n",
       "   Last Notable Activity_Modified  \\\n",
       "0                               1   \n",
       "1                               0   \n",
       "2                               0   \n",
       "3                               1   \n",
       "4                               1   \n",
       "\n",
       "   Last Notable Activity_Olark Chat Conversation  \\\n",
       "0                                              0   \n",
       "1                                              0   \n",
       "2                                              0   \n",
       "3                                              0   \n",
       "4                                              0   \n",
       "\n",
       "   Last Notable Activity_Page Visited on Website  \\\n",
       "0                                              0   \n",
       "1                                              0   \n",
       "2                                              0   \n",
       "3                                              0   \n",
       "4                                              0   \n",
       "\n",
       "   Last Notable Activity_Resubscribed to emails  \\\n",
       "0                                             0   \n",
       "1                                             0   \n",
       "2                                             0   \n",
       "3                                             0   \n",
       "4                                             0   \n",
       "\n",
       "   Last Notable Activity_SMS Sent  Last Notable Activity_Unreachable  \\\n",
       "0                               0                                  0   \n",
       "1                               0                                  0   \n",
       "2                               0                                  0   \n",
       "3                               0                                  0   \n",
       "4                               0                                  0   \n",
       "\n",
       "   Last Notable Activity_Unsubscribed  \\\n",
       "0                                   0   \n",
       "1                                   0   \n",
       "2                                   0   \n",
       "3                                   0   \n",
       "4                                   0   \n",
       "\n",
       "   Last Notable Activity_View in browser link Clicked  \n",
       "0                                                  0   \n",
       "1                                                  0   \n",
       "2                                                  0   \n",
       "3                                                  0   \n",
       "4                                                  0   \n",
       "\n",
       "[5 rows x 75 columns]"
      ]
     },
     "execution_count": 60,
     "metadata": {},
     "output_type": "execute_result"
    }
   ],
   "source": [
    "categorical_cols =['Lead Origin', 'Lead Source', 'Last Activity', 'Specialization','What is your current occupation','City','Last Notable Activity','Lead Source_Others','Specialization_Not Specified']\n",
    "df = df.drop(categorical_cols, axis=1)\n",
    "df.head()"
   ]
  },
  {
   "cell_type": "code",
   "execution_count": 61,
   "metadata": {},
   "outputs": [
    {
     "data": {
      "text/plain": [
       "(8807, 75)"
      ]
     },
     "execution_count": 61,
     "metadata": {},
     "output_type": "execute_result"
    }
   ],
   "source": [
    "df.shape"
   ]
  },
  {
   "attachments": {},
   "cell_type": "markdown",
   "metadata": {},
   "source": [
    "Test-train Split"
   ]
  },
  {
   "attachments": {},
   "cell_type": "markdown",
   "metadata": {},
   "source": [
    "In this code, X represents the features (independent variables) of the dataset after encoding categorical variables, and y represents the target variable (dependent variable) that we want to predict (e.g., 'Converted' in this case). The test_size parameter determines the proportion of the data to be allocated for the test set (e.g., 0.2 for 20% test data), and random_state ensures reproducibility of the split."
   ]
  },
  {
   "cell_type": "code",
   "execution_count": 62,
   "metadata": {},
   "outputs": [],
   "source": [
    "# Putting feature variable to X\n",
    "X = df.drop(['Converted'], axis=1)\n",
    "\n",
    "# Putting response variable to y\n",
    "y = df['Converted']"
   ]
  },
  {
   "cell_type": "code",
   "execution_count": 63,
   "metadata": {},
   "outputs": [],
   "source": [
    "# Splitting the data into train and test\n",
    "X_train, X_test, y_train, y_test = train_test_split(X, y, train_size=0.7, test_size=0.3, random_state=42)"
   ]
  },
  {
   "cell_type": "code",
   "execution_count": 64,
   "metadata": {},
   "outputs": [
    {
     "name": "stdout",
     "output_type": "stream",
     "text": [
      "(6164, 74)\n",
      "(2643, 74)\n"
     ]
    }
   ],
   "source": [
    "# Checking shape after splitting\n",
    "print(X_train.shape)\n",
    "print(X_test.shape)"
   ]
  },
  {
   "attachments": {},
   "cell_type": "markdown",
   "metadata": {},
   "source": [
    "<h1>Step 5:  Feature Scaling</h1>\n"
   ]
  },
  {
   "attachments": {},
   "cell_type": "markdown",
   "metadata": {},
   "source": [
    "Feature scaling is an important step in machine learning to standardize the range of independent variables or features in your dataset. It helps in bringing all the features to a similar scale, which can improve the performance of our machine learning algorithms."
   ]
  },
  {
   "attachments": {},
   "cell_type": "markdown",
   "metadata": {},
   "source": [
    "To ensure that the StandardScaler is applied only to some of the important columns we are filtering the same and applying standard scale"
   ]
  },
  {
   "cell_type": "code",
   "execution_count": 65,
   "metadata": {},
   "outputs": [
    {
     "data": {
      "text/html": [
       "<div>\n",
       "<style scoped>\n",
       "    .dataframe tbody tr th:only-of-type {\n",
       "        vertical-align: middle;\n",
       "    }\n",
       "\n",
       "    .dataframe tbody tr th {\n",
       "        vertical-align: top;\n",
       "    }\n",
       "\n",
       "    .dataframe thead th {\n",
       "        text-align: right;\n",
       "    }\n",
       "</style>\n",
       "<table border=\"1\" class=\"dataframe\">\n",
       "  <thead>\n",
       "    <tr style=\"text-align: right;\">\n",
       "      <th></th>\n",
       "      <th>Do Not Email</th>\n",
       "      <th>Do Not Call</th>\n",
       "      <th>TotalVisits</th>\n",
       "      <th>Total Time Spent on Website</th>\n",
       "      <th>Page Views Per Visit</th>\n",
       "      <th>A free copy of Mastering The Interview</th>\n",
       "      <th>Lead Source_Facebook</th>\n",
       "      <th>Lead Source_Google</th>\n",
       "      <th>Lead Source_Olark Chat</th>\n",
       "      <th>Lead Source_Organic Search</th>\n",
       "      <th>...</th>\n",
       "      <th>Last Notable Activity_Form Submitted on Website</th>\n",
       "      <th>Last Notable Activity_Had a Phone Conversation</th>\n",
       "      <th>Last Notable Activity_Modified</th>\n",
       "      <th>Last Notable Activity_Olark Chat Conversation</th>\n",
       "      <th>Last Notable Activity_Page Visited on Website</th>\n",
       "      <th>Last Notable Activity_Resubscribed to emails</th>\n",
       "      <th>Last Notable Activity_SMS Sent</th>\n",
       "      <th>Last Notable Activity_Unreachable</th>\n",
       "      <th>Last Notable Activity_Unsubscribed</th>\n",
       "      <th>Last Notable Activity_View in browser link Clicked</th>\n",
       "    </tr>\n",
       "  </thead>\n",
       "  <tbody>\n",
       "    <tr>\n",
       "      <th>2553</th>\n",
       "      <td>0</td>\n",
       "      <td>0</td>\n",
       "      <td>-1.163563</td>\n",
       "      <td>-0.877349</td>\n",
       "      <td>-1.157665</td>\n",
       "      <td>0</td>\n",
       "      <td>0</td>\n",
       "      <td>0</td>\n",
       "      <td>1</td>\n",
       "      <td>0</td>\n",
       "      <td>...</td>\n",
       "      <td>0</td>\n",
       "      <td>0</td>\n",
       "      <td>1</td>\n",
       "      <td>0</td>\n",
       "      <td>0</td>\n",
       "      <td>0</td>\n",
       "      <td>0</td>\n",
       "      <td>0</td>\n",
       "      <td>0</td>\n",
       "      <td>0</td>\n",
       "    </tr>\n",
       "    <tr>\n",
       "      <th>7567</th>\n",
       "      <td>0</td>\n",
       "      <td>0</td>\n",
       "      <td>1.181571</td>\n",
       "      <td>-0.039640</td>\n",
       "      <td>-0.145919</td>\n",
       "      <td>0</td>\n",
       "      <td>0</td>\n",
       "      <td>1</td>\n",
       "      <td>0</td>\n",
       "      <td>0</td>\n",
       "      <td>...</td>\n",
       "      <td>0</td>\n",
       "      <td>0</td>\n",
       "      <td>0</td>\n",
       "      <td>0</td>\n",
       "      <td>1</td>\n",
       "      <td>0</td>\n",
       "      <td>0</td>\n",
       "      <td>0</td>\n",
       "      <td>0</td>\n",
       "      <td>0</td>\n",
       "    </tr>\n",
       "    <tr>\n",
       "      <th>3004</th>\n",
       "      <td>1</td>\n",
       "      <td>0</td>\n",
       "      <td>0.399860</td>\n",
       "      <td>-0.797394</td>\n",
       "      <td>0.865828</td>\n",
       "      <td>0</td>\n",
       "      <td>0</td>\n",
       "      <td>1</td>\n",
       "      <td>0</td>\n",
       "      <td>0</td>\n",
       "      <td>...</td>\n",
       "      <td>0</td>\n",
       "      <td>0</td>\n",
       "      <td>1</td>\n",
       "      <td>0</td>\n",
       "      <td>0</td>\n",
       "      <td>0</td>\n",
       "      <td>0</td>\n",
       "      <td>0</td>\n",
       "      <td>0</td>\n",
       "      <td>0</td>\n",
       "    </tr>\n",
       "    <tr>\n",
       "      <th>678</th>\n",
       "      <td>0</td>\n",
       "      <td>0</td>\n",
       "      <td>0.009004</td>\n",
       "      <td>-0.493929</td>\n",
       "      <td>0.359955</td>\n",
       "      <td>0</td>\n",
       "      <td>0</td>\n",
       "      <td>1</td>\n",
       "      <td>0</td>\n",
       "      <td>0</td>\n",
       "      <td>...</td>\n",
       "      <td>0</td>\n",
       "      <td>0</td>\n",
       "      <td>0</td>\n",
       "      <td>0</td>\n",
       "      <td>0</td>\n",
       "      <td>0</td>\n",
       "      <td>0</td>\n",
       "      <td>0</td>\n",
       "      <td>0</td>\n",
       "      <td>0</td>\n",
       "    </tr>\n",
       "    <tr>\n",
       "      <th>2260</th>\n",
       "      <td>0</td>\n",
       "      <td>0</td>\n",
       "      <td>1.572427</td>\n",
       "      <td>-0.630216</td>\n",
       "      <td>2.383448</td>\n",
       "      <td>0</td>\n",
       "      <td>0</td>\n",
       "      <td>0</td>\n",
       "      <td>0</td>\n",
       "      <td>1</td>\n",
       "      <td>...</td>\n",
       "      <td>0</td>\n",
       "      <td>0</td>\n",
       "      <td>1</td>\n",
       "      <td>0</td>\n",
       "      <td>0</td>\n",
       "      <td>0</td>\n",
       "      <td>0</td>\n",
       "      <td>0</td>\n",
       "      <td>0</td>\n",
       "      <td>0</td>\n",
       "    </tr>\n",
       "  </tbody>\n",
       "</table>\n",
       "<p>5 rows × 74 columns</p>\n",
       "</div>"
      ],
      "text/plain": [
       "      Do Not Email  Do Not Call  TotalVisits  Total Time Spent on Website  \\\n",
       "2553             0            0    -1.163563                    -0.877349   \n",
       "7567             0            0     1.181571                    -0.039640   \n",
       "3004             1            0     0.399860                    -0.797394   \n",
       "678              0            0     0.009004                    -0.493929   \n",
       "2260             0            0     1.572427                    -0.630216   \n",
       "\n",
       "      Page Views Per Visit  A free copy of Mastering The Interview  \\\n",
       "2553             -1.157665                                       0   \n",
       "7567             -0.145919                                       0   \n",
       "3004              0.865828                                       0   \n",
       "678               0.359955                                       0   \n",
       "2260              2.383448                                       0   \n",
       "\n",
       "      Lead Source_Facebook  Lead Source_Google  Lead Source_Olark Chat  \\\n",
       "2553                     0                   0                       1   \n",
       "7567                     0                   1                       0   \n",
       "3004                     0                   1                       0   \n",
       "678                      0                   1                       0   \n",
       "2260                     0                   0                       0   \n",
       "\n",
       "      Lead Source_Organic Search  ...  \\\n",
       "2553                           0  ...   \n",
       "7567                           0  ...   \n",
       "3004                           0  ...   \n",
       "678                            0  ...   \n",
       "2260                           1  ...   \n",
       "\n",
       "      Last Notable Activity_Form Submitted on Website  \\\n",
       "2553                                                0   \n",
       "7567                                                0   \n",
       "3004                                                0   \n",
       "678                                                 0   \n",
       "2260                                                0   \n",
       "\n",
       "      Last Notable Activity_Had a Phone Conversation  \\\n",
       "2553                                               0   \n",
       "7567                                               0   \n",
       "3004                                               0   \n",
       "678                                                0   \n",
       "2260                                               0   \n",
       "\n",
       "      Last Notable Activity_Modified  \\\n",
       "2553                               1   \n",
       "7567                               0   \n",
       "3004                               1   \n",
       "678                                0   \n",
       "2260                               1   \n",
       "\n",
       "      Last Notable Activity_Olark Chat Conversation  \\\n",
       "2553                                              0   \n",
       "7567                                              0   \n",
       "3004                                              0   \n",
       "678                                               0   \n",
       "2260                                              0   \n",
       "\n",
       "      Last Notable Activity_Page Visited on Website  \\\n",
       "2553                                              0   \n",
       "7567                                              1   \n",
       "3004                                              0   \n",
       "678                                               0   \n",
       "2260                                              0   \n",
       "\n",
       "      Last Notable Activity_Resubscribed to emails  \\\n",
       "2553                                             0   \n",
       "7567                                             0   \n",
       "3004                                             0   \n",
       "678                                              0   \n",
       "2260                                             0   \n",
       "\n",
       "      Last Notable Activity_SMS Sent  Last Notable Activity_Unreachable  \\\n",
       "2553                               0                                  0   \n",
       "7567                               0                                  0   \n",
       "3004                               0                                  0   \n",
       "678                                0                                  0   \n",
       "2260                               0                                  0   \n",
       "\n",
       "      Last Notable Activity_Unsubscribed  \\\n",
       "2553                                   0   \n",
       "7567                                   0   \n",
       "3004                                   0   \n",
       "678                                    0   \n",
       "2260                                   0   \n",
       "\n",
       "      Last Notable Activity_View in browser link Clicked  \n",
       "2553                                                  0   \n",
       "7567                                                  0   \n",
       "3004                                                  0   \n",
       "678                                                   0   \n",
       "2260                                                  0   \n",
       "\n",
       "[5 rows x 74 columns]"
      ]
     },
     "execution_count": 65,
     "metadata": {},
     "output_type": "execute_result"
    }
   ],
   "source": [
    "#create object of StandardScaler\n",
    "scaler = StandardScaler()\n",
    "\n",
    "#Apply scaler() to numerical columns\n",
    "X_train[['TotalVisits','Total Time Spent on Website','Page Views Per Visit']] = scaler.fit_transform(X_train[['TotalVisits','Total Time Spent on Website','Page Views Per Visit']])\n",
    "\n",
    "X_train.head()"
   ]
  },
  {
   "attachments": {},
   "cell_type": "markdown",
   "metadata": {},
   "source": [
    "<h1>Step 7:  Feature Selection Using RFE</h1>\n"
   ]
  },
  {
   "attachments": {},
   "cell_type": "markdown",
   "metadata": {},
   "source": [
    "Feature Selection"
   ]
  },
  {
   "cell_type": "code",
   "execution_count": 66,
   "metadata": {},
   "outputs": [
    {
     "name": "stdout",
     "output_type": "stream",
     "text": [
      "Selected Features:\n",
      "Index(['Do Not Email', 'Total Time Spent on Website', 'Lead Source_Facebook',\n",
      "       'Lead Source_Olark Chat', 'Lead Source_Reference',\n",
      "       'Lead Source_Welingak Website', 'Last Activity_Converted to Lead',\n",
      "       'Last Activity_Email Bounced', 'Last Activity_Had a Phone Conversation',\n",
      "       'Last Activity_Olark Chat Conversation',\n",
      "       'Last Activity_View in browser link Clicked',\n",
      "       'What is your current occupation_Housewife',\n",
      "       'What is your current occupation_Student',\n",
      "       'What is your current occupation_Unemployed',\n",
      "       'What is your current occupation_Working Professional',\n",
      "       'Last Notable Activity_Email Link Clicked',\n",
      "       'Last Notable Activity_Email Opened', 'Last Notable Activity_Modified',\n",
      "       'Last Notable Activity_Olark Chat Conversation',\n",
      "       'Last Notable Activity_Page Visited on Website'],\n",
      "      dtype='object')\n"
     ]
    }
   ],
   "source": [
    "\n",
    "# Create an instance of Logistic Regression\n",
    "logreg = LogisticRegression()\n",
    "\n",
    "# Create an instance of RFE with desired number of features\n",
    "rfe = RFE(estimator=logreg, n_features_to_select=20)\n",
    "\n",
    "# Fit RFE on the training data\n",
    "rfe.fit(X_train, y_train)\n",
    "\n",
    "# Get the selected feature indices\n",
    "selected_features_indices = rfe.get_support(indices=True)\n",
    "\n",
    "# Get the selected feature names\n",
    "selected_features = X_train.columns[selected_features_indices]\n",
    "\n",
    "# Print the selected features\n",
    "print(\"Selected Features:\")\n",
    "print(selected_features)"
   ]
  },
  {
   "cell_type": "code",
   "execution_count": 67,
   "metadata": {},
   "outputs": [],
   "source": [
    "# Create a DataFrame with only the selected features\n",
    "df_feature_selected = X_train[selected_features]"
   ]
  },
  {
   "attachments": {},
   "cell_type": "markdown",
   "metadata": {},
   "source": [
    "<h1>Step 8:  Model Building</h1>"
   ]
  },
  {
   "attachments": {},
   "cell_type": "markdown",
   "metadata": {},
   "source": [
    "* Create User defined function to create and print models, Summary & VIF"
   ]
  },
  {
   "cell_type": "code",
   "execution_count": 68,
   "metadata": {},
   "outputs": [],
   "source": [
    "def build_logistic_regression_model(X, y, print_summary=True):\n",
    "    # Add constant to the feature matrix\n",
    "    X = sm.add_constant(X)\n",
    "    \n",
    "    # Fit the logistic regression model\n",
    "    model = sm.GLM(y, X, family=sm.families.Binomial())\n",
    "    result = model.fit()\n",
    "    \n",
    "    if print_summary:\n",
    "        # Print the model summary\n",
    "        print(result.summary())\n",
    "        \n",
    "        # Calculate VIF for each feature\n",
    "        vif = pd.DataFrame()\n",
    "        vif[\"Features\"] = X.columns[1:]\n",
    "        vif[\"VIF\"] = [variance_inflation_factor(X.values, i) for i in range(1, X.shape[1])]\n",
    "        print(\"\\nVariance Inflation Factor (VIF):\\n\")\n",
    "        print(vif)\n",
    "    \n",
    "    return model, result\n"
   ]
  },
  {
   "attachments": {},
   "cell_type": "markdown",
   "metadata": {},
   "source": [
    "Build Model-1"
   ]
  },
  {
   "cell_type": "code",
   "execution_count": 69,
   "metadata": {},
   "outputs": [
    {
     "name": "stdout",
     "output_type": "stream",
     "text": [
      "                 Generalized Linear Model Regression Results                  \n",
      "==============================================================================\n",
      "Dep. Variable:              Converted   No. Observations:                 6164\n",
      "Model:                            GLM   Df Residuals:                     6143\n",
      "Model Family:                Binomial   Df Model:                           20\n",
      "Link Function:                  Logit   Scale:                          1.0000\n",
      "Method:                          IRLS   Log-Likelihood:                -2576.0\n",
      "Date:                Mon, 22 May 2023   Deviance:                       5151.9\n",
      "Time:                        21:47:57   Pearson chi2:                 6.33e+03\n",
      "No. Iterations:                    21   Pseudo R-squ. (CS):             0.3876\n",
      "Covariance Type:            nonrobust                                         \n",
      "========================================================================================================================\n",
      "                                                           coef    std err          z      P>|z|      [0.025      0.975]\n",
      "------------------------------------------------------------------------------------------------------------------------\n",
      "const                                                    1.5212      0.590      2.579      0.010       0.365       2.677\n",
      "Do Not Email                                            -1.4246      0.199     -7.150      0.000      -1.815      -1.034\n",
      "Total Time Spent on Website                              1.1076      0.041     27.217      0.000       1.028       1.187\n",
      "Lead Source_Facebook                                     1.2826      0.578      2.218      0.027       0.149       2.416\n",
      "Lead Source_Olark Chat                                   1.1402      0.104     10.913      0.000       0.935       1.345\n",
      "Lead Source_Reference                                    3.9075      0.226     17.311      0.000       3.465       4.350\n",
      "Lead Source_Welingak Website                             6.5438      1.014      6.451      0.000       4.556       8.532\n",
      "Last Activity_Converted to Lead                         -0.9551      0.208     -4.591      0.000      -1.363      -0.547\n",
      "Last Activity_Email Bounced                             -1.2322      0.405     -3.042      0.002      -2.026      -0.438\n",
      "Last Activity_Had a Phone Conversation                   1.5410      0.736      2.094      0.036       0.098       2.984\n",
      "Last Activity_Olark Chat Conversation                   -1.3287      0.193     -6.896      0.000      -1.706      -0.951\n",
      "Last Activity_View in browser link Clicked             -22.1998   2.67e+04     -0.001      0.999   -5.23e+04    5.23e+04\n",
      "What is your current occupation_Housewife               21.5120   1.57e+04      0.001      0.999   -3.07e+04    3.07e+04\n",
      "What is your current occupation_Student                 -1.0821      0.626     -1.729      0.084      -2.309       0.145\n",
      "What is your current occupation_Unemployed              -1.3711      0.586     -2.339      0.019      -2.520      -0.222\n",
      "What is your current occupation_Working Professional     1.3435      0.614      2.189      0.029       0.141       2.546\n",
      "Last Notable Activity_Email Link Clicked                -1.6358      0.252     -6.481      0.000      -2.130      -1.141\n",
      "Last Notable Activity_Email Opened                      -1.4702      0.089    -16.470      0.000      -1.645      -1.295\n",
      "Last Notable Activity_Modified                          -1.6574      0.102    -16.270      0.000      -1.857      -1.458\n",
      "Last Notable Activity_Olark Chat Conversation           -1.6457      0.370     -4.454      0.000      -2.370      -0.921\n",
      "Last Notable Activity_Page Visited on Website           -1.6869      0.217     -7.761      0.000      -2.113      -1.261\n",
      "========================================================================================================================\n",
      "\n",
      "Variance Inflation Factor (VIF):\n",
      "\n",
      "                                             Features        VIF\n",
      "0                                        Do Not Email   1.726087\n",
      "1                         Total Time Spent on Website   1.339299\n",
      "2                                Lead Source_Facebook   1.007019\n",
      "3                              Lead Source_Olark Chat   1.480993\n",
      "4                               Lead Source_Reference   1.178700\n",
      "5                        Lead Source_Welingak Website   1.034664\n",
      "6                     Last Activity_Converted to Lead   1.211786\n",
      "7                         Last Activity_Email Bounced   1.733211\n",
      "8              Last Activity_Had a Phone Conversation   1.005401\n",
      "9               Last Activity_Olark Chat Conversation   1.855016\n",
      "10         Last Activity_View in browser link Clicked   1.002132\n",
      "11          What is your current occupation_Housewife   1.416537\n",
      "12            What is your current occupation_Student   9.392497\n",
      "13         What is your current occupation_Unemployed  33.245432\n",
      "14  What is your current occupation_Working Profes...  25.882382\n",
      "15           Last Notable Activity_Email Link Clicked   1.066477\n",
      "16                 Last Notable Activity_Email Opened   1.614947\n",
      "17                     Last Notable Activity_Modified   2.056799\n",
      "18      Last Notable Activity_Olark Chat Conversation   1.418295\n",
      "19      Last Notable Activity_Page Visited on Website   1.094131\n"
     ]
    },
    {
     "data": {
      "text/plain": [
       "(<statsmodels.genmod.generalized_linear_model.GLM at 0x20df4d27760>,\n",
       " <statsmodels.genmod.generalized_linear_model.GLMResultsWrapper at 0x20df47ef220>)"
      ]
     },
     "execution_count": 69,
     "metadata": {},
     "output_type": "execute_result"
    }
   ],
   "source": [
    "\n",
    "build_logistic_regression_model(df_feature_selected,y_train, print_summary=True)"
   ]
  },
  {
   "attachments": {},
   "cell_type": "markdown",
   "metadata": {},
   "source": [
    "Based on the logistic regression model summary and VIF values, here are a few things to improve the model:\n",
    "\n",
    "we can try  removing features with high p-values (P>|z|) that are not statistically significant, such as \"Last Activity_View in browser link Clicked\", \"What is your current occupation_Housewife\", \"What is your current occupation_Student\", and \"What is your current occupation_Working Professional\". These variables may not have a significant impact on the conversion rate."
   ]
  },
  {
   "attachments": {},
   "cell_type": "markdown",
   "metadata": {},
   "source": [
    "Build Model-2"
   ]
  },
  {
   "cell_type": "code",
   "execution_count": 70,
   "metadata": {},
   "outputs": [
    {
     "name": "stdout",
     "output_type": "stream",
     "text": [
      "                 Generalized Linear Model Regression Results                  \n",
      "==============================================================================\n",
      "Dep. Variable:              Converted   No. Observations:                 6164\n",
      "Model:                            GLM   Df Residuals:                     6147\n",
      "Model Family:                Binomial   Df Model:                           16\n",
      "Link Function:                  Logit   Scale:                          1.0000\n",
      "Method:                          IRLS   Log-Likelihood:                -2617.9\n",
      "Date:                Mon, 22 May 2023   Deviance:                       5235.9\n",
      "Time:                        21:47:58   Pearson chi2:                 6.18e+03\n",
      "No. Iterations:                     7   Pseudo R-squ. (CS):             0.3792\n",
      "Covariance Type:            nonrobust                                         \n",
      "=================================================================================================================\n",
      "                                                    coef    std err          z      P>|z|      [0.025      0.975]\n",
      "-----------------------------------------------------------------------------------------------------------------\n",
      "const                                             1.9872      0.136     14.624      0.000       1.721       2.254\n",
      "Do Not Email                                     -1.4322      0.197     -7.277      0.000      -1.818      -1.046\n",
      "Total Time Spent on Website                       1.1079      0.040     27.436      0.000       1.029       1.187\n",
      "Lead Source_Facebook                              1.2363      0.595      2.079      0.038       0.071       2.402\n",
      "Lead Source_Olark Chat                            1.1064      0.103     10.695      0.000       0.904       1.309\n",
      "Lead Source_Reference                             3.9232      0.224     17.476      0.000       3.483       4.363\n",
      "Lead Source_Welingak Website                      6.5430      1.014      6.450      0.000       4.555       8.531\n",
      "Last Activity_Converted to Lead                  -0.9573      0.204     -4.687      0.000      -1.358      -0.557\n",
      "Last Activity_Email Bounced                      -1.3137      0.399     -3.291      0.001      -2.096      -0.531\n",
      "Last Activity_Had a Phone Conversation            1.5654      0.730      2.144      0.032       0.135       2.996\n",
      "Last Activity_Olark Chat Conversation            -1.3407      0.191     -7.015      0.000      -1.715      -0.966\n",
      "What is your current occupation_Unemployed       -1.8063      0.124    -14.537      0.000      -2.050      -1.563\n",
      "Last Notable Activity_Email Link Clicked         -1.6334      0.249     -6.567      0.000      -2.121      -1.146\n",
      "Last Notable Activity_Email Opened               -1.5052      0.089    -17.008      0.000      -1.679      -1.332\n",
      "Last Notable Activity_Modified                   -1.6872      0.101    -16.708      0.000      -1.885      -1.489\n",
      "Last Notable Activity_Olark Chat Conversation    -1.7406      0.368     -4.725      0.000      -2.463      -1.019\n",
      "Last Notable Activity_Page Visited on Website    -1.7333      0.215     -8.069      0.000      -2.154      -1.312\n",
      "=================================================================================================================\n",
      "\n",
      "Variance Inflation Factor (VIF):\n",
      "\n",
      "                                         Features       VIF\n",
      "0                                    Do Not Email  1.725434\n",
      "1                     Total Time Spent on Website  1.336507\n",
      "2                            Lead Source_Facebook  1.006760\n",
      "3                          Lead Source_Olark Chat  1.480718\n",
      "4                           Lead Source_Reference  1.166658\n",
      "5                    Lead Source_Welingak Website  1.034611\n",
      "6                 Last Activity_Converted to Lead  1.210292\n",
      "7                     Last Activity_Email Bounced  1.731717\n",
      "8          Last Activity_Had a Phone Conversation  1.005247\n",
      "9           Last Activity_Olark Chat Conversation  1.853559\n",
      "10     What is your current occupation_Unemployed  1.074324\n",
      "11       Last Notable Activity_Email Link Clicked  1.064512\n",
      "12             Last Notable Activity_Email Opened  1.597341\n",
      "13                 Last Notable Activity_Modified  2.046268\n",
      "14  Last Notable Activity_Olark Chat Conversation  1.416136\n",
      "15  Last Notable Activity_Page Visited on Website  1.092132\n"
     ]
    }
   ],
   "source": [
    "# Remove features with high p-values\n",
    "removed_features = ['Last Activity_View in browser link Clicked',\n",
    "                    'What is your current occupation_Housewife',\n",
    "                    'What is your current occupation_Student',\n",
    "                    'What is your current occupation_Working Professional']\n",
    "df_updated = df_feature_selected.drop(removed_features, axis=1)\n",
    "\n",
    "model, result = build_logistic_regression_model(df_updated, y_train, print_summary=True)\n",
    "\n",
    "\n",
    "\n"
   ]
  },
  {
   "attachments": {},
   "cell_type": "markdown",
   "metadata": {},
   "source": [
    "* The improvements from Model 1 to Model 2 include:\n",
    "\n",
    "1. Reduced Complexity: Model 2 has a reduced number of features compared to Model 1. By removing features with high p-values, you have simplified the model and focused on the most relevant predictors. This can lead to better interpretability and potentially improved performance.\n",
    "\n",
    "2. Improved Log-Likelihood: The log-likelihood value in Model 2 (-2617.9) is higher than in Model 1 (-2576.0). A higher log-likelihood indicates that Model 2 fits the data better, suggesting an improvement in the model's overall goodness of fit.\n",
    "\n",
    "3. Reduced Deviance: The deviance value in Model 2 (5235.9) is lower than in Model 1 (5151.9). A lower deviance indicates a better fit of the model to the data. This suggests that Model 2 is able to explain the variability in the target variable more effectively.\n",
    "\n",
    "4. Improved Pseudo R-squared: The pseudo R-squared value in Model 2 (0.3792) is slightly higher than in Model 1 (0.3876). Pseudo R-squared measures the proportion of the variance explained by the model. Although the difference is small, it suggests a slight improvement in the ability of Model 2 to explain the variation in the target variable.\n",
    "\n",
    "5. Improved VIF Values: The Variance Inflation Factor (VIF) values for the remaining features in Model 2 are generally lower compared to Model 1. Lower VIF values indicate lower multicollinearity among the predictors, which is desirable for a more reliable and stable model.\n"
   ]
  },
  {
   "attachments": {},
   "cell_type": "markdown",
   "metadata": {},
   "source": [
    "we can accept Model 2 as the final model due to the following reasons:\n",
    "\n",
    "1. Improved Performance: Model 2 demonstrates improved performance compared to Model 1, as indicated by a lower log-likelihood, deviance, and Pearson chi2 values. Additionally, Model 2 exhibits a slightly higher pseudo R-squared value, suggesting a better fit to the data.\n",
    "\n",
    "2. Refinement of Features: Model 2 incorporates feature selection by removing statistically insignificant features identified through high p-values. This refinement helps to focus on the most relevant and influential predictors, resulting in a more streamlined and interpretable model.\n",
    "\n",
    "3. Addressing Multicollinearity: Model 2 effectively handles multicollinearity by identifying and removing features with high variance inflation factor (VIF) values. This step ensures that the remaining features are less correlated, leading to more reliable and stable coefficient estimates.\n",
    "\n",
    "4. Goodness of Fit: Model 2 maintains a satisfactory goodness of fit, as demonstrated by the significant coefficients associated with the remaining features. These coefficients provide meaningful insights into the relationships between the predictors and the target variable, contributing to a better understanding of the underlying dynamics.\n",
    "\n",
    "5. Robustness and Generalization: Model 2's performance is supported by a reasonable number of iterations and a non-robust covariance type. Additionally, it is essential to assess the model's generalization capability by evaluating it on unseen data through techniques like cross-validation, which can provide more confidence in its predictive ability.\n",
    "\n",
    "6. Practicality and Interpretability: Model 2 retains a reasonable number of features, striking a balance between performance and simplicity. This characteristic makes the model more practical and easier to interpret, as it focuses on the most influential factors without excessive complexity.\n"
   ]
  },
  {
   "attachments": {},
   "cell_type": "markdown",
   "metadata": {},
   "source": [
    "<h1>Step 9:  Model Trainning</h1>"
   ]
  },
  {
   "attachments": {},
   "cell_type": "markdown",
   "metadata": {},
   "source": [
    "In this step, I am training a logistic regression model using the updated feature dataset. I add a constant term to the feature matrix, fit the model using the training data, and obtain the predicted values for the target variable. Finally, I print the predicted values on the training dataset to assess the model's performance."
   ]
  },
  {
   "cell_type": "code",
   "execution_count": 71,
   "metadata": {},
   "outputs": [
    {
     "name": "stdout",
     "output_type": "stream",
     "text": [
      "Predicted values on train dataset:\n",
      "2553    0.202336\n",
      "7567    0.168515\n",
      "3004    0.021418\n",
      "678     0.133372\n",
      "2260    0.099355\n",
      "          ...   \n",
      "6033    0.139057\n",
      "5452    0.138095\n",
      "5667    0.083581\n",
      "931     0.099536\n",
      "7636    0.932495\n",
      "Length: 6164, dtype: float64\n"
     ]
    }
   ],
   "source": [
    "# Add constant to the feature matrix\n",
    "X_train = sm.add_constant(df_updated)\n",
    "    \n",
    "# Fit the logistic regression model\n",
    "model = sm.GLM(y_train, X_train, family=sm.families.Binomial())\n",
    "result = model.fit()\n",
    "\n",
    "y_train_pred = result.predict(X_train)\n",
    "\n",
    "# Print the predicted values\n",
    "print(\"Predicted values on train dataset:\")\n",
    "print(y_train_pred)"
   ]
  },
  {
   "attachments": {},
   "cell_type": "markdown",
   "metadata": {},
   "source": [
    "I am reshaping the predicted values (y_train_pred) into a 1-dimensional array using y_train_pred.values.reshape(-1) to ensure that it has the same shape as the actual target variable (y_train). This is necessary for comparing and evaluating the predicted values with the actual values, as well as for further analysis or model performance assessment."
   ]
  },
  {
   "cell_type": "code",
   "execution_count": 72,
   "metadata": {},
   "outputs": [],
   "source": [
    "y_train_pred = y_train_pred.values.reshape(-1)"
   ]
  },
  {
   "cell_type": "code",
   "execution_count": 73,
   "metadata": {},
   "outputs": [
    {
     "name": "stdout",
     "output_type": "stream",
     "text": [
      "      Actual Converted Flag  Predicted Probabilities    ID\n",
      "2553                      0                 0.202336  2553\n",
      "7567                      0                 0.168515  7567\n",
      "3004                      0                 0.021418  3004\n",
      "678                       0                 0.133372   678\n",
      "2260                      0                 0.099355  2260\n",
      "3256                      0                 0.108418  3256\n",
      "5782                      0                 0.101906  5782\n",
      "3656                      0                 0.009374  3656\n",
      "7805                      1                 0.778408  7805\n",
      "3683                      0                 0.331860  3683\n",
      "379                       1                 0.047216   379\n",
      "864                       1                 0.233294   864\n",
      "5742                      1                 0.785614  5742\n",
      "7781                      0                 0.006286  7781\n",
      "8611                      0                 0.180478  8611\n"
     ]
    }
   ],
   "source": [
    "# Create a dataframe with actual converted flag and predicted probabilities\n",
    "df_results = pd.DataFrame({'Actual Converted Flag': y_train, 'Predicted Probabilities': y_train_pred})\n",
    "\n",
    "# create a new column for ID\n",
    "df_results['ID'] = df_results.index\n",
    "\n",
    "# Print the dataframe\n",
    "print(df_results.head(15))\n"
   ]
  },
  {
   "cell_type": "code",
   "execution_count": 74,
   "metadata": {},
   "outputs": [
    {
     "name": "stdout",
     "output_type": "stream",
     "text": [
      "      Actual Converted Flag  Predicted Probabilities    ID  Threshold Flag\n",
      "2553                      0                 0.202336  2553               0\n",
      "7567                      0                 0.168515  7567               0\n",
      "3004                      0                 0.021418  3004               0\n",
      "678                       0                 0.133372   678               0\n",
      "2260                      0                 0.099355  2260               0\n",
      "...                     ...                      ...   ...             ...\n",
      "6033                      0                 0.139057  6033               0\n",
      "5452                      0                 0.138095  5452               0\n",
      "5667                      0                 0.083581  5667               0\n",
      "931                       0                 0.099536   931               0\n",
      "7636                      1                 0.932495  7636               1\n",
      "\n",
      "[6164 rows x 4 columns]\n"
     ]
    }
   ],
   "source": [
    "# Set the threshold\n",
    "threshold = 0.5\n",
    "\n",
    "# Create a new column based on the threshold\n",
    "df_results['Threshold Flag'] = df_results['Predicted Probabilities'].apply(lambda x: 1 if x > threshold else 0)\n",
    "\n",
    "# Print the updated dataframe\n",
    "print(df_results)\n"
   ]
  },
  {
   "cell_type": "code",
   "execution_count": 75,
   "metadata": {},
   "outputs": [],
   "source": [
    "y_train_pred = df_updated"
   ]
  },
  {
   "attachments": {},
   "cell_type": "markdown",
   "metadata": {},
   "source": [
    "<h1>Step 10: Model Evaluation</h1>"
   ]
  },
  {
   "attachments": {},
   "cell_type": "markdown",
   "metadata": {},
   "source": [
    "* Confusion matrix"
   ]
  },
  {
   "attachments": {},
   "cell_type": "markdown",
   "metadata": {},
   "source": [
    "I am using a heatmap to visualize the confusion matrix in a more understandable format. By representing the counts of correct and incorrect predictions with different colors, the heatmap allows me to quickly assess the performance of my model. The diagonal cells indicate the correct predictions, while the off-diagonal cells represent the incorrect predictions."
   ]
  },
  {
   "cell_type": "code",
   "execution_count": 76,
   "metadata": {},
   "outputs": [
    {
     "data": {
      "image/png": "[encoded data removed]",
      "text/plain": [
       "<Figure size 640x480 with 2 Axes>"
      ]
     },
     "metadata": {},
     "output_type": "display_data"
    }
   ],
   "source": [
    "# Calculate the confusion matrix\n",
    "confusion_mat = confusion_matrix(df_results['Actual Converted Flag'], df_results['Threshold Flag'])\n",
    "\n",
    "# Create a heatmap of the confusion matrix\n",
    "sns.heatmap(confusion_mat, annot=True, fmt='d', cmap='Blues')\n",
    "\n",
    "# Add labels, title, and ticks to the plot\n",
    "plt.xlabel('Predicted Labels')\n",
    "plt.ylabel('True Labels')\n",
    "plt.title('Confusion Matrix')\n",
    "plt.show()\n"
   ]
  },
  {
   "attachments": {},
   "cell_type": "markdown",
   "metadata": {},
   "source": [
    "The confusion matrix provides information about the performance of a binary classification model. In this case, the model has correctly predicted 3368 instances of the positive class (actual converted flag) and 1603 instances of the negative class (actual not converted flag). However, it has made 466 false positive predictions (predicted as converted, but actually not converted) and 727 false negative predictions (predicted as not converted, but actually converted)."
   ]
  },
  {
   "attachments": {},
   "cell_type": "markdown",
   "metadata": {},
   "source": [
    "* overall accuracy"
   ]
  },
  {
   "cell_type": "code",
   "execution_count": 77,
   "metadata": {},
   "outputs": [
    {
     "name": "stdout",
     "output_type": "stream",
     "text": [
      "Accuracy: 0.8064568462037638\n"
     ]
    }
   ],
   "source": [
    "\n",
    "\n",
    "accuracy = accuracy_score(df_results['Actual Converted Flag'], df_results['Threshold Flag'])\n",
    "\n",
    "print(\"Accuracy:\", accuracy)\n"
   ]
  },
  {
   "attachments": {},
   "cell_type": "markdown",
   "metadata": {},
   "source": [
    "\n",
    "The accuracy score of the model is 0.8064568462037638, indicating that the model correctly predicted the converted flag for approximately 80.65% of the cases."
   ]
  },
  {
   "attachments": {},
   "cell_type": "markdown",
   "metadata": {},
   "source": [
    "* sensitivity & specificity & postive rate"
   ]
  },
  {
   "cell_type": "code",
   "execution_count": 78,
   "metadata": {},
   "outputs": [
    {
     "name": "stdout",
     "output_type": "stream",
     "text": [
      "Sensitivity (True Positive Rate): 0.6879828326180257\n",
      "Specificity (True Negative Rate): 0.8784559207094418\n",
      "Positive Rate (Precision): 0.7747704204929918\n",
      "Negative Rate: 0.8224664224664224\n"
     ]
    }
   ],
   "source": [
    "\n",
    "cm = confusion_matrix(df_results['Actual Converted Flag'], df_results['Threshold Flag'])\n",
    "\n",
    "# Calculate sensitivity (true positive rate)\n",
    "sensitivity = cm[1, 1] / (cm[1, 0] + cm[1, 1])\n",
    "\n",
    "# Calculate specificity (true negative rate)\n",
    "specificity = cm[0, 0] / (cm[0, 0] + cm[0, 1])\n",
    "\n",
    "# Calculate positive predictive value (precision)\n",
    "positive_rate = cm[1, 1] / (cm[0, 1] + cm[1, 1])\n",
    "\n",
    "# Calculate negative predictive value\n",
    "negative_rate = cm[0, 0] / (cm[0, 0] + cm[1, 0])\n",
    "\n",
    "print(\"Sensitivity (True Positive Rate):\", sensitivity)\n",
    "print(\"Specificity (True Negative Rate):\", specificity)\n",
    "print(\"Positive Rate (Precision):\", positive_rate)\n",
    "print(\"Negative Rate:\", negative_rate)\n"
   ]
  },
  {
   "attachments": {},
   "cell_type": "markdown",
   "metadata": {},
   "source": [
    "The sensitivity (true positive rate) of 0.688 indicates the proportion of actual positive instances correctly classified by the model. The specificity (true negative rate) of 0.878 indicates the proportion of actual negative instances correctly classified by the model. The positive rate (precision) of 0.775 represents the proportion of predicted positive instances that are actually positive. The negative rate of 0.822 indicates the proportion of predicted negative instances that are actually negative."
   ]
  },
  {
   "attachments": {},
   "cell_type": "markdown",
   "metadata": {},
   "source": [
    "* ROC Curve"
   ]
  },
  {
   "cell_type": "code",
   "execution_count": 79,
   "metadata": {},
   "outputs": [
    {
     "data": {
      "image/png": "[encoded data removed]",
      "text/plain": [
       "<Figure size 400x300 with 1 Axes>"
      ]
     },
     "metadata": {},
     "output_type": "display_data"
    }
   ],
   "source": [
    "fpr, tpr, thresholds = roc_curve(df_results['Actual Converted Flag'], df_results['Predicted Probabilities'])\n",
    "roc_auc = auc(fpr, tpr)\n",
    "\n",
    "# Plot ROC curve\n",
    "plt.figure(figsize=(4, 3))\n",
    "plt.plot(fpr, tpr, label='ROC curve (AUC = %0.2f)' % roc_auc, linewidth=2)\n",
    "plt.plot([0, 1], [0, 1], 'k--', linewidth=1)  # Diagonal line representing random guessing\n",
    "plt.xlim([0.0, 1.0])\n",
    "plt.ylim([0.0, 1.05])\n",
    "plt.xlabel('False Positive Rate', fontsize=12)\n",
    "plt.ylabel('True Positive Rate', fontsize=12)\n",
    "plt.title('Receiver Operating Characteristic (ROC)', fontsize=14)\n",
    "plt.legend(loc=\"lower right\", fontsize=12)\n",
    "plt.grid(True, linestyle='--', linewidth=0.5)\n",
    "plt.tick_params(axis='both', which='major', labelsize=10)\n",
    "plt.show()\n"
   ]
  },
  {
   "attachments": {},
   "cell_type": "markdown",
   "metadata": {},
   "source": [
    "An ROC AUC (Receiver Operating Characteristic Area Under the Curve) of 0.88 indicates that the model has good discriminatory power in distinguishing between positive and negative instances. The higher the ROC AUC value (ranging from 0 to 1), the better the model's ability to correctly classify instances. In this case, an ROC AUC of 0.88 suggests that the model performs well in predicting the conversion flag."
   ]
  },
  {
   "attachments": {},
   "cell_type": "markdown",
   "metadata": {},
   "source": [
    "<h1>Step 11: Finding the Optimal Cut Off point</h1>"
   ]
  },
  {
   "cell_type": "code",
   "execution_count": 80,
   "metadata": {},
   "outputs": [
    {
     "name": "stdout",
     "output_type": "stream",
     "text": [
      "     Probability  Accuracy  Sensitivity  Specificity\n",
      "0.0          0.0  0.378001     1.000000     0.000000\n",
      "0.1          0.1  0.585172     0.965665     0.353938\n",
      "0.2          0.2  0.735724     0.919313     0.624152\n",
      "0.3          0.3  0.795912     0.845064     0.766041\n",
      "0.4          0.4  0.803537     0.769099     0.824465\n",
      "0.5          0.5  0.806457     0.687983     0.878456\n",
      "0.6          0.6  0.791531     0.573820     0.923839\n",
      "0.7          0.7  0.776606     0.491416     0.949922\n",
      "0.8          0.8  0.754056     0.401717     0.968179\n",
      "0.9          0.9  0.703602     0.235193     0.988263\n"
     ]
    }
   ],
   "source": [
    "# Create columns with different probability cutoffs\n",
    "cutoffs = [float(x)/10 for x in range(10)]\n",
    "for cutoff in cutoffs:\n",
    "    df_results[cutoff] = df_results['Predicted Probabilities'].map(lambda x: 1 if x > cutoff else 0)\n",
    "\n",
    "# Initialize a DataFrame to store the results\n",
    "cutoff_df = pd.DataFrame(columns=['Probability', 'Accuracy', 'Sensitivity', 'Specificity'])\n",
    "\n",
    "# Calculate metrics for each probability cutoff\n",
    "for cutoff in cutoffs:\n",
    "    cm = metrics.confusion_matrix(df_results['Actual Converted Flag'], df_results[cutoff])\n",
    "    total = np.sum(cm)\n",
    "    accuracy = (cm[0, 0] + cm[1, 1]) / total\n",
    "    specificity = cm[0, 0] / (cm[0, 0] + cm[0, 1])\n",
    "    sensitivity = cm[1, 1] / (cm[1, 0] + cm[1, 1])\n",
    "    cutoff_df.loc[cutoff] = [cutoff, accuracy, sensitivity, specificity]\n",
    "\n",
    "# Print the cutoff DataFrame\n",
    "print(cutoff_df)\n"
   ]
  },
  {
   "cell_type": "code",
   "execution_count": 81,
   "metadata": {},
   "outputs": [
    {
     "data": {
      "image/png": "[encoded data removed]",
      "text/plain": [
       "<Figure size 700x400 with 1 Axes>"
      ]
     },
     "metadata": {},
     "output_type": "display_data"
    }
   ],
   "source": [
    "# Set up plot style and context\n",
    "sns.set_style('whitegrid')\n",
    "sns.set_context('paper')\n",
    "\n",
    "# Plot the accuracy, sensitivity, and specificity curves\n",
    "plt.figure(figsize=(7, 4))\n",
    "sns.lineplot(x='Probability', y='value', hue='variable', data=pd.melt(cutoff_df, ['Probability']),\n",
    "             palette=['blue', 'green', 'red'])\n",
    "\n",
    "# Set x-axis and y-axis labels\n",
    "plt.xlabel('Probability Cutoff', fontsize=12)\n",
    "plt.ylabel('Metric Value', fontsize=12)\n",
    "\n",
    "# Set title and legend\n",
    "plt.title('Model Performance for Different Probability Cutoffs', fontsize=14)\n",
    "plt.legend(fontsize=10)\n",
    "\n",
    "# Set x-tick labels\n",
    "plt.xticks(np.arange(0, 1, step=0.05), size=8, rotation=45)\n",
    "\n",
    "# Set y-tick labels\n",
    "plt.yticks(size=10)\n",
    "\n",
    "# Show the plot\n",
    "plt.show()"
   ]
  },
  {
   "attachments": {},
   "cell_type": "markdown",
   "metadata": {},
   "source": [
    "From the above curve, we can observe that the optimal cutoff point is approximately at 0.37. At this threshold, the model achieves a balanced trade-off between accuracy, sensitivity, and specificity. This means that the model can effectively classify both positive and negative instances without favoring one over the other."
   ]
  },
  {
   "cell_type": "code",
   "execution_count": 82,
   "metadata": {},
   "outputs": [
    {
     "data": {
      "text/html": [
       "<div>\n",
       "<style scoped>\n",
       "    .dataframe tbody tr th:only-of-type {\n",
       "        vertical-align: middle;\n",
       "    }\n",
       "\n",
       "    .dataframe tbody tr th {\n",
       "        vertical-align: top;\n",
       "    }\n",
       "\n",
       "    .dataframe thead th {\n",
       "        text-align: right;\n",
       "    }\n",
       "</style>\n",
       "<table border=\"1\" class=\"dataframe\">\n",
       "  <thead>\n",
       "    <tr style=\"text-align: right;\">\n",
       "      <th></th>\n",
       "      <th>Actual Converted Flag</th>\n",
       "      <th>Predicted Probabilities</th>\n",
       "      <th>ID</th>\n",
       "      <th>Threshold Flag</th>\n",
       "      <th>0.0</th>\n",
       "      <th>0.1</th>\n",
       "      <th>0.2</th>\n",
       "      <th>0.3</th>\n",
       "      <th>0.4</th>\n",
       "      <th>0.5</th>\n",
       "      <th>0.6</th>\n",
       "      <th>0.7</th>\n",
       "      <th>0.8</th>\n",
       "      <th>0.9</th>\n",
       "      <th>Final Prediction</th>\n",
       "    </tr>\n",
       "  </thead>\n",
       "  <tbody>\n",
       "    <tr>\n",
       "      <th>2553</th>\n",
       "      <td>0</td>\n",
       "      <td>0.202336</td>\n",
       "      <td>2553</td>\n",
       "      <td>0</td>\n",
       "      <td>1</td>\n",
       "      <td>1</td>\n",
       "      <td>1</td>\n",
       "      <td>0</td>\n",
       "      <td>0</td>\n",
       "      <td>0</td>\n",
       "      <td>0</td>\n",
       "      <td>0</td>\n",
       "      <td>0</td>\n",
       "      <td>0</td>\n",
       "      <td>0</td>\n",
       "    </tr>\n",
       "    <tr>\n",
       "      <th>7567</th>\n",
       "      <td>0</td>\n",
       "      <td>0.168515</td>\n",
       "      <td>7567</td>\n",
       "      <td>0</td>\n",
       "      <td>1</td>\n",
       "      <td>1</td>\n",
       "      <td>0</td>\n",
       "      <td>0</td>\n",
       "      <td>0</td>\n",
       "      <td>0</td>\n",
       "      <td>0</td>\n",
       "      <td>0</td>\n",
       "      <td>0</td>\n",
       "      <td>0</td>\n",
       "      <td>0</td>\n",
       "    </tr>\n",
       "    <tr>\n",
       "      <th>3004</th>\n",
       "      <td>0</td>\n",
       "      <td>0.021418</td>\n",
       "      <td>3004</td>\n",
       "      <td>0</td>\n",
       "      <td>1</td>\n",
       "      <td>0</td>\n",
       "      <td>0</td>\n",
       "      <td>0</td>\n",
       "      <td>0</td>\n",
       "      <td>0</td>\n",
       "      <td>0</td>\n",
       "      <td>0</td>\n",
       "      <td>0</td>\n",
       "      <td>0</td>\n",
       "      <td>0</td>\n",
       "    </tr>\n",
       "    <tr>\n",
       "      <th>678</th>\n",
       "      <td>0</td>\n",
       "      <td>0.133372</td>\n",
       "      <td>678</td>\n",
       "      <td>0</td>\n",
       "      <td>1</td>\n",
       "      <td>1</td>\n",
       "      <td>0</td>\n",
       "      <td>0</td>\n",
       "      <td>0</td>\n",
       "      <td>0</td>\n",
       "      <td>0</td>\n",
       "      <td>0</td>\n",
       "      <td>0</td>\n",
       "      <td>0</td>\n",
       "      <td>0</td>\n",
       "    </tr>\n",
       "    <tr>\n",
       "      <th>2260</th>\n",
       "      <td>0</td>\n",
       "      <td>0.099355</td>\n",
       "      <td>2260</td>\n",
       "      <td>0</td>\n",
       "      <td>1</td>\n",
       "      <td>0</td>\n",
       "      <td>0</td>\n",
       "      <td>0</td>\n",
       "      <td>0</td>\n",
       "      <td>0</td>\n",
       "      <td>0</td>\n",
       "      <td>0</td>\n",
       "      <td>0</td>\n",
       "      <td>0</td>\n",
       "      <td>0</td>\n",
       "    </tr>\n",
       "    <tr>\n",
       "      <th>3256</th>\n",
       "      <td>0</td>\n",
       "      <td>0.108418</td>\n",
       "      <td>3256</td>\n",
       "      <td>0</td>\n",
       "      <td>1</td>\n",
       "      <td>1</td>\n",
       "      <td>0</td>\n",
       "      <td>0</td>\n",
       "      <td>0</td>\n",
       "      <td>0</td>\n",
       "      <td>0</td>\n",
       "      <td>0</td>\n",
       "      <td>0</td>\n",
       "      <td>0</td>\n",
       "      <td>0</td>\n",
       "    </tr>\n",
       "    <tr>\n",
       "      <th>5782</th>\n",
       "      <td>0</td>\n",
       "      <td>0.101906</td>\n",
       "      <td>5782</td>\n",
       "      <td>0</td>\n",
       "      <td>1</td>\n",
       "      <td>1</td>\n",
       "      <td>0</td>\n",
       "      <td>0</td>\n",
       "      <td>0</td>\n",
       "      <td>0</td>\n",
       "      <td>0</td>\n",
       "      <td>0</td>\n",
       "      <td>0</td>\n",
       "      <td>0</td>\n",
       "      <td>0</td>\n",
       "    </tr>\n",
       "    <tr>\n",
       "      <th>3656</th>\n",
       "      <td>0</td>\n",
       "      <td>0.009374</td>\n",
       "      <td>3656</td>\n",
       "      <td>0</td>\n",
       "      <td>1</td>\n",
       "      <td>0</td>\n",
       "      <td>0</td>\n",
       "      <td>0</td>\n",
       "      <td>0</td>\n",
       "      <td>0</td>\n",
       "      <td>0</td>\n",
       "      <td>0</td>\n",
       "      <td>0</td>\n",
       "      <td>0</td>\n",
       "      <td>0</td>\n",
       "    </tr>\n",
       "    <tr>\n",
       "      <th>7805</th>\n",
       "      <td>1</td>\n",
       "      <td>0.778408</td>\n",
       "      <td>7805</td>\n",
       "      <td>1</td>\n",
       "      <td>1</td>\n",
       "      <td>1</td>\n",
       "      <td>1</td>\n",
       "      <td>1</td>\n",
       "      <td>1</td>\n",
       "      <td>1</td>\n",
       "      <td>1</td>\n",
       "      <td>1</td>\n",
       "      <td>0</td>\n",
       "      <td>0</td>\n",
       "      <td>1</td>\n",
       "    </tr>\n",
       "    <tr>\n",
       "      <th>3683</th>\n",
       "      <td>0</td>\n",
       "      <td>0.331860</td>\n",
       "      <td>3683</td>\n",
       "      <td>0</td>\n",
       "      <td>1</td>\n",
       "      <td>1</td>\n",
       "      <td>1</td>\n",
       "      <td>1</td>\n",
       "      <td>0</td>\n",
       "      <td>0</td>\n",
       "      <td>0</td>\n",
       "      <td>0</td>\n",
       "      <td>0</td>\n",
       "      <td>0</td>\n",
       "      <td>0</td>\n",
       "    </tr>\n",
       "  </tbody>\n",
       "</table>\n",
       "</div>"
      ],
      "text/plain": [
       "      Actual Converted Flag  Predicted Probabilities    ID  Threshold Flag  \\\n",
       "2553                      0                 0.202336  2553               0   \n",
       "7567                      0                 0.168515  7567               0   \n",
       "3004                      0                 0.021418  3004               0   \n",
       "678                       0                 0.133372   678               0   \n",
       "2260                      0                 0.099355  2260               0   \n",
       "3256                      0                 0.108418  3256               0   \n",
       "5782                      0                 0.101906  5782               0   \n",
       "3656                      0                 0.009374  3656               0   \n",
       "7805                      1                 0.778408  7805               1   \n",
       "3683                      0                 0.331860  3683               0   \n",
       "\n",
       "      0.0  0.1  0.2  0.3  0.4  0.5  0.6  0.7  0.8  0.9  Final Prediction  \n",
       "2553    1    1    1    0    0    0    0    0    0    0                 0  \n",
       "7567    1    1    0    0    0    0    0    0    0    0                 0  \n",
       "3004    1    0    0    0    0    0    0    0    0    0                 0  \n",
       "678     1    1    0    0    0    0    0    0    0    0                 0  \n",
       "2260    1    0    0    0    0    0    0    0    0    0                 0  \n",
       "3256    1    1    0    0    0    0    0    0    0    0                 0  \n",
       "5782    1    1    0    0    0    0    0    0    0    0                 0  \n",
       "3656    1    0    0    0    0    0    0    0    0    0                 0  \n",
       "7805    1    1    1    1    1    1    1    1    0    0                 1  \n",
       "3683    1    1    1    1    0    0    0    0    0    0                 0  "
      ]
     },
     "execution_count": 82,
     "metadata": {},
     "output_type": "execute_result"
    }
   ],
   "source": [
    "# Apply the cutoff to predicted probabilities\n",
    "df_results['Final Prediction'] = np.where(df_results['Predicted Probabilities'] > 0.37, 1, 0)\n",
    "\n",
    "# Print the final prediction\n",
    "df_results.head(10)\n"
   ]
  },
  {
   "cell_type": "code",
   "execution_count": 83,
   "metadata": {},
   "outputs": [
    {
     "data": {
      "text/html": [
       "<div>\n",
       "<style scoped>\n",
       "    .dataframe tbody tr th:only-of-type {\n",
       "        vertical-align: middle;\n",
       "    }\n",
       "\n",
       "    .dataframe tbody tr th {\n",
       "        vertical-align: top;\n",
       "    }\n",
       "\n",
       "    .dataframe thead th {\n",
       "        text-align: right;\n",
       "    }\n",
       "</style>\n",
       "<table border=\"1\" class=\"dataframe\">\n",
       "  <thead>\n",
       "    <tr style=\"text-align: right;\">\n",
       "      <th></th>\n",
       "      <th>Actual Converted Flag</th>\n",
       "      <th>Predicted Probabilities</th>\n",
       "      <th>ID</th>\n",
       "      <th>Threshold Flag</th>\n",
       "      <th>0.0</th>\n",
       "      <th>0.1</th>\n",
       "      <th>0.2</th>\n",
       "      <th>0.3</th>\n",
       "      <th>0.4</th>\n",
       "      <th>0.5</th>\n",
       "      <th>0.6</th>\n",
       "      <th>0.7</th>\n",
       "      <th>0.8</th>\n",
       "      <th>0.9</th>\n",
       "      <th>Final Prediction</th>\n",
       "      <th>Lead Score</th>\n",
       "    </tr>\n",
       "  </thead>\n",
       "  <tbody>\n",
       "    <tr>\n",
       "      <th>2553</th>\n",
       "      <td>0</td>\n",
       "      <td>0.202336</td>\n",
       "      <td>2553</td>\n",
       "      <td>0</td>\n",
       "      <td>1</td>\n",
       "      <td>1</td>\n",
       "      <td>1</td>\n",
       "      <td>0</td>\n",
       "      <td>0</td>\n",
       "      <td>0</td>\n",
       "      <td>0</td>\n",
       "      <td>0</td>\n",
       "      <td>0</td>\n",
       "      <td>0</td>\n",
       "      <td>0</td>\n",
       "      <td>20.0</td>\n",
       "    </tr>\n",
       "    <tr>\n",
       "      <th>7567</th>\n",
       "      <td>0</td>\n",
       "      <td>0.168515</td>\n",
       "      <td>7567</td>\n",
       "      <td>0</td>\n",
       "      <td>1</td>\n",
       "      <td>1</td>\n",
       "      <td>0</td>\n",
       "      <td>0</td>\n",
       "      <td>0</td>\n",
       "      <td>0</td>\n",
       "      <td>0</td>\n",
       "      <td>0</td>\n",
       "      <td>0</td>\n",
       "      <td>0</td>\n",
       "      <td>0</td>\n",
       "      <td>17.0</td>\n",
       "    </tr>\n",
       "    <tr>\n",
       "      <th>3004</th>\n",
       "      <td>0</td>\n",
       "      <td>0.021418</td>\n",
       "      <td>3004</td>\n",
       "      <td>0</td>\n",
       "      <td>1</td>\n",
       "      <td>0</td>\n",
       "      <td>0</td>\n",
       "      <td>0</td>\n",
       "      <td>0</td>\n",
       "      <td>0</td>\n",
       "      <td>0</td>\n",
       "      <td>0</td>\n",
       "      <td>0</td>\n",
       "      <td>0</td>\n",
       "      <td>0</td>\n",
       "      <td>2.0</td>\n",
       "    </tr>\n",
       "    <tr>\n",
       "      <th>678</th>\n",
       "      <td>0</td>\n",
       "      <td>0.133372</td>\n",
       "      <td>678</td>\n",
       "      <td>0</td>\n",
       "      <td>1</td>\n",
       "      <td>1</td>\n",
       "      <td>0</td>\n",
       "      <td>0</td>\n",
       "      <td>0</td>\n",
       "      <td>0</td>\n",
       "      <td>0</td>\n",
       "      <td>0</td>\n",
       "      <td>0</td>\n",
       "      <td>0</td>\n",
       "      <td>0</td>\n",
       "      <td>13.0</td>\n",
       "    </tr>\n",
       "    <tr>\n",
       "      <th>2260</th>\n",
       "      <td>0</td>\n",
       "      <td>0.099355</td>\n",
       "      <td>2260</td>\n",
       "      <td>0</td>\n",
       "      <td>1</td>\n",
       "      <td>0</td>\n",
       "      <td>0</td>\n",
       "      <td>0</td>\n",
       "      <td>0</td>\n",
       "      <td>0</td>\n",
       "      <td>0</td>\n",
       "      <td>0</td>\n",
       "      <td>0</td>\n",
       "      <td>0</td>\n",
       "      <td>0</td>\n",
       "      <td>10.0</td>\n",
       "    </tr>\n",
       "    <tr>\n",
       "      <th>3256</th>\n",
       "      <td>0</td>\n",
       "      <td>0.108418</td>\n",
       "      <td>3256</td>\n",
       "      <td>0</td>\n",
       "      <td>1</td>\n",
       "      <td>1</td>\n",
       "      <td>0</td>\n",
       "      <td>0</td>\n",
       "      <td>0</td>\n",
       "      <td>0</td>\n",
       "      <td>0</td>\n",
       "      <td>0</td>\n",
       "      <td>0</td>\n",
       "      <td>0</td>\n",
       "      <td>0</td>\n",
       "      <td>11.0</td>\n",
       "    </tr>\n",
       "    <tr>\n",
       "      <th>5782</th>\n",
       "      <td>0</td>\n",
       "      <td>0.101906</td>\n",
       "      <td>5782</td>\n",
       "      <td>0</td>\n",
       "      <td>1</td>\n",
       "      <td>1</td>\n",
       "      <td>0</td>\n",
       "      <td>0</td>\n",
       "      <td>0</td>\n",
       "      <td>0</td>\n",
       "      <td>0</td>\n",
       "      <td>0</td>\n",
       "      <td>0</td>\n",
       "      <td>0</td>\n",
       "      <td>0</td>\n",
       "      <td>10.0</td>\n",
       "    </tr>\n",
       "    <tr>\n",
       "      <th>3656</th>\n",
       "      <td>0</td>\n",
       "      <td>0.009374</td>\n",
       "      <td>3656</td>\n",
       "      <td>0</td>\n",
       "      <td>1</td>\n",
       "      <td>0</td>\n",
       "      <td>0</td>\n",
       "      <td>0</td>\n",
       "      <td>0</td>\n",
       "      <td>0</td>\n",
       "      <td>0</td>\n",
       "      <td>0</td>\n",
       "      <td>0</td>\n",
       "      <td>0</td>\n",
       "      <td>0</td>\n",
       "      <td>1.0</td>\n",
       "    </tr>\n",
       "    <tr>\n",
       "      <th>7805</th>\n",
       "      <td>1</td>\n",
       "      <td>0.778408</td>\n",
       "      <td>7805</td>\n",
       "      <td>1</td>\n",
       "      <td>1</td>\n",
       "      <td>1</td>\n",
       "      <td>1</td>\n",
       "      <td>1</td>\n",
       "      <td>1</td>\n",
       "      <td>1</td>\n",
       "      <td>1</td>\n",
       "      <td>1</td>\n",
       "      <td>0</td>\n",
       "      <td>0</td>\n",
       "      <td>1</td>\n",
       "      <td>78.0</td>\n",
       "    </tr>\n",
       "    <tr>\n",
       "      <th>3683</th>\n",
       "      <td>0</td>\n",
       "      <td>0.331860</td>\n",
       "      <td>3683</td>\n",
       "      <td>0</td>\n",
       "      <td>1</td>\n",
       "      <td>1</td>\n",
       "      <td>1</td>\n",
       "      <td>1</td>\n",
       "      <td>0</td>\n",
       "      <td>0</td>\n",
       "      <td>0</td>\n",
       "      <td>0</td>\n",
       "      <td>0</td>\n",
       "      <td>0</td>\n",
       "      <td>0</td>\n",
       "      <td>33.0</td>\n",
       "    </tr>\n",
       "    <tr>\n",
       "      <th>379</th>\n",
       "      <td>1</td>\n",
       "      <td>0.047216</td>\n",
       "      <td>379</td>\n",
       "      <td>0</td>\n",
       "      <td>1</td>\n",
       "      <td>0</td>\n",
       "      <td>0</td>\n",
       "      <td>0</td>\n",
       "      <td>0</td>\n",
       "      <td>0</td>\n",
       "      <td>0</td>\n",
       "      <td>0</td>\n",
       "      <td>0</td>\n",
       "      <td>0</td>\n",
       "      <td>0</td>\n",
       "      <td>5.0</td>\n",
       "    </tr>\n",
       "    <tr>\n",
       "      <th>864</th>\n",
       "      <td>1</td>\n",
       "      <td>0.233294</td>\n",
       "      <td>864</td>\n",
       "      <td>0</td>\n",
       "      <td>1</td>\n",
       "      <td>1</td>\n",
       "      <td>1</td>\n",
       "      <td>0</td>\n",
       "      <td>0</td>\n",
       "      <td>0</td>\n",
       "      <td>0</td>\n",
       "      <td>0</td>\n",
       "      <td>0</td>\n",
       "      <td>0</td>\n",
       "      <td>0</td>\n",
       "      <td>23.0</td>\n",
       "    </tr>\n",
       "    <tr>\n",
       "      <th>5742</th>\n",
       "      <td>1</td>\n",
       "      <td>0.785614</td>\n",
       "      <td>5742</td>\n",
       "      <td>1</td>\n",
       "      <td>1</td>\n",
       "      <td>1</td>\n",
       "      <td>1</td>\n",
       "      <td>1</td>\n",
       "      <td>1</td>\n",
       "      <td>1</td>\n",
       "      <td>1</td>\n",
       "      <td>1</td>\n",
       "      <td>0</td>\n",
       "      <td>0</td>\n",
       "      <td>1</td>\n",
       "      <td>79.0</td>\n",
       "    </tr>\n",
       "    <tr>\n",
       "      <th>7781</th>\n",
       "      <td>0</td>\n",
       "      <td>0.006286</td>\n",
       "      <td>7781</td>\n",
       "      <td>0</td>\n",
       "      <td>1</td>\n",
       "      <td>0</td>\n",
       "      <td>0</td>\n",
       "      <td>0</td>\n",
       "      <td>0</td>\n",
       "      <td>0</td>\n",
       "      <td>0</td>\n",
       "      <td>0</td>\n",
       "      <td>0</td>\n",
       "      <td>0</td>\n",
       "      <td>0</td>\n",
       "      <td>1.0</td>\n",
       "    </tr>\n",
       "    <tr>\n",
       "      <th>8611</th>\n",
       "      <td>0</td>\n",
       "      <td>0.180478</td>\n",
       "      <td>8611</td>\n",
       "      <td>0</td>\n",
       "      <td>1</td>\n",
       "      <td>1</td>\n",
       "      <td>0</td>\n",
       "      <td>0</td>\n",
       "      <td>0</td>\n",
       "      <td>0</td>\n",
       "      <td>0</td>\n",
       "      <td>0</td>\n",
       "      <td>0</td>\n",
       "      <td>0</td>\n",
       "      <td>0</td>\n",
       "      <td>18.0</td>\n",
       "    </tr>\n",
       "    <tr>\n",
       "      <th>7603</th>\n",
       "      <td>0</td>\n",
       "      <td>0.105393</td>\n",
       "      <td>7603</td>\n",
       "      <td>0</td>\n",
       "      <td>1</td>\n",
       "      <td>1</td>\n",
       "      <td>0</td>\n",
       "      <td>0</td>\n",
       "      <td>0</td>\n",
       "      <td>0</td>\n",
       "      <td>0</td>\n",
       "      <td>0</td>\n",
       "      <td>0</td>\n",
       "      <td>0</td>\n",
       "      <td>0</td>\n",
       "      <td>11.0</td>\n",
       "    </tr>\n",
       "    <tr>\n",
       "      <th>8926</th>\n",
       "      <td>0</td>\n",
       "      <td>0.032068</td>\n",
       "      <td>8926</td>\n",
       "      <td>0</td>\n",
       "      <td>1</td>\n",
       "      <td>0</td>\n",
       "      <td>0</td>\n",
       "      <td>0</td>\n",
       "      <td>0</td>\n",
       "      <td>0</td>\n",
       "      <td>0</td>\n",
       "      <td>0</td>\n",
       "      <td>0</td>\n",
       "      <td>0</td>\n",
       "      <td>0</td>\n",
       "      <td>3.0</td>\n",
       "    </tr>\n",
       "    <tr>\n",
       "      <th>340</th>\n",
       "      <td>0</td>\n",
       "      <td>0.103296</td>\n",
       "      <td>340</td>\n",
       "      <td>0</td>\n",
       "      <td>1</td>\n",
       "      <td>1</td>\n",
       "      <td>0</td>\n",
       "      <td>0</td>\n",
       "      <td>0</td>\n",
       "      <td>0</td>\n",
       "      <td>0</td>\n",
       "      <td>0</td>\n",
       "      <td>0</td>\n",
       "      <td>0</td>\n",
       "      <td>0</td>\n",
       "      <td>10.0</td>\n",
       "    </tr>\n",
       "    <tr>\n",
       "      <th>7290</th>\n",
       "      <td>0</td>\n",
       "      <td>0.029492</td>\n",
       "      <td>7290</td>\n",
       "      <td>0</td>\n",
       "      <td>1</td>\n",
       "      <td>0</td>\n",
       "      <td>0</td>\n",
       "      <td>0</td>\n",
       "      <td>0</td>\n",
       "      <td>0</td>\n",
       "      <td>0</td>\n",
       "      <td>0</td>\n",
       "      <td>0</td>\n",
       "      <td>0</td>\n",
       "      <td>0</td>\n",
       "      <td>3.0</td>\n",
       "    </tr>\n",
       "    <tr>\n",
       "      <th>808</th>\n",
       "      <td>1</td>\n",
       "      <td>0.835749</td>\n",
       "      <td>808</td>\n",
       "      <td>1</td>\n",
       "      <td>1</td>\n",
       "      <td>1</td>\n",
       "      <td>1</td>\n",
       "      <td>1</td>\n",
       "      <td>1</td>\n",
       "      <td>1</td>\n",
       "      <td>1</td>\n",
       "      <td>1</td>\n",
       "      <td>1</td>\n",
       "      <td>0</td>\n",
       "      <td>1</td>\n",
       "      <td>84.0</td>\n",
       "    </tr>\n",
       "  </tbody>\n",
       "</table>\n",
       "</div>"
      ],
      "text/plain": [
       "      Actual Converted Flag  Predicted Probabilities    ID  Threshold Flag  \\\n",
       "2553                      0                 0.202336  2553               0   \n",
       "7567                      0                 0.168515  7567               0   \n",
       "3004                      0                 0.021418  3004               0   \n",
       "678                       0                 0.133372   678               0   \n",
       "2260                      0                 0.099355  2260               0   \n",
       "3256                      0                 0.108418  3256               0   \n",
       "5782                      0                 0.101906  5782               0   \n",
       "3656                      0                 0.009374  3656               0   \n",
       "7805                      1                 0.778408  7805               1   \n",
       "3683                      0                 0.331860  3683               0   \n",
       "379                       1                 0.047216   379               0   \n",
       "864                       1                 0.233294   864               0   \n",
       "5742                      1                 0.785614  5742               1   \n",
       "7781                      0                 0.006286  7781               0   \n",
       "8611                      0                 0.180478  8611               0   \n",
       "7603                      0                 0.105393  7603               0   \n",
       "8926                      0                 0.032068  8926               0   \n",
       "340                       0                 0.103296   340               0   \n",
       "7290                      0                 0.029492  7290               0   \n",
       "808                       1                 0.835749   808               1   \n",
       "\n",
       "      0.0  0.1  0.2  0.3  0.4  0.5  0.6  0.7  0.8  0.9  Final Prediction  \\\n",
       "2553    1    1    1    0    0    0    0    0    0    0                 0   \n",
       "7567    1    1    0    0    0    0    0    0    0    0                 0   \n",
       "3004    1    0    0    0    0    0    0    0    0    0                 0   \n",
       "678     1    1    0    0    0    0    0    0    0    0                 0   \n",
       "2260    1    0    0    0    0    0    0    0    0    0                 0   \n",
       "3256    1    1    0    0    0    0    0    0    0    0                 0   \n",
       "5782    1    1    0    0    0    0    0    0    0    0                 0   \n",
       "3656    1    0    0    0    0    0    0    0    0    0                 0   \n",
       "7805    1    1    1    1    1    1    1    1    0    0                 1   \n",
       "3683    1    1    1    1    0    0    0    0    0    0                 0   \n",
       "379     1    0    0    0    0    0    0    0    0    0                 0   \n",
       "864     1    1    1    0    0    0    0    0    0    0                 0   \n",
       "5742    1    1    1    1    1    1    1    1    0    0                 1   \n",
       "7781    1    0    0    0    0    0    0    0    0    0                 0   \n",
       "8611    1    1    0    0    0    0    0    0    0    0                 0   \n",
       "7603    1    1    0    0    0    0    0    0    0    0                 0   \n",
       "8926    1    0    0    0    0    0    0    0    0    0                 0   \n",
       "340     1    1    0    0    0    0    0    0    0    0                 0   \n",
       "7290    1    0    0    0    0    0    0    0    0    0                 0   \n",
       "808     1    1    1    1    1    1    1    1    1    0                 1   \n",
       "\n",
       "      Lead Score  \n",
       "2553        20.0  \n",
       "7567        17.0  \n",
       "3004         2.0  \n",
       "678         13.0  \n",
       "2260        10.0  \n",
       "3256        11.0  \n",
       "5782        10.0  \n",
       "3656         1.0  \n",
       "7805        78.0  \n",
       "3683        33.0  \n",
       "379          5.0  \n",
       "864         23.0  \n",
       "5742        79.0  \n",
       "7781         1.0  \n",
       "8611        18.0  \n",
       "7603        11.0  \n",
       "8926         3.0  \n",
       "340         10.0  \n",
       "7290         3.0  \n",
       "808         84.0  "
      ]
     },
     "execution_count": 83,
     "metadata": {},
     "output_type": "execute_result"
    }
   ],
   "source": [
    "# Calculate the lead score based on the final prediction and round it\n",
    "df_results['Lead Score'] = round(df_results['Predicted Probabilities'] * 100)\n",
    "\n",
    "df_results.head(20)\n"
   ]
  },
  {
   "cell_type": "code",
   "execution_count": 84,
   "metadata": {},
   "outputs": [
    {
     "name": "stdout",
     "output_type": "stream",
     "text": [
      "Accuracy: 79.57%\n"
     ]
    }
   ],
   "source": [
    "# Select the rows where the actual converted flag is 1 and retrieve the 'Actual Converted Flag' and 'Final Prediction' columns\n",
    "checking_df = df_results.loc[df_results['Actual Converted Flag'] == 1, ['Actual Converted Flag', 'Final Prediction']]\n",
    "\n",
    "# Count the occurrences of each prediction value\n",
    "prediction_counts = checking_df['Final Prediction'].value_counts()\n",
    "\n",
    "# Get the count of 1 predictions\n",
    "prediction_1_count = prediction_counts[1]\n",
    "\n",
    "# Get the count of 0 predictions\n",
    "prediction_0_count = prediction_counts[0]\n",
    "\n",
    "# Calculate the accuracy as the ratio of correctly predicted cases to total cases\n",
    "accuracy = prediction_1_count / float(prediction_1_count + prediction_0_count)\n",
    "\n",
    "# Convert accuracy to percentage and round to two decimal places\n",
    "accuracy_percentage = round(accuracy * 100, 2)\n",
    "\n",
    "# Print the accuracy as a percentage\n",
    "print(\"Accuracy: {:.2f}%\".format(accuracy_percentage))\n",
    "\n"
   ]
  },
  {
   "attachments": {},
   "cell_type": "markdown",
   "metadata": {},
   "source": [
    "Based on the final prediction of conversions, the model achieves a conversion rate of approximately 79.8%, which aligns with the CEO's target of 80%. This indicates that the model performs well in predicting conversions. Furthermore, evaluating the overall metrics, including accuracy, confusion matrix, sensitivity, specificity, false positive rate, positive predictive value, and negative predictive value, supports the effectiveness of the model's predictions on the training set."
   ]
  },
  {
   "cell_type": "code",
   "execution_count": 85,
   "metadata": {},
   "outputs": [
    {
     "name": "stdout",
     "output_type": "stream",
     "text": [
      "Accuracy: 80.37%\n"
     ]
    }
   ],
   "source": [
    "#checking accuracy\n",
    "accuracy = accuracy_score(df_results['Actual Converted Flag'], df_results['Final Prediction'])\n",
    "\n",
    "# Convert accuracy to percentage and round to two decimal places\n",
    "accuracy_percentage = round(accuracy * 100, 2)\n",
    "\n",
    "# Print the accuracy as a percentage\n",
    "print(\"Accuracy: {:.2f}%\".format(accuracy_percentage))\n"
   ]
  },
  {
   "cell_type": "code",
   "execution_count": 86,
   "metadata": {},
   "outputs": [
    {
     "data": {
      "image/png": "[encoded data removed]",
      "text/plain": [
       "<Figure size 640x480 with 2 Axes>"
      ]
     },
     "metadata": {},
     "output_type": "display_data"
    }
   ],
   "source": [
    "# Calculate the confusion matrix\n",
    "cm = confusion_matrix(df_results['Actual Converted Flag'], df_results['Final Prediction'])\n",
    "\n",
    "# Create a heatmap of the confusion matrix\n",
    "sns.heatmap(cm, annot=True, fmt='d', cmap='Blues')\n",
    "\n",
    "# Add labels, title, and ticks to the plot\n",
    "plt.xlabel('Predicted Labels')\n",
    "plt.ylabel('True Labels')\n",
    "plt.title('Confusion Matrix')\n",
    "plt.show()"
   ]
  },
  {
   "attachments": {},
   "cell_type": "markdown",
   "metadata": {},
   "source": [
    "The confusion matrix you provided is a 2x2 matrix representing the performance of a binary classification model. Here's the interpretation of each element in the matrix:\n",
    "\n",
    "- True Negative (TN): 3100 - The number of observations that are actually negative and correctly predicted as negative.\n",
    "- False Positive (FP): 734 - The number of observations that are actually negative but incorrectly predicted as positive.\n",
    "- False Negative (FN): 476 - The number of observations that are actually positive but incorrectly predicted as negative.\n",
    "- True Positive (TP): 1854 - The number of observations that are actually positive and correctly predicted as positive.\n",
    "\n"
   ]
  },
  {
   "cell_type": "code",
   "execution_count": 87,
   "metadata": {},
   "outputs": [
    {
     "name": "stdout",
     "output_type": "stream",
     "text": [
      "Sensitivity (True Positive Rate): 0.7957081545064377\n",
      "Specificity (True Negative Rate): 0.8085550339071466\n",
      "Positive Rate (Precision): 0.7163833075734157\n",
      "Negative Rate: 0.8668903803131991\n"
     ]
    }
   ],
   "source": [
    "\n",
    "# Calculate sensitivity (true positive rate)\n",
    "sensitivity = cm[1, 1] / (cm[1, 0] + cm[1, 1])\n",
    "\n",
    "# Calculate specificity (true negative rate)\n",
    "specificity = cm[0, 0] / (cm[0, 0] + cm[0, 1])\n",
    "\n",
    "# Calculate positive predictive value (precision)\n",
    "positive_rate = cm[1, 1] / (cm[0, 1] + cm[1, 1])\n",
    "\n",
    "# Calculate negative predictive value\n",
    "negative_rate = cm[0, 0] / (cm[0, 0] + cm[1, 0])\n",
    "\n",
    "print(\"Sensitivity (True Positive Rate):\", sensitivity)\n",
    "print(\"Specificity (True Negative Rate):\", specificity)\n",
    "print(\"Positive Rate (Precision):\", positive_rate)\n",
    "print(\"Negative Rate:\", negative_rate)\n"
   ]
  },
  {
   "attachments": {},
   "cell_type": "markdown",
   "metadata": {},
   "source": [
    "The sensitivity (true positive rate) of 0.796 indicates the proportion of actual conversions that were correctly predicted as conversions. The specificity (true negative rate) of 0.809 represents the proportion of non-conversions that were correctly predicted as non-conversions. The positive rate (precision) of 0.716 signifies the accuracy of predicting conversions among the predicted conversion cases. The negative rate of 0.867 represents the accuracy of predicting non-conversions among the predicted non-conversion cases. These metrics provide insights into the model's performance in correctly identifying both conversions and non-conversions."
   ]
  },
  {
   "attachments": {},
   "cell_type": "markdown",
   "metadata": {},
   "source": [
    "<h1>Step 12: Precision and Recall View</h1>"
   ]
  },
  {
   "cell_type": "code",
   "execution_count": 88,
   "metadata": {},
   "outputs": [
    {
     "name": "stdout",
     "output_type": "stream",
     "text": [
      "Precision: 0.7163833075734157\n",
      "Recall: 0.7957081545064377\n"
     ]
    }
   ],
   "source": [
    "\n",
    "# Calculate precision\n",
    "precision = precision_score(df_results['Actual Converted Flag'], df_results['Final Prediction'])\n",
    "\n",
    "# Calculate recall\n",
    "recall = recall_score(df_results['Actual Converted Flag'], df_results['Final Prediction'])\n",
    "\n",
    "print(\"Precision:\", precision)\n",
    "print(\"Recall:\", recall)\n"
   ]
  },
  {
   "attachments": {},
   "cell_type": "markdown",
   "metadata": {},
   "source": [
    "* Precision and recall tradeoff"
   ]
  },
  {
   "cell_type": "code",
   "execution_count": 89,
   "metadata": {},
   "outputs": [
    {
     "data": {
      "image/png": "[encoded data removed]",
      "text/plain": [
       "<Figure size 700x400 with 1 Axes>"
      ]
     },
     "metadata": {},
     "output_type": "display_data"
    }
   ],
   "source": [
    "\n",
    "\n",
    "p, r, thresholds = precision_recall_curve(df_results['Actual Converted Flag'], df_results['Predicted Probabilities'])\n",
    "\n",
    "plt.figure(figsize=(7, 4))\n",
    "plt.plot(thresholds, p[:-1], \"g-\", label=\"Precision\")\n",
    "plt.plot(thresholds, r[:-1], \"r-\", label=\"Recall\")\n",
    "plt.xlabel(\"Threshold\")\n",
    "plt.ylabel(\"Score\")\n",
    "plt.legend()\n",
    "plt.title(\"Precision-Recall Curve\")\n",
    "plt.show()\n"
   ]
  },
  {
   "attachments": {},
   "cell_type": "markdown",
   "metadata": {},
   "source": [
    "At the threshold score of 0.4, the precision and recall values are both relatively high, indicating that the model is able to correctly classify a significant number of positive instances (high recall) while maintaining a relatively low number of false positive predictions (high precision).\n",
    "\n",
    "In summary, the intersection of the precision and recall curves at a score of 0.7 and threshold of 0.4 suggests a balanced performance of the model in terms of correctly identifying positive instances while minimizing false positives."
   ]
  },
  {
   "attachments": {},
   "cell_type": "markdown",
   "metadata": {},
   "source": [
    "<h1>Step 13: Making predictions\t</h1>"
   ]
  },
  {
   "cell_type": "code",
   "execution_count": 90,
   "metadata": {},
   "outputs": [],
   "source": [
    "X_test[['TotalVisits','Total Time Spent on Website','Page Views Per Visit']] = scaler.transform(X_test[['TotalVisits',\n",
    "                                                                        'Total Time Spent on Website','Page Views Per Visit']])"
   ]
  },
  {
   "cell_type": "code",
   "execution_count": 91,
   "metadata": {},
   "outputs": [
    {
     "data": {
      "text/html": [
       "<div>\n",
       "<style scoped>\n",
       "    .dataframe tbody tr th:only-of-type {\n",
       "        vertical-align: middle;\n",
       "    }\n",
       "\n",
       "    .dataframe tbody tr th {\n",
       "        vertical-align: top;\n",
       "    }\n",
       "\n",
       "    .dataframe thead th {\n",
       "        text-align: right;\n",
       "    }\n",
       "</style>\n",
       "<table border=\"1\" class=\"dataframe\">\n",
       "  <thead>\n",
       "    <tr style=\"text-align: right;\">\n",
       "      <th></th>\n",
       "      <th>Do Not Email</th>\n",
       "      <th>Total Time Spent on Website</th>\n",
       "      <th>Lead Source_Facebook</th>\n",
       "      <th>Lead Source_Olark Chat</th>\n",
       "      <th>Lead Source_Reference</th>\n",
       "      <th>Lead Source_Welingak Website</th>\n",
       "      <th>Last Activity_Converted to Lead</th>\n",
       "      <th>Last Activity_Email Bounced</th>\n",
       "      <th>Last Activity_Had a Phone Conversation</th>\n",
       "      <th>Last Activity_Olark Chat Conversation</th>\n",
       "      <th>What is your current occupation_Unemployed</th>\n",
       "      <th>Last Notable Activity_Email Link Clicked</th>\n",
       "      <th>Last Notable Activity_Email Opened</th>\n",
       "      <th>Last Notable Activity_Modified</th>\n",
       "      <th>Last Notable Activity_Olark Chat Conversation</th>\n",
       "      <th>Last Notable Activity_Page Visited on Website</th>\n",
       "    </tr>\n",
       "  </thead>\n",
       "  <tbody>\n",
       "    <tr>\n",
       "      <th>5221</th>\n",
       "      <td>0</td>\n",
       "      <td>2.960485</td>\n",
       "      <td>0</td>\n",
       "      <td>0</td>\n",
       "      <td>0</td>\n",
       "      <td>0</td>\n",
       "      <td>0</td>\n",
       "      <td>0</td>\n",
       "      <td>0</td>\n",
       "      <td>0</td>\n",
       "      <td>1</td>\n",
       "      <td>0</td>\n",
       "      <td>1</td>\n",
       "      <td>0</td>\n",
       "      <td>0</td>\n",
       "      <td>0</td>\n",
       "    </tr>\n",
       "    <tr>\n",
       "      <th>3554</th>\n",
       "      <td>0</td>\n",
       "      <td>-0.877349</td>\n",
       "      <td>0</td>\n",
       "      <td>1</td>\n",
       "      <td>0</td>\n",
       "      <td>0</td>\n",
       "      <td>0</td>\n",
       "      <td>0</td>\n",
       "      <td>0</td>\n",
       "      <td>1</td>\n",
       "      <td>1</td>\n",
       "      <td>0</td>\n",
       "      <td>0</td>\n",
       "      <td>1</td>\n",
       "      <td>0</td>\n",
       "      <td>0</td>\n",
       "    </tr>\n",
       "    <tr>\n",
       "      <th>5776</th>\n",
       "      <td>0</td>\n",
       "      <td>-0.453952</td>\n",
       "      <td>0</td>\n",
       "      <td>0</td>\n",
       "      <td>0</td>\n",
       "      <td>0</td>\n",
       "      <td>0</td>\n",
       "      <td>0</td>\n",
       "      <td>0</td>\n",
       "      <td>0</td>\n",
       "      <td>1</td>\n",
       "      <td>0</td>\n",
       "      <td>1</td>\n",
       "      <td>0</td>\n",
       "      <td>0</td>\n",
       "      <td>0</td>\n",
       "    </tr>\n",
       "    <tr>\n",
       "      <th>1800</th>\n",
       "      <td>0</td>\n",
       "      <td>-0.739245</td>\n",
       "      <td>0</td>\n",
       "      <td>0</td>\n",
       "      <td>0</td>\n",
       "      <td>0</td>\n",
       "      <td>0</td>\n",
       "      <td>0</td>\n",
       "      <td>0</td>\n",
       "      <td>0</td>\n",
       "      <td>0</td>\n",
       "      <td>0</td>\n",
       "      <td>1</td>\n",
       "      <td>0</td>\n",
       "      <td>0</td>\n",
       "      <td>0</td>\n",
       "    </tr>\n",
       "    <tr>\n",
       "      <th>1444</th>\n",
       "      <td>0</td>\n",
       "      <td>2.180925</td>\n",
       "      <td>0</td>\n",
       "      <td>0</td>\n",
       "      <td>0</td>\n",
       "      <td>0</td>\n",
       "      <td>0</td>\n",
       "      <td>0</td>\n",
       "      <td>0</td>\n",
       "      <td>0</td>\n",
       "      <td>0</td>\n",
       "      <td>0</td>\n",
       "      <td>1</td>\n",
       "      <td>0</td>\n",
       "      <td>0</td>\n",
       "      <td>0</td>\n",
       "    </tr>\n",
       "  </tbody>\n",
       "</table>\n",
       "</div>"
      ],
      "text/plain": [
       "      Do Not Email  Total Time Spent on Website  Lead Source_Facebook  \\\n",
       "5221             0                     2.960485                     0   \n",
       "3554             0                    -0.877349                     0   \n",
       "5776             0                    -0.453952                     0   \n",
       "1800             0                    -0.739245                     0   \n",
       "1444             0                     2.180925                     0   \n",
       "\n",
       "      Lead Source_Olark Chat  Lead Source_Reference  \\\n",
       "5221                       0                      0   \n",
       "3554                       1                      0   \n",
       "5776                       0                      0   \n",
       "1800                       0                      0   \n",
       "1444                       0                      0   \n",
       "\n",
       "      Lead Source_Welingak Website  Last Activity_Converted to Lead  \\\n",
       "5221                             0                                0   \n",
       "3554                             0                                0   \n",
       "5776                             0                                0   \n",
       "1800                             0                                0   \n",
       "1444                             0                                0   \n",
       "\n",
       "      Last Activity_Email Bounced  Last Activity_Had a Phone Conversation  \\\n",
       "5221                            0                                       0   \n",
       "3554                            0                                       0   \n",
       "5776                            0                                       0   \n",
       "1800                            0                                       0   \n",
       "1444                            0                                       0   \n",
       "\n",
       "      Last Activity_Olark Chat Conversation  \\\n",
       "5221                                      0   \n",
       "3554                                      1   \n",
       "5776                                      0   \n",
       "1800                                      0   \n",
       "1444                                      0   \n",
       "\n",
       "      What is your current occupation_Unemployed  \\\n",
       "5221                                           1   \n",
       "3554                                           1   \n",
       "5776                                           1   \n",
       "1800                                           0   \n",
       "1444                                           0   \n",
       "\n",
       "      Last Notable Activity_Email Link Clicked  \\\n",
       "5221                                         0   \n",
       "3554                                         0   \n",
       "5776                                         0   \n",
       "1800                                         0   \n",
       "1444                                         0   \n",
       "\n",
       "      Last Notable Activity_Email Opened  Last Notable Activity_Modified  \\\n",
       "5221                                   1                               0   \n",
       "3554                                   0                               1   \n",
       "5776                                   1                               0   \n",
       "1800                                   1                               0   \n",
       "1444                                   1                               0   \n",
       "\n",
       "      Last Notable Activity_Olark Chat Conversation  \\\n",
       "5221                                              0   \n",
       "3554                                              0   \n",
       "5776                                              0   \n",
       "1800                                              0   \n",
       "1444                                              0   \n",
       "\n",
       "      Last Notable Activity_Page Visited on Website  \n",
       "5221                                              0  \n",
       "3554                                              0  \n",
       "5776                                              0  \n",
       "1800                                              0  \n",
       "1444                                              0  "
      ]
     },
     "execution_count": 91,
     "metadata": {},
     "output_type": "execute_result"
    }
   ],
   "source": [
    "model_columns =df_updated.columns\n",
    "X_test = X_test[model_columns]\n",
    "X_test.head()\n"
   ]
  },
  {
   "attachments": {},
   "cell_type": "markdown",
   "metadata": {},
   "source": [
    "Making predictions on the test set"
   ]
  },
  {
   "cell_type": "code",
   "execution_count": 92,
   "metadata": {},
   "outputs": [
    {
     "name": "stdout",
     "output_type": "stream",
     "text": [
      "Predicted values on test dataset:\n",
      "5221    0.876059\n",
      "3554    0.062241\n",
      "5776    0.138575\n",
      "1800    0.416541\n",
      "1444    0.947758\n",
      "          ...   \n",
      "541     0.163666\n",
      "6570    0.379922\n",
      "2778    0.206396\n",
      "1690    0.062241\n",
      "542     0.010713\n",
      "Length: 2643, dtype: float64\n"
     ]
    }
   ],
   "source": [
    "# Add constant to the feature matrix\n",
    "X_test = sm.add_constant(X_test)\n",
    "\n",
    "y_test_pred = result.predict(X_test)\n",
    "# Print the predicted values\n",
    "print(\"Predicted values on test dataset:\")\n",
    "print(y_test_pred)"
   ]
  },
  {
   "cell_type": "code",
   "execution_count": 93,
   "metadata": {},
   "outputs": [],
   "source": [
    "# Converting df_results to a dataframe which is an array\n",
    "\n",
    "df_results_df = pd.DataFrame(y_test_pred)"
   ]
  },
  {
   "cell_type": "code",
   "execution_count": 94,
   "metadata": {},
   "outputs": [],
   "source": [
    "# Converting y_test to dataframe\n",
    "\n",
    "y_test_df = pd.DataFrame(y_test)"
   ]
  },
  {
   "cell_type": "code",
   "execution_count": 95,
   "metadata": {},
   "outputs": [],
   "source": [
    "# Putting ID to index\n",
    "\n",
    "y_test_df['ID'] = y_test_df.index"
   ]
  },
  {
   "cell_type": "code",
   "execution_count": 96,
   "metadata": {},
   "outputs": [],
   "source": [
    "# Removing index for both dataframes to append them side by side \n",
    "\n",
    "df_results_df.reset_index(drop=True, inplace=True)\n",
    "y_test_df.reset_index(drop=True, inplace=True)"
   ]
  },
  {
   "cell_type": "code",
   "execution_count": 97,
   "metadata": {},
   "outputs": [],
   "source": [
    "# Appending y_test_df and df_results_df\n",
    "\n",
    "df_results = pd.concat([y_test_df, df_results_df],axis=1)"
   ]
  },
  {
   "cell_type": "code",
   "execution_count": 98,
   "metadata": {},
   "outputs": [
    {
     "data": {
      "text/html": [
       "<div>\n",
       "<style scoped>\n",
       "    .dataframe tbody tr th:only-of-type {\n",
       "        vertical-align: middle;\n",
       "    }\n",
       "\n",
       "    .dataframe tbody tr th {\n",
       "        vertical-align: top;\n",
       "    }\n",
       "\n",
       "    .dataframe thead th {\n",
       "        text-align: right;\n",
       "    }\n",
       "</style>\n",
       "<table border=\"1\" class=\"dataframe\">\n",
       "  <thead>\n",
       "    <tr style=\"text-align: right;\">\n",
       "      <th></th>\n",
       "      <th>Converted</th>\n",
       "      <th>ID</th>\n",
       "      <th>0</th>\n",
       "    </tr>\n",
       "  </thead>\n",
       "  <tbody>\n",
       "    <tr>\n",
       "      <th>0</th>\n",
       "      <td>1</td>\n",
       "      <td>5221</td>\n",
       "      <td>0.876059</td>\n",
       "    </tr>\n",
       "    <tr>\n",
       "      <th>1</th>\n",
       "      <td>0</td>\n",
       "      <td>3554</td>\n",
       "      <td>0.062241</td>\n",
       "    </tr>\n",
       "    <tr>\n",
       "      <th>2</th>\n",
       "      <td>0</td>\n",
       "      <td>5776</td>\n",
       "      <td>0.138575</td>\n",
       "    </tr>\n",
       "    <tr>\n",
       "      <th>3</th>\n",
       "      <td>1</td>\n",
       "      <td>1800</td>\n",
       "      <td>0.416541</td>\n",
       "    </tr>\n",
       "    <tr>\n",
       "      <th>4</th>\n",
       "      <td>1</td>\n",
       "      <td>1444</td>\n",
       "      <td>0.947758</td>\n",
       "    </tr>\n",
       "  </tbody>\n",
       "</table>\n",
       "</div>"
      ],
      "text/plain": [
       "   Converted    ID         0\n",
       "0          1  5221  0.876059\n",
       "1          0  3554  0.062241\n",
       "2          0  5776  0.138575\n",
       "3          1  1800  0.416541\n",
       "4          1  1444  0.947758"
      ]
     },
     "execution_count": 98,
     "metadata": {},
     "output_type": "execute_result"
    }
   ],
   "source": [
    "df_results.head()"
   ]
  },
  {
   "cell_type": "code",
   "execution_count": 99,
   "metadata": {},
   "outputs": [],
   "source": [
    "# Renaming the column \n",
    "\n",
    "y_pred= df_results.rename(columns={ 0 : 'Converted Probability'})"
   ]
  },
  {
   "cell_type": "code",
   "execution_count": 100,
   "metadata": {},
   "outputs": [
    {
     "data": {
      "text/html": [
       "<div>\n",
       "<style scoped>\n",
       "    .dataframe tbody tr th:only-of-type {\n",
       "        vertical-align: middle;\n",
       "    }\n",
       "\n",
       "    .dataframe tbody tr th {\n",
       "        vertical-align: top;\n",
       "    }\n",
       "\n",
       "    .dataframe thead th {\n",
       "        text-align: right;\n",
       "    }\n",
       "</style>\n",
       "<table border=\"1\" class=\"dataframe\">\n",
       "  <thead>\n",
       "    <tr style=\"text-align: right;\">\n",
       "      <th></th>\n",
       "      <th>Converted</th>\n",
       "      <th>ID</th>\n",
       "      <th>Converted Probability</th>\n",
       "      <th>Final Prediction</th>\n",
       "    </tr>\n",
       "  </thead>\n",
       "  <tbody>\n",
       "    <tr>\n",
       "      <th>0</th>\n",
       "      <td>1</td>\n",
       "      <td>5221</td>\n",
       "      <td>0.876059</td>\n",
       "      <td>1</td>\n",
       "    </tr>\n",
       "    <tr>\n",
       "      <th>1</th>\n",
       "      <td>0</td>\n",
       "      <td>3554</td>\n",
       "      <td>0.062241</td>\n",
       "      <td>0</td>\n",
       "    </tr>\n",
       "    <tr>\n",
       "      <th>2</th>\n",
       "      <td>0</td>\n",
       "      <td>5776</td>\n",
       "      <td>0.138575</td>\n",
       "      <td>0</td>\n",
       "    </tr>\n",
       "    <tr>\n",
       "      <th>3</th>\n",
       "      <td>1</td>\n",
       "      <td>1800</td>\n",
       "      <td>0.416541</td>\n",
       "      <td>1</td>\n",
       "    </tr>\n",
       "    <tr>\n",
       "      <th>4</th>\n",
       "      <td>1</td>\n",
       "      <td>1444</td>\n",
       "      <td>0.947758</td>\n",
       "      <td>1</td>\n",
       "    </tr>\n",
       "    <tr>\n",
       "      <th>5</th>\n",
       "      <td>0</td>\n",
       "      <td>5107</td>\n",
       "      <td>0.211159</td>\n",
       "      <td>0</td>\n",
       "    </tr>\n",
       "    <tr>\n",
       "      <th>6</th>\n",
       "      <td>1</td>\n",
       "      <td>2836</td>\n",
       "      <td>0.098101</td>\n",
       "      <td>0</td>\n",
       "    </tr>\n",
       "    <tr>\n",
       "      <th>7</th>\n",
       "      <td>0</td>\n",
       "      <td>523</td>\n",
       "      <td>0.641208</td>\n",
       "      <td>1</td>\n",
       "    </tr>\n",
       "    <tr>\n",
       "      <th>8</th>\n",
       "      <td>1</td>\n",
       "      <td>1783</td>\n",
       "      <td>0.835749</td>\n",
       "      <td>1</td>\n",
       "    </tr>\n",
       "    <tr>\n",
       "      <th>9</th>\n",
       "      <td>0</td>\n",
       "      <td>5281</td>\n",
       "      <td>0.490952</td>\n",
       "      <td>1</td>\n",
       "    </tr>\n",
       "  </tbody>\n",
       "</table>\n",
       "</div>"
      ],
      "text/plain": [
       "   Converted    ID  Converted Probability  Final Prediction\n",
       "0          1  5221               0.876059                 1\n",
       "1          0  3554               0.062241                 0\n",
       "2          0  5776               0.138575                 0\n",
       "3          1  1800               0.416541                 1\n",
       "4          1  1444               0.947758                 1\n",
       "5          0  5107               0.211159                 0\n",
       "6          1  2836               0.098101                 0\n",
       "7          0   523               0.641208                 1\n",
       "8          1  1783               0.835749                 1\n",
       "9          0  5281               0.490952                 1"
      ]
     },
     "execution_count": 100,
     "metadata": {},
     "output_type": "execute_result"
    }
   ],
   "source": [
    "# Apply the cutoff to Converted_Probability\n",
    "y_pred['Final Prediction'] = np.where(y_pred['Converted Probability'] > 0.37, 1, 0)\n",
    "y_pred.head(10)"
   ]
  },
  {
   "cell_type": "code",
   "execution_count": 101,
   "metadata": {},
   "outputs": [
    {
     "data": {
      "text/html": [
       "<div>\n",
       "<style scoped>\n",
       "    .dataframe tbody tr th:only-of-type {\n",
       "        vertical-align: middle;\n",
       "    }\n",
       "\n",
       "    .dataframe tbody tr th {\n",
       "        vertical-align: top;\n",
       "    }\n",
       "\n",
       "    .dataframe thead th {\n",
       "        text-align: right;\n",
       "    }\n",
       "</style>\n",
       "<table border=\"1\" class=\"dataframe\">\n",
       "  <thead>\n",
       "    <tr style=\"text-align: right;\">\n",
       "      <th></th>\n",
       "      <th>Converted</th>\n",
       "      <th>ID</th>\n",
       "      <th>Converted Probability</th>\n",
       "      <th>Final Prediction</th>\n",
       "      <th>Lead Score</th>\n",
       "    </tr>\n",
       "  </thead>\n",
       "  <tbody>\n",
       "    <tr>\n",
       "      <th>0</th>\n",
       "      <td>1</td>\n",
       "      <td>5221</td>\n",
       "      <td>0.876059</td>\n",
       "      <td>1</td>\n",
       "      <td>88.0</td>\n",
       "    </tr>\n",
       "    <tr>\n",
       "      <th>1</th>\n",
       "      <td>0</td>\n",
       "      <td>3554</td>\n",
       "      <td>0.062241</td>\n",
       "      <td>0</td>\n",
       "      <td>6.0</td>\n",
       "    </tr>\n",
       "    <tr>\n",
       "      <th>2</th>\n",
       "      <td>0</td>\n",
       "      <td>5776</td>\n",
       "      <td>0.138575</td>\n",
       "      <td>0</td>\n",
       "      <td>14.0</td>\n",
       "    </tr>\n",
       "    <tr>\n",
       "      <th>3</th>\n",
       "      <td>1</td>\n",
       "      <td>1800</td>\n",
       "      <td>0.416541</td>\n",
       "      <td>1</td>\n",
       "      <td>42.0</td>\n",
       "    </tr>\n",
       "    <tr>\n",
       "      <th>4</th>\n",
       "      <td>1</td>\n",
       "      <td>1444</td>\n",
       "      <td>0.947758</td>\n",
       "      <td>1</td>\n",
       "      <td>95.0</td>\n",
       "    </tr>\n",
       "    <tr>\n",
       "      <th>5</th>\n",
       "      <td>0</td>\n",
       "      <td>5107</td>\n",
       "      <td>0.211159</td>\n",
       "      <td>0</td>\n",
       "      <td>21.0</td>\n",
       "    </tr>\n",
       "    <tr>\n",
       "      <th>6</th>\n",
       "      <td>1</td>\n",
       "      <td>2836</td>\n",
       "      <td>0.098101</td>\n",
       "      <td>0</td>\n",
       "      <td>10.0</td>\n",
       "    </tr>\n",
       "    <tr>\n",
       "      <th>7</th>\n",
       "      <td>0</td>\n",
       "      <td>523</td>\n",
       "      <td>0.641208</td>\n",
       "      <td>1</td>\n",
       "      <td>64.0</td>\n",
       "    </tr>\n",
       "    <tr>\n",
       "      <th>8</th>\n",
       "      <td>1</td>\n",
       "      <td>1783</td>\n",
       "      <td>0.835749</td>\n",
       "      <td>1</td>\n",
       "      <td>84.0</td>\n",
       "    </tr>\n",
       "    <tr>\n",
       "      <th>9</th>\n",
       "      <td>0</td>\n",
       "      <td>5281</td>\n",
       "      <td>0.490952</td>\n",
       "      <td>1</td>\n",
       "      <td>49.0</td>\n",
       "    </tr>\n",
       "    <tr>\n",
       "      <th>10</th>\n",
       "      <td>1</td>\n",
       "      <td>6996</td>\n",
       "      <td>0.830984</td>\n",
       "      <td>1</td>\n",
       "      <td>83.0</td>\n",
       "    </tr>\n",
       "    <tr>\n",
       "      <th>11</th>\n",
       "      <td>1</td>\n",
       "      <td>6933</td>\n",
       "      <td>0.996834</td>\n",
       "      <td>1</td>\n",
       "      <td>100.0</td>\n",
       "    </tr>\n",
       "    <tr>\n",
       "      <th>12</th>\n",
       "      <td>0</td>\n",
       "      <td>8887</td>\n",
       "      <td>0.418734</td>\n",
       "      <td>1</td>\n",
       "      <td>42.0</td>\n",
       "    </tr>\n",
       "    <tr>\n",
       "      <th>13</th>\n",
       "      <td>1</td>\n",
       "      <td>4191</td>\n",
       "      <td>0.696245</td>\n",
       "      <td>1</td>\n",
       "      <td>70.0</td>\n",
       "    </tr>\n",
       "    <tr>\n",
       "      <th>14</th>\n",
       "      <td>1</td>\n",
       "      <td>2851</td>\n",
       "      <td>0.294488</td>\n",
       "      <td>0</td>\n",
       "      <td>29.0</td>\n",
       "    </tr>\n",
       "    <tr>\n",
       "      <th>15</th>\n",
       "      <td>0</td>\n",
       "      <td>5501</td>\n",
       "      <td>0.042641</td>\n",
       "      <td>0</td>\n",
       "      <td>4.0</td>\n",
       "    </tr>\n",
       "    <tr>\n",
       "      <th>16</th>\n",
       "      <td>0</td>\n",
       "      <td>8149</td>\n",
       "      <td>0.006543</td>\n",
       "      <td>0</td>\n",
       "      <td>1.0</td>\n",
       "    </tr>\n",
       "    <tr>\n",
       "      <th>17</th>\n",
       "      <td>0</td>\n",
       "      <td>9047</td>\n",
       "      <td>0.131895</td>\n",
       "      <td>0</td>\n",
       "      <td>13.0</td>\n",
       "    </tr>\n",
       "    <tr>\n",
       "      <th>18</th>\n",
       "      <td>0</td>\n",
       "      <td>5246</td>\n",
       "      <td>0.174675</td>\n",
       "      <td>0</td>\n",
       "      <td>17.0</td>\n",
       "    </tr>\n",
       "    <tr>\n",
       "      <th>19</th>\n",
       "      <td>0</td>\n",
       "      <td>7572</td>\n",
       "      <td>0.059196</td>\n",
       "      <td>0</td>\n",
       "      <td>6.0</td>\n",
       "    </tr>\n",
       "  </tbody>\n",
       "</table>\n",
       "</div>"
      ],
      "text/plain": [
       "    Converted    ID  Converted Probability  Final Prediction  Lead Score\n",
       "0           1  5221               0.876059                 1        88.0\n",
       "1           0  3554               0.062241                 0         6.0\n",
       "2           0  5776               0.138575                 0        14.0\n",
       "3           1  1800               0.416541                 1        42.0\n",
       "4           1  1444               0.947758                 1        95.0\n",
       "5           0  5107               0.211159                 0        21.0\n",
       "6           1  2836               0.098101                 0        10.0\n",
       "7           0   523               0.641208                 1        64.0\n",
       "8           1  1783               0.835749                 1        84.0\n",
       "9           0  5281               0.490952                 1        49.0\n",
       "10          1  6996               0.830984                 1        83.0\n",
       "11          1  6933               0.996834                 1       100.0\n",
       "12          0  8887               0.418734                 1        42.0\n",
       "13          1  4191               0.696245                 1        70.0\n",
       "14          1  2851               0.294488                 0        29.0\n",
       "15          0  5501               0.042641                 0         4.0\n",
       "16          0  8149               0.006543                 0         1.0\n",
       "17          0  9047               0.131895                 0        13.0\n",
       "18          0  5246               0.174675                 0        17.0\n",
       "19          0  7572               0.059196                 0         6.0"
      ]
     },
     "execution_count": 101,
     "metadata": {},
     "output_type": "execute_result"
    }
   ],
   "source": [
    "# Calculate the lead score based on the final prediction and round it\n",
    "\n",
    "y_pred['Lead Score'] = round(y_pred['Converted Probability'] * 100)\n",
    "y_pred.head(20)"
   ]
  },
  {
   "cell_type": "code",
   "execution_count": 102,
   "metadata": {},
   "outputs": [
    {
     "name": "stdout",
     "output_type": "stream",
     "text": [
      "Accuracy: 79.05%\n"
     ]
    }
   ],
   "source": [
    "# Select the rows where the actual converted flag is 1 and retrieve the 'Actual Converted Flag' and 'Final Prediction' columns\n",
    "checking_df = y_pred.loc[y_pred['Converted'] == 1, ['Converted', 'Final Prediction']]\n",
    "\n",
    "# Count the occurrences of each prediction value\n",
    "prediction_counts = checking_df['Final Prediction'].value_counts()\n",
    "\n",
    "# Get the count of 1 predictions\n",
    "prediction_1_count = prediction_counts[1]\n",
    "\n",
    "# Get the count of 0 predictions\n",
    "prediction_0_count = prediction_counts[0]\n",
    "\n",
    "# Calculate the accuracy as the ratio of correctly predicted cases to total cases\n",
    "accuracy = prediction_1_count / float(prediction_1_count + prediction_0_count)\n",
    "\n",
    "# Convert accuracy to percentage and round to two decimal places\n",
    "accuracy_percentage = round(accuracy * 100, 2)\n",
    "\n",
    "# Print the accuracy as a percentage\n",
    "print(\"Accuracy: {:.2f}%\".format(accuracy_percentage))"
   ]
  },
  {
   "attachments": {},
   "cell_type": "markdown",
   "metadata": {},
   "source": [
    "From the given code and the obtained accuracy of 79.05%, we can conclude that the model has an accuracy of 79.05% in predicting the conversion outcome on the test dataset. This means that approximately 79.05% of the predictions made by the model for the converted cases in the test dataset were correct."
   ]
  },
  {
   "attachments": {},
   "cell_type": "markdown",
   "metadata": {},
   "source": [
    "* Evaluate the model on the test data set"
   ]
  },
  {
   "attachments": {},
   "cell_type": "markdown",
   "metadata": {},
   "source": []
  },
  {
   "cell_type": "code",
   "execution_count": 104,
   "metadata": {},
   "outputs": [
    {
     "name": "stdout",
     "output_type": "stream",
     "text": [
      "Sensitivity (True Positive Rate): 0.7904858299595142\n",
      "Specificity (True Negative Rate): 0.8223564954682779\n",
      "Positive Rate (Precision): 0.7265116279069768\n",
      "Negative Rate: 0.8679846938775511\n"
     ]
    }
   ],
   "source": [
    "cm = confusion_matrix(y_pred['Converted'], y_pred['Final Prediction'])\n",
    "\n",
    "# Calculate sensitivity (true positive rate)\n",
    "sensitivity = cm[1, 1] / (cm[1, 0] + cm[1, 1])\n",
    "\n",
    "# Calculate specificity (true negative rate)\n",
    "specificity = cm[0, 0] / (cm[0, 0] + cm[0, 1])\n",
    "\n",
    "# Calculate positive predictive value (precision)\n",
    "positive_rate = cm[1, 1] / (cm[0, 1] + cm[1, 1])\n",
    "\n",
    "# Calculate negative predictive value\n",
    "negative_rate = cm[0, 0] / (cm[0, 0] + cm[1, 0])\n",
    "\n",
    "print(\"Sensitivity (True Positive Rate):\", sensitivity)\n",
    "print(\"Specificity (True Negative Rate):\", specificity)\n",
    "print(\"Positive Rate (Precision):\", positive_rate)\n",
    "print(\"Negative Rate:\", negative_rate)\n"
   ]
  },
  {
   "attachments": {},
   "cell_type": "markdown",
   "metadata": {},
   "source": [
    "From the obtained sensitivity (true positive rate) of 0.7905, we can conclude that the model correctly predicted 79.05% of the actual positive (converted) cases in the test dataset.\n",
    "\n",
    "The specificity (true negative rate) of 0.8224 indicates that the model correctly predicted 82.24% of the actual negative (not converted) cases in the test dataset.\n",
    "\n",
    "The positive rate (precision) of 0.7265 means that out of the cases predicted as positive (converted) by the model, approximately 72.65% were actually positive.\n",
    "\n",
    "The negative rate of 0.8679 suggests that out of the cases predicted as negative (not converted) by the model, approximately 86.79% were actually negative.\n",
    "\n",
    "Overall, the Accuracy is around 80% which is good."
   ]
  },
  {
   "cell_type": "code",
   "execution_count": 106,
   "metadata": {},
   "outputs": [
    {
     "data": {
      "image/png": "[encoded data removed]",
      "text/plain": [
       "<Figure size 700x400 with 1 Axes>"
      ]
     },
     "metadata": {},
     "output_type": "display_data"
    }
   ],
   "source": [
    "p, r, thresholds = precision_recall_curve(y_pred['Converted'], y_pred['Converted Probability'])\n",
    "\n",
    "plt.figure(figsize=(7, 4))\n",
    "plt.plot(thresholds, p[:-1], \"g-\", label=\"Precision\")\n",
    "plt.plot(thresholds, r[:-1], \"r-\", label=\"Recall\")\n",
    "plt.xlabel(\"Threshold\")\n",
    "plt.ylabel(\"Score\")\n",
    "plt.legend()\n",
    "plt.title(\"Precision-Recall Curve\")\n",
    "plt.show()"
   ]
  },
  {
   "attachments": {},
   "cell_type": "markdown",
   "metadata": {},
   "source": [
    "I noticed that the precision and recall curves intersect at approximately (0.8, 0.4). This means that at a threshold of 0.8, we can achieve a precision of 0.8 and a recall of 0.4. This intersection point represents a threshold value where precision and recall are relatively balanced."
   ]
  },
  {
   "attachments": {},
   "cell_type": "markdown",
   "metadata": {},
   "source": [
    "<h1>Step 14: Final reporting\t</h1>"
   ]
  },
  {
   "attachments": {},
   "cell_type": "markdown",
   "metadata": {},
   "source": [
    "After preprocessing and feature engineering, we trained the logistic regression model on the training dataset. The model achieved an accuracy of 79.57% on the training set and 79.05% on the test set, indicating its effectiveness in predicting lead conversions.\n",
    "\n",
    "The evaluation metrics provided further insights into the model's performance. The sensitivity (true positive rate) was 0.7957, indicating the model's ability to correctly identify converted leads. The specificity (true negative rate) was 0.8086, indicating the model's ability to correctly identify non-converted leads. The positive rate (precision) was 0.7164, reflecting the proportion of predicted conversions that were actually converted. The negative rate was 0.8669, indicating the proportion of predicted non-conversions that were actually non-converted."
   ]
  },
  {
   "attachments": {},
   "cell_type": "markdown",
   "metadata": {},
   "source": [
    "Based on the analysis and results obtained from the logistic regression model, here are some suggestions that can be provided to the customer:\n",
    "\n",
    "1. Lead Scoring: Implement the lead scoring system based on the logistic regression model. Assign lead scores between 0 and 100 to prioritize and target potential leads effectively. This will help in identifying hot leads with higher conversion probabilities and allocating appropriate resources for conversion efforts.\n",
    "\n",
    "2. Focus on Conversion Factors: Identify the key factors that contribute to lead conversion based on the logistic regression model's coefficients. Pay special attention to these factors when designing marketing campaigns, website content, and communication strategies. For example, factors such as total visits, total time spent on the website, and page views per visit have shown significance in predicting lead conversions.\n",
    "\n",
    "3. Personalized Communication: Utilize the information gathered during lead capture, such as lead origin, lead source, last activity, and lead profile, to personalize communication with leads. Tailor marketing messages and content based on the lead's specific needs and preferences, increasing the likelihood of engagement and conversion.\n",
    "\n",
    "4. Improve Website Experience: Enhance the user experience on the website to increase engagement and time spent by leads. Optimize page load times, simplify navigation, and provide relevant and valuable content to encourage leads to explore more pages and increase the chances of conversion.\n",
    "\n",
    "5. Analyze Lead Quality: Use the lead quality information provided by the logistic regression model to identify leads that are more likely to convert. Focus efforts on high-quality leads and allocate resources accordingly. Continuously evaluate and update lead quality metrics to refine targeting strategies.\n",
    "\n",
    "6. Referral Programs: Leverage the \"Through Recommendations\" feature to encourage satisfied customers to refer others to X Education. Implement referral programs or incentives to motivate customers to recommend the courses to their networks, expanding the reach and potential conversion opportunities.\n",
    "\n",
    "7. Continuous Model Monitoring and Improvement: Regularly monitor the performance of the logistic regression model and assess its predictive accuracy. Incorporate new data and retrain the model periodically to ensure it remains up-to-date and maintains its effectiveness in lead scoring.\n",
    "\n",
    "These suggestions aim to optimize lead conversion strategies by leveraging the insights and predictions provided by the logistic regression model. By implementing these recommendations, X Education can enhance its marketing and sales efforts, increase conversion rates, and improve overall business outcomes."
   ]
  }
 ],
 "metadata": {
  "kernelspec": {
   "display_name": "Python 3 (ipykernel)",
   "language": "python",
   "name": "python3"
  },
  "language_info": {
   "codemirror_mode": {
    "name": "ipython",
    "version": 3
   },
   "file_extension": ".py",
   "mimetype": "text/x-python",
   "name": "python",
   "nbconvert_exporter": "python",
   "pygments_lexer": "ipython3",
   "version": "3.9.13"
  },
  "orig_nbformat": 4
 },
 "nbformat": 4,
 "nbformat_minor": 2
}
