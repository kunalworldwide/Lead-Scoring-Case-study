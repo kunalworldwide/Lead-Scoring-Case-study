{
 "cells": [
  {
   "attachments": {},
   "cell_type": "markdown",
   "metadata": {},
   "source": [
    "<h1>Step 1: Data Collection</h1>"
   ]
  },
  {
   "attachments": {},
   "cell_type": "markdown",
   "metadata": {},
   "source": [
    "* Load the Dataset"
   ]
  },
  {
   "cell_type": "code",
   "execution_count": 41,
   "metadata": {},
   "outputs": [],
   "source": [
    "import pandas as pd\n",
    "\n",
    "# Read the leads.csv file\n",
    "df = pd.read_csv('Files/leads.csv')\n"
   ]
  },
  {
   "attachments": {},
   "cell_type": "markdown",
   "metadata": {},
   "source": [
    "* Explore the Dataset"
   ]
  },
  {
   "cell_type": "code",
   "execution_count": 42,
   "metadata": {},
   "outputs": [
    {
     "name": "stdout",
     "output_type": "stream",
     "text": [
      "                            Prospect ID  Lead Number              Lead Origin  \\\n",
      "0  7927b2df-8bba-4d29-b9a2-b6e0beafe620       660737                      API   \n",
      "1  2a272436-5132-4136-86fa-dcc88c88f482       660728                      API   \n",
      "2  8cc8c611-a219-4f35-ad23-fdfd2656bd8a       660727  Landing Page Submission   \n",
      "3  0cc2df48-7cf4-4e39-9de9-19797f9b38cc       660719  Landing Page Submission   \n",
      "4  3256f628-e534-4826-9d63-4a8b88782852       660681  Landing Page Submission   \n",
      "\n",
      "      Lead Source Do Not Email Do Not Call  Converted  TotalVisits  \\\n",
      "0      Olark Chat           No          No          0          0.0   \n",
      "1  Organic Search           No          No          0          5.0   \n",
      "2  Direct Traffic           No          No          1          2.0   \n",
      "3  Direct Traffic           No          No          0          1.0   \n",
      "4          Google           No          No          1          2.0   \n",
      "\n",
      "   Total Time Spent on Website  Page Views Per Visit  ...  \\\n",
      "0                            0                   0.0  ...   \n",
      "1                          674                   2.5  ...   \n",
      "2                         1532                   2.0  ...   \n",
      "3                          305                   1.0  ...   \n",
      "4                         1428                   1.0  ...   \n",
      "\n",
      "  Get updates on DM Content    Lead Profile    City  \\\n",
      "0                        No          Select  Select   \n",
      "1                        No          Select  Select   \n",
      "2                        No  Potential Lead  Mumbai   \n",
      "3                        No          Select  Mumbai   \n",
      "4                        No          Select  Mumbai   \n",
      "\n",
      "  Asymmetrique Activity Index Asymmetrique Profile Index  \\\n",
      "0                   02.Medium                  02.Medium   \n",
      "1                   02.Medium                  02.Medium   \n",
      "2                   02.Medium                    01.High   \n",
      "3                   02.Medium                    01.High   \n",
      "4                   02.Medium                    01.High   \n",
      "\n",
      "  Asymmetrique Activity Score Asymmetrique Profile Score  \\\n",
      "0                        15.0                       15.0   \n",
      "1                        15.0                       15.0   \n",
      "2                        14.0                       20.0   \n",
      "3                        13.0                       17.0   \n",
      "4                        15.0                       18.0   \n",
      "\n",
      "  I agree to pay the amount through cheque  \\\n",
      "0                                       No   \n",
      "1                                       No   \n",
      "2                                       No   \n",
      "3                                       No   \n",
      "4                                       No   \n",
      "\n",
      "  A free copy of Mastering The Interview Last Notable Activity  \n",
      "0                                     No              Modified  \n",
      "1                                     No          Email Opened  \n",
      "2                                    Yes          Email Opened  \n",
      "3                                     No              Modified  \n",
      "4                                     No              Modified  \n",
      "\n",
      "[5 rows x 37 columns]\n",
      "Shape of the dataset: (9240, 37)\n",
      "Column names: Index(['Prospect ID', 'Lead Number', 'Lead Origin', 'Lead Source',\n",
      "       'Do Not Email', 'Do Not Call', 'Converted', 'TotalVisits',\n",
      "       'Total Time Spent on Website', 'Page Views Per Visit', 'Last Activity',\n",
      "       'Country', 'Specialization', 'How did you hear about X Education',\n",
      "       'What is your current occupation',\n",
      "       'What matters most to you in choosing a course', 'Search', 'Magazine',\n",
      "       'Newspaper Article', 'X Education Forums', 'Newspaper',\n",
      "       'Digital Advertisement', 'Through Recommendations',\n",
      "       'Receive More Updates About Our Courses', 'Tags', 'Lead Quality',\n",
      "       'Update me on Supply Chain Content', 'Get updates on DM Content',\n",
      "       'Lead Profile', 'City', 'Asymmetrique Activity Index',\n",
      "       'Asymmetrique Profile Index', 'Asymmetrique Activity Score',\n",
      "       'Asymmetrique Profile Score',\n",
      "       'I agree to pay the amount through cheque',\n",
      "       'A free copy of Mastering The Interview', 'Last Notable Activity'],\n",
      "      dtype='object')\n",
      "<class 'pandas.core.frame.DataFrame'>\n",
      "RangeIndex: 9240 entries, 0 to 9239\n",
      "Data columns (total 37 columns):\n",
      " #   Column                                         Non-Null Count  Dtype  \n",
      "---  ------                                         --------------  -----  \n",
      " 0   Prospect ID                                    9240 non-null   object \n",
      " 1   Lead Number                                    9240 non-null   int64  \n",
      " 2   Lead Origin                                    9240 non-null   object \n",
      " 3   Lead Source                                    9204 non-null   object \n",
      " 4   Do Not Email                                   9240 non-null   object \n",
      " 5   Do Not Call                                    9240 non-null   object \n",
      " 6   Converted                                      9240 non-null   int64  \n",
      " 7   TotalVisits                                    9103 non-null   float64\n",
      " 8   Total Time Spent on Website                    9240 non-null   int64  \n",
      " 9   Page Views Per Visit                           9103 non-null   float64\n",
      " 10  Last Activity                                  9137 non-null   object \n",
      " 11  Country                                        6779 non-null   object \n",
      " 12  Specialization                                 7802 non-null   object \n",
      " 13  How did you hear about X Education             7033 non-null   object \n",
      " 14  What is your current occupation                6550 non-null   object \n",
      " 15  What matters most to you in choosing a course  6531 non-null   object \n",
      " 16  Search                                         9240 non-null   object \n",
      " 17  Magazine                                       9240 non-null   object \n",
      " 18  Newspaper Article                              9240 non-null   object \n",
      " 19  X Education Forums                             9240 non-null   object \n",
      " 20  Newspaper                                      9240 non-null   object \n",
      " 21  Digital Advertisement                          9240 non-null   object \n",
      " 22  Through Recommendations                        9240 non-null   object \n",
      " 23  Receive More Updates About Our Courses         9240 non-null   object \n",
      " 24  Tags                                           5887 non-null   object \n",
      " 25  Lead Quality                                   4473 non-null   object \n",
      " 26  Update me on Supply Chain Content              9240 non-null   object \n",
      " 27  Get updates on DM Content                      9240 non-null   object \n",
      " 28  Lead Profile                                   6531 non-null   object \n",
      " 29  City                                           7820 non-null   object \n",
      " 30  Asymmetrique Activity Index                    5022 non-null   object \n",
      " 31  Asymmetrique Profile Index                     5022 non-null   object \n",
      " 32  Asymmetrique Activity Score                    5022 non-null   float64\n",
      " 33  Asymmetrique Profile Score                     5022 non-null   float64\n",
      " 34  I agree to pay the amount through cheque       9240 non-null   object \n",
      " 35  A free copy of Mastering The Interview         9240 non-null   object \n",
      " 36  Last Notable Activity                          9240 non-null   object \n",
      "dtypes: float64(4), int64(3), object(30)\n",
      "memory usage: 2.6+ MB\n",
      "None\n",
      "         Lead Number    Converted  TotalVisits  Total Time Spent on Website  \\\n",
      "count    9240.000000  9240.000000  9103.000000                  9240.000000   \n",
      "mean   617188.435606     0.385390     3.445238                   487.698268   \n",
      "std     23405.995698     0.486714     4.854853                   548.021466   \n",
      "min    579533.000000     0.000000     0.000000                     0.000000   \n",
      "25%    596484.500000     0.000000     1.000000                    12.000000   \n",
      "50%    615479.000000     0.000000     3.000000                   248.000000   \n",
      "75%    637387.250000     1.000000     5.000000                   936.000000   \n",
      "max    660737.000000     1.000000   251.000000                  2272.000000   \n",
      "\n",
      "       Page Views Per Visit  Asymmetrique Activity Score  \\\n",
      "count           9103.000000                  5022.000000   \n",
      "mean               2.362820                    14.306252   \n",
      "std                2.161418                     1.386694   \n",
      "min                0.000000                     7.000000   \n",
      "25%                1.000000                    14.000000   \n",
      "50%                2.000000                    14.000000   \n",
      "75%                3.000000                    15.000000   \n",
      "max               55.000000                    18.000000   \n",
      "\n",
      "       Asymmetrique Profile Score  \n",
      "count                 5022.000000  \n",
      "mean                    16.344883  \n",
      "std                      1.811395  \n",
      "min                     11.000000  \n",
      "25%                     15.000000  \n",
      "50%                     16.000000  \n",
      "75%                     18.000000  \n",
      "max                     20.000000  \n"
     ]
    }
   ],
   "source": [
    "# Display the first few rows of the dataset\n",
    "print(df.head())\n",
    "\n",
    "# Check the number of rows and columns in the dataset\n",
    "print(\"Shape of the dataset:\", df.shape)\n",
    "\n",
    "# Review the column names\n",
    "print(\"Column names:\", df.columns)\n",
    "\n",
    "# Get summary information about the dataset\n",
    "print(df.info())\n",
    "\n",
    "# Calculate descriptive statistics for numeric variables\n",
    "print(df.describe())\n"
   ]
  },
  {
   "attachments": {},
   "cell_type": "markdown",
   "metadata": {},
   "source": [
    "* Identify the Target Variable"
   ]
  },
  {
   "cell_type": "code",
   "execution_count": 43,
   "metadata": {},
   "outputs": [],
   "source": [
    "# \"Converted\" is the target variable\n",
    "target_variable = 'Converted'"
   ]
  },
  {
   "attachments": {},
   "cell_type": "markdown",
   "metadata": {},
   "source": [
    "* Review Data Types"
   ]
  },
  {
   "cell_type": "code",
   "execution_count": 44,
   "metadata": {},
   "outputs": [
    {
     "name": "stdout",
     "output_type": "stream",
     "text": [
      "Prospect ID                                       object\n",
      "Lead Number                                        int64\n",
      "Lead Origin                                       object\n",
      "Lead Source                                       object\n",
      "Do Not Email                                      object\n",
      "Do Not Call                                       object\n",
      "Converted                                          int64\n",
      "TotalVisits                                      float64\n",
      "Total Time Spent on Website                        int64\n",
      "Page Views Per Visit                             float64\n",
      "Last Activity                                     object\n",
      "Country                                           object\n",
      "Specialization                                    object\n",
      "How did you hear about X Education                object\n",
      "What is your current occupation                   object\n",
      "What matters most to you in choosing a course     object\n",
      "Search                                            object\n",
      "Magazine                                          object\n",
      "Newspaper Article                                 object\n",
      "X Education Forums                                object\n",
      "Newspaper                                         object\n",
      "Digital Advertisement                             object\n",
      "Through Recommendations                           object\n",
      "Receive More Updates About Our Courses            object\n",
      "Tags                                              object\n",
      "Lead Quality                                      object\n",
      "Update me on Supply Chain Content                 object\n",
      "Get updates on DM Content                         object\n",
      "Lead Profile                                      object\n",
      "City                                              object\n",
      "Asymmetrique Activity Index                       object\n",
      "Asymmetrique Profile Index                        object\n",
      "Asymmetrique Activity Score                      float64\n",
      "Asymmetrique Profile Score                       float64\n",
      "I agree to pay the amount through cheque          object\n",
      "A free copy of Mastering The Interview            object\n",
      "Last Notable Activity                             object\n",
      "dtype: object\n"
     ]
    }
   ],
   "source": [
    "# Check the data types of each variable\n",
    "print(df.dtypes)"
   ]
  },
  {
   "attachments": {},
   "cell_type": "markdown",
   "metadata": {},
   "source": [
    "* Assess Data Quality"
   ]
  },
  {
   "cell_type": "code",
   "execution_count": 45,
   "metadata": {},
   "outputs": [
    {
     "name": "stdout",
     "output_type": "stream",
     "text": [
      "Prospect ID                                         0\n",
      "Lead Number                                         0\n",
      "Lead Origin                                         0\n",
      "Lead Source                                        36\n",
      "Do Not Email                                        0\n",
      "Do Not Call                                         0\n",
      "Converted                                           0\n",
      "TotalVisits                                       137\n",
      "Total Time Spent on Website                         0\n",
      "Page Views Per Visit                              137\n",
      "Last Activity                                     103\n",
      "Country                                          2461\n",
      "Specialization                                   1438\n",
      "How did you hear about X Education               2207\n",
      "What is your current occupation                  2690\n",
      "What matters most to you in choosing a course    2709\n",
      "Search                                              0\n",
      "Magazine                                            0\n",
      "Newspaper Article                                   0\n",
      "X Education Forums                                  0\n",
      "Newspaper                                           0\n",
      "Digital Advertisement                               0\n",
      "Through Recommendations                             0\n",
      "Receive More Updates About Our Courses              0\n",
      "Tags                                             3353\n",
      "Lead Quality                                     4767\n",
      "Update me on Supply Chain Content                   0\n",
      "Get updates on DM Content                           0\n",
      "Lead Profile                                     2709\n",
      "City                                             1420\n",
      "Asymmetrique Activity Index                      4218\n",
      "Asymmetrique Profile Index                       4218\n",
      "Asymmetrique Activity Score                      4218\n",
      "Asymmetrique Profile Score                       4218\n",
      "I agree to pay the amount through cheque            0\n",
      "A free copy of Mastering The Interview              0\n",
      "Last Notable Activity                               0\n",
      "dtype: int64\n",
      "Number of duplicates: 0\n"
     ]
    }
   ],
   "source": [
    "# Check for missing values\n",
    "print(df.isnull().sum())\n",
    "\n",
    "# Check for duplicates\n",
    "print(\"Number of duplicates:\", df.duplicated().sum())\n"
   ]
  },
  {
   "attachments": {},
   "cell_type": "markdown",
   "metadata": {},
   "source": [
    "<h1>Step 2 : Data Preprocessing</h1>\n"
   ]
  },
  {
   "attachments": {},
   "cell_type": "markdown",
   "metadata": {},
   "source": [
    "* Data Cleaning"
   ]
  },
  {
   "attachments": {},
   "cell_type": "markdown",
   "metadata": {},
   "source": [
    "identify columns with missing values"
   ]
  },
  {
   "cell_type": "code",
   "execution_count": 46,
   "metadata": {},
   "outputs": [
    {
     "name": "stdout",
     "output_type": "stream",
     "text": [
      "Prospect ID                                         0\n",
      "Lead Number                                         0\n",
      "Lead Origin                                         0\n",
      "Lead Source                                        36\n",
      "Do Not Email                                        0\n",
      "Do Not Call                                         0\n",
      "Converted                                           0\n",
      "TotalVisits                                       137\n",
      "Total Time Spent on Website                         0\n",
      "Page Views Per Visit                              137\n",
      "Last Activity                                     103\n",
      "Country                                          2461\n",
      "Specialization                                   1438\n",
      "How did you hear about X Education               2207\n",
      "What is your current occupation                  2690\n",
      "What matters most to you in choosing a course    2709\n",
      "Search                                              0\n",
      "Magazine                                            0\n",
      "Newspaper Article                                   0\n",
      "X Education Forums                                  0\n",
      "Newspaper                                           0\n",
      "Digital Advertisement                               0\n",
      "Through Recommendations                             0\n",
      "Receive More Updates About Our Courses              0\n",
      "Tags                                             3353\n",
      "Lead Quality                                     4767\n",
      "Update me on Supply Chain Content                   0\n",
      "Get updates on DM Content                           0\n",
      "Lead Profile                                     2709\n",
      "City                                             1420\n",
      "Asymmetrique Activity Index                      4218\n",
      "Asymmetrique Profile Index                       4218\n",
      "Asymmetrique Activity Score                      4218\n",
      "Asymmetrique Profile Score                       4218\n",
      "I agree to pay the amount through cheque            0\n",
      "A free copy of Mastering The Interview              0\n",
      "Last Notable Activity                               0\n",
      "dtype: int64\n"
     ]
    }
   ],
   "source": [
    "print(df.isnull().sum())"
   ]
  },
  {
   "attachments": {},
   "cell_type": "markdown",
   "metadata": {},
   "source": [
    "Based on the missing value counts, we have several columns with missing values. To decide how to handle these missing values, it's important to understand the nature of the data and the context of each column.\n",
    "Some common strategies for handling missing values include:\n",
    "* Dropping columns with a high percentage of missing values.\n",
    "* Dropping rows with missing values, especially if the number of missing values is relatively small compared to the total dataset size.\n",
    "* Imputing missing values using methods such as mean, median, mode, or regression."
   ]
  },
  {
   "attachments": {},
   "cell_type": "markdown",
   "metadata": {},
   "source": [
    "To drop columns with a high percentage of missing values, we can set a threshold value and drop the columns that have missing values exceeding that threshold. below code  that drops columns with missing values exceeding a threshold of 30%"
   ]
  },
  {
   "cell_type": "code",
   "execution_count": 47,
   "metadata": {},
   "outputs": [
    {
     "name": "stdout",
     "output_type": "stream",
     "text": [
      "                            Prospect ID  Lead Number              Lead Origin  \\\n",
      "0  7927b2df-8bba-4d29-b9a2-b6e0beafe620       660737                      API   \n",
      "1  2a272436-5132-4136-86fa-dcc88c88f482       660728                      API   \n",
      "2  8cc8c611-a219-4f35-ad23-fdfd2656bd8a       660727  Landing Page Submission   \n",
      "3  0cc2df48-7cf4-4e39-9de9-19797f9b38cc       660719  Landing Page Submission   \n",
      "4  3256f628-e534-4826-9d63-4a8b88782852       660681  Landing Page Submission   \n",
      "\n",
      "      Lead Source Do Not Email Do Not Call  Converted  TotalVisits  \\\n",
      "0      Olark Chat           No          No          0          0.0   \n",
      "1  Organic Search           No          No          0          5.0   \n",
      "2  Direct Traffic           No          No          1          2.0   \n",
      "3  Direct Traffic           No          No          0          1.0   \n",
      "4          Google           No          No          1          2.0   \n",
      "\n",
      "   Total Time Spent on Website  Page Views Per Visit  ...  \\\n",
      "0                            0                   0.0  ...   \n",
      "1                          674                   2.5  ...   \n",
      "2                         1532                   2.0  ...   \n",
      "3                          305                   1.0  ...   \n",
      "4                         1428                   1.0  ...   \n",
      "\n",
      "  Digital Advertisement Through Recommendations  \\\n",
      "0                    No                      No   \n",
      "1                    No                      No   \n",
      "2                    No                      No   \n",
      "3                    No                      No   \n",
      "4                    No                      No   \n",
      "\n",
      "  Receive More Updates About Our Courses Update me on Supply Chain Content  \\\n",
      "0                                     No                                No   \n",
      "1                                     No                                No   \n",
      "2                                     No                                No   \n",
      "3                                     No                                No   \n",
      "4                                     No                                No   \n",
      "\n",
      "  Get updates on DM Content    Lead Profile    City  \\\n",
      "0                        No          Select  Select   \n",
      "1                        No          Select  Select   \n",
      "2                        No  Potential Lead  Mumbai   \n",
      "3                        No          Select  Mumbai   \n",
      "4                        No          Select  Mumbai   \n",
      "\n",
      "  I agree to pay the amount through cheque  \\\n",
      "0                                       No   \n",
      "1                                       No   \n",
      "2                                       No   \n",
      "3                                       No   \n",
      "4                                       No   \n",
      "\n",
      "  A free copy of Mastering The Interview Last Notable Activity  \n",
      "0                                     No              Modified  \n",
      "1                                     No          Email Opened  \n",
      "2                                    Yes          Email Opened  \n",
      "3                                     No              Modified  \n",
      "4                                     No              Modified  \n",
      "\n",
      "[5 rows x 31 columns]\n"
     ]
    }
   ],
   "source": [
    "threshold = 0.3  # Set the threshold to 30% missing values\n",
    "\n",
    "# Calculate the percentage of missing values in each column\n",
    "missing_percentage = df.isnull().mean()\n",
    "\n",
    "# Get the columns to drop based on the threshold\n",
    "columns_to_drop = missing_percentage[missing_percentage > threshold].index\n",
    "\n",
    "# Drop the columns from the DataFrame\n",
    "df_dropped_columns = df.drop(columns=columns_to_drop)\n",
    "\n",
    "# Print the updated DataFrame\n",
    "print(df_dropped_columns.head())\n"
   ]
  },
  {
   "cell_type": "code",
   "execution_count": 48,
   "metadata": {},
   "outputs": [
    {
     "data": {
      "text/plain": [
       "Prospect ID                                       0.00\n",
       "Lead Number                                       0.00\n",
       "Lead Origin                                       0.00\n",
       "Lead Source                                       0.39\n",
       "Do Not Email                                      0.00\n",
       "Do Not Call                                       0.00\n",
       "Converted                                         0.00\n",
       "TotalVisits                                       1.48\n",
       "Total Time Spent on Website                       0.00\n",
       "Page Views Per Visit                              1.48\n",
       "Last Activity                                     1.11\n",
       "Country                                          26.63\n",
       "Specialization                                   15.56\n",
       "How did you hear about X Education               23.89\n",
       "What is your current occupation                  29.11\n",
       "What matters most to you in choosing a course    29.32\n",
       "Search                                            0.00\n",
       "Magazine                                          0.00\n",
       "Newspaper Article                                 0.00\n",
       "X Education Forums                                0.00\n",
       "Newspaper                                         0.00\n",
       "Digital Advertisement                             0.00\n",
       "Through Recommendations                           0.00\n",
       "Receive More Updates About Our Courses            0.00\n",
       "Update me on Supply Chain Content                 0.00\n",
       "Get updates on DM Content                         0.00\n",
       "Lead Profile                                     29.32\n",
       "City                                             15.37\n",
       "I agree to pay the amount through cheque          0.00\n",
       "A free copy of Mastering The Interview            0.00\n",
       "Last Notable Activity                             0.00\n",
       "dtype: float64"
      ]
     },
     "execution_count": 48,
     "metadata": {},
     "output_type": "execute_result"
    }
   ],
   "source": [
    "# check for percentage of null values in each column after dropping columns having more than 30 % null values\n",
    "\n",
    "round(100*(df_dropped_columns.isnull().sum()/len(df_dropped_columns.index)), 2)"
   ]
  },
  {
   "attachments": {},
   "cell_type": "markdown",
   "metadata": {},
   "source": [
    "The below columns still has high null values let's individually check and handle them\n",
    "* Country   \n",
    "* Specialization        \n",
    "* How did you hear about X Education           \n",
    "* What is your current occupation       \n",
    "* What matters most to you in choosing a course    \n",
    "* Lead Profile   \n",
    "* City  "
   ]
  },
  {
   "attachments": {},
   "cell_type": "markdown",
   "metadata": {},
   "source": [
    "* Country: To impute missing values in the 'Country' column, we can replace them with the mode (most frequent value) since it's a categorical variable."
   ]
  },
  {
   "cell_type": "code",
   "execution_count": 49,
   "metadata": {},
   "outputs": [],
   "source": [
    "df_dropped_columns['Country'] = df_dropped_columns['Country'].fillna(df_dropped_columns['Country'].mode()[0])\n"
   ]
  },
  {
   "attachments": {},
   "cell_type": "markdown",
   "metadata": {},
   "source": [
    "* Specialization:\n",
    "For the 'Specialization' column, we can replace missing values with the string \"Not Specified\" to indicate that the information was not provided.\n"
   ]
  },
  {
   "cell_type": "code",
   "execution_count": 50,
   "metadata": {},
   "outputs": [],
   "source": [
    "df_dropped_columns['Specialization'] = df_dropped_columns['Specialization'].fillna('Not Specified')"
   ]
  },
  {
   "attachments": {},
   "cell_type": "markdown",
   "metadata": {},
   "source": [
    "* How did you hear about X Education:\n",
    "Similarly, for the 'How did you hear about X Education' column, we can replace missing values with the string \"Not Specified\"."
   ]
  },
  {
   "cell_type": "code",
   "execution_count": 51,
   "metadata": {},
   "outputs": [],
   "source": [
    "df_dropped_columns['How did you hear about X Education'] = df_dropped_columns['How did you hear about X Education'].fillna('Not Specified')"
   ]
  },
  {
   "attachments": {},
   "cell_type": "markdown",
   "metadata": {},
   "source": [
    "* What is your current occupation:\n",
    "For the 'What is your current occupation' column, we can replace missing values with the mode (most frequent value) since it's a categorical variable."
   ]
  },
  {
   "cell_type": "code",
   "execution_count": 52,
   "metadata": {},
   "outputs": [],
   "source": [
    "df_dropped_columns['What is your current occupation'] = df_dropped_columns['What is your current occupation'].fillna('Unemployed')"
   ]
  },
  {
   "attachments": {},
   "cell_type": "markdown",
   "metadata": {},
   "source": [
    "* What matters most to you in choosing a course:\n",
    "Since the 'What matters most to you in choosing a course' column has a high percentage of missing values, it might be better to drop this column."
   ]
  },
  {
   "cell_type": "code",
   "execution_count": 53,
   "metadata": {},
   "outputs": [],
   "source": [
    "df_dropped_columns.drop('What matters most to you in choosing a course', axis=1, inplace=True)"
   ]
  },
  {
   "attachments": {},
   "cell_type": "markdown",
   "metadata": {},
   "source": [
    "* Lead Profile:\n",
    "For the 'Lead Profile' column, we can replace missing values with the string \"Not Specified\"."
   ]
  },
  {
   "cell_type": "code",
   "execution_count": 54,
   "metadata": {},
   "outputs": [],
   "source": [
    "df_dropped_columns['Lead Profile'] = df_dropped_columns['Lead Profile'].fillna('Not Specified')"
   ]
  },
  {
   "attachments": {},
   "cell_type": "markdown",
   "metadata": {},
   "source": [
    "* City: For the 'City' column, we can replace missing values with the mode (most frequent value) since it's a categorical variable."
   ]
  },
  {
   "cell_type": "code",
   "execution_count": 55,
   "metadata": {},
   "outputs": [],
   "source": [
    "df_dropped_columns['City'] = df_dropped_columns['City'].fillna(df_dropped_columns['City'].mode()[0])\n"
   ]
  },
  {
   "cell_type": "code",
   "execution_count": 59,
   "metadata": {},
   "outputs": [
    {
     "data": {
      "text/plain": [
       "Prospect ID                                 0.0\n",
       "Lead Number                                 0.0\n",
       "Lead Origin                                 0.0\n",
       "Lead Source                                 0.0\n",
       "Do Not Email                                0.0\n",
       "Do Not Call                                 0.0\n",
       "Converted                                   0.0\n",
       "TotalVisits                                 0.0\n",
       "Total Time Spent on Website                 0.0\n",
       "Page Views Per Visit                        0.0\n",
       "Last Activity                               0.0\n",
       "Country                                     0.0\n",
       "Specialization                              0.0\n",
       "How did you hear about X Education          0.0\n",
       "What is your current occupation             0.0\n",
       "Search                                      0.0\n",
       "Magazine                                    0.0\n",
       "Newspaper Article                           0.0\n",
       "X Education Forums                          0.0\n",
       "Newspaper                                   0.0\n",
       "Digital Advertisement                       0.0\n",
       "Through Recommendations                     0.0\n",
       "Receive More Updates About Our Courses      0.0\n",
       "Update me on Supply Chain Content           0.0\n",
       "Get updates on DM Content                   0.0\n",
       "Lead Profile                                0.0\n",
       "City                                        0.0\n",
       "I agree to pay the amount through cheque    0.0\n",
       "A free copy of Mastering The Interview      0.0\n",
       "Last Notable Activity                       0.0\n",
       "dtype: float64"
      ]
     },
     "execution_count": 59,
     "metadata": {},
     "output_type": "execute_result"
    }
   ],
   "source": [
    "#checking Null percentages\n",
    "round(100*(df_dropped_columns.isnull().sum()/len(df_dropped_columns.index)), 2)"
   ]
  },
  {
   "cell_type": "code",
   "execution_count": 60,
   "metadata": {},
   "outputs": [],
   "source": [
    "#Now missing values are close to zero so we can drop them\n",
    "df_dropped_columns.dropna(inplace = True)"
   ]
  },
  {
   "cell_type": "code",
   "execution_count": 61,
   "metadata": {},
   "outputs": [
    {
     "data": {
      "text/plain": [
       "Prospect ID                                 0.0\n",
       "Lead Number                                 0.0\n",
       "Lead Origin                                 0.0\n",
       "Lead Source                                 0.0\n",
       "Do Not Email                                0.0\n",
       "Do Not Call                                 0.0\n",
       "Converted                                   0.0\n",
       "TotalVisits                                 0.0\n",
       "Total Time Spent on Website                 0.0\n",
       "Page Views Per Visit                        0.0\n",
       "Last Activity                               0.0\n",
       "Country                                     0.0\n",
       "Specialization                              0.0\n",
       "How did you hear about X Education          0.0\n",
       "What is your current occupation             0.0\n",
       "Search                                      0.0\n",
       "Magazine                                    0.0\n",
       "Newspaper Article                           0.0\n",
       "X Education Forums                          0.0\n",
       "Newspaper                                   0.0\n",
       "Digital Advertisement                       0.0\n",
       "Through Recommendations                     0.0\n",
       "Receive More Updates About Our Courses      0.0\n",
       "Update me on Supply Chain Content           0.0\n",
       "Get updates on DM Content                   0.0\n",
       "Lead Profile                                0.0\n",
       "City                                        0.0\n",
       "I agree to pay the amount through cheque    0.0\n",
       "A free copy of Mastering The Interview      0.0\n",
       "Last Notable Activity                       0.0\n",
       "dtype: float64"
      ]
     },
     "execution_count": 61,
     "metadata": {},
     "output_type": "execute_result"
    }
   ],
   "source": [
    "#checking Null percentages\n",
    "round(100*(df_dropped_columns.isnull().sum()/len(df_dropped_columns.index)), 2)"
   ]
  },
  {
   "attachments": {},
   "cell_type": "markdown",
   "metadata": {},
   "source": [
    "<h1>Step 3 : Exploratory Data Analysis</h1>\n"
   ]
  },
  {
   "attachments": {},
   "cell_type": "markdown",
   "metadata": {},
   "source": [
    "* Univariate Analysis:"
   ]
  }
 ],
 "metadata": {
  "kernelspec": {
   "display_name": "Python 3 (ipykernel)",
   "language": "python",
   "name": "python3"
  },
  "language_info": {
   "codemirror_mode": {
    "name": "ipython",
    "version": 3
   },
   "file_extension": ".py",
   "mimetype": "text/x-python",
   "name": "python",
   "nbconvert_exporter": "python",
   "pygments_lexer": "ipython3",
   "version": "3.9.13"
  },
  "orig_nbformat": 4
 },
 "nbformat": 4,
 "nbformat_minor": 2
}
